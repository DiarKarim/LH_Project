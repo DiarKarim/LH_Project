{
 "cells": [
  {
   "cell_type": "code",
   "execution_count": 1,
   "id": "7bae7492-09ce-4d7a-8654-9cef90e7af74",
   "metadata": {
    "tags": []
   },
   "outputs": [],
   "source": [
    "import pandas as pd\n",
    "import matplotlib.pyplot as plt\n",
    "import seaborn as sns\n",
    "from scipy.signal import find_peaks\n",
    "import numpy as np\n",
    "from scipy.signal import savgol_filter\n"
   ]
  },
  {
   "cell_type": "code",
   "execution_count": null,
   "id": "cc91f199-54f9-4073-8b00-4f2e2aaa24b1",
   "metadata": {},
   "outputs": [],
   "source": [
    "path = \"C:/Users/VR-Lab/Documents/Projects/LH_Project/Data/\"\n",
    "file = \"ptxid_55_condition_66_trial_11_time_010324_115024.json\""
   ]
  }
 ],
 "metadata": {
  "kernelspec": {
   "display_name": "Python 3 (ipykernel)",
   "language": "python",
   "name": "python3"
  },
  "language_info": {
   "codemirror_mode": {
    "name": "ipython",
    "version": 3
   },
   "file_extension": ".py",
   "mimetype": "text/x-python",
   "name": "python",
   "nbconvert_exporter": "python",
   "pygments_lexer": "ipython3",
   "version": "3.11.5"
  }
 },
 "nbformat": 4,
 "nbformat_minor": 5
}
