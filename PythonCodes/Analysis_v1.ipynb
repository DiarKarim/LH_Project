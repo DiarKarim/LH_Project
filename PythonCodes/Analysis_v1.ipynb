{
 "cells": [
  {
   "cell_type": "markdown",
   "id": "48a50b26-82a6-41ed-91dd-7313d11d9f92",
   "metadata": {
    "tags": []
   },
   "source": [
    "# Lily's physiological data analysis\n",
    "\n",
    "This script:\n",
    "\n",
    "1. loads in all the participant data\n",
    "2. Cleans up the data accordingly i.e. renames columns etc. \n",
    "3. Plots the raw data"
   ]
  },
  {
   "cell_type": "code",
   "execution_count": 2,
   "id": "36da8ce2-df6c-472e-bb14-6de5c1e30459",
   "metadata": {
    "tags": []
   },
   "outputs": [],
   "source": [
    "import pandas as pd\n",
    "import matplotlib.pyplot as plt\n",
    "import seaborn as sns\n",
    "from scipy.signal import find_peaks\n",
    "import numpy as np\n",
    "from scipy.signal import savgol_filter\n",
    "import os\n",
    "\n",
    "import pingouin as pg\n",
    "from statannot import add_stat_annotation\n",
    "\n",
    "import statsmodels.api as sm\n",
    "import statsmodels.formula.api as smf"
   ]
  },
  {
   "cell_type": "code",
   "execution_count": 3,
   "id": "ed4db752-30ed-4b93-ab51-ac7e3ff6046f",
   "metadata": {
    "tags": []
   },
   "outputs": [],
   "source": [
    "# path = \"C:/Users/VR-Lab/Documents/Projects/LH_Project/Data/\"\n",
    "path = \"C:/Users/Monter/Projects/LH_Project/Data/\""
   ]
  },
  {
   "cell_type": "markdown",
   "id": "7931abf3-99a6-4e21-a541-4dab4f8d5967",
   "metadata": {
    "tags": []
   },
   "source": [
    "### Functions"
   ]
  },
  {
   "cell_type": "code",
   "execution_count": 4,
   "id": "ba0159c4-5a6e-4e0b-a90d-475bddcf118d",
   "metadata": {
    "tags": []
   },
   "outputs": [],
   "source": [
    "def RMSSD_Compute(data_df, plotting=False):\n",
    "    \n",
    "    # Example trial from an example participant for testing and understanding HRV\n",
    "    # testmask = (df['Participant_ID'] == 'yu191230') & (df['phase'] == 'Phase_1')\n",
    "\n",
    "    # Get the values into a new variable for ease of use \n",
    "    vals = data_df['heart_rate'].values\n",
    "\n",
    "#     # Compute the sampling rate using time and number of samples \n",
    "#     trialDuration = data_df['time'].values[-1] - data_df['time'].values[0] # in seconds \n",
    "#     numbSamples = len(data_df['time'].values)\n",
    "#     sampleRate = np.round(numbSamples/trialDuration)\n",
    "\n",
    "    # Find the peaks using an arbitrary height value, i.e. ignore all peaks below that value e.g. 600\n",
    "    pks,_ = find_peaks(vals, height=750, prominence=150, distance=25)\n",
    "\n",
    "    heart_rate = len(pks) # number of peaks in a minute \n",
    "    RR = np.diff(pks)\n",
    "    rmssd = np.sqrt(np.mean(np.square(np.diff(RR)))) # Same formula as Lily's document \n",
    "    # standardDeviationOfRR = np.std(RR)\n",
    "    \n",
    "#     print(\"Val: \" + str(rmssd) + \" Type: \" + str(type(rmssd)))\n",
    "    \n",
    "    if plotting:\n",
    "        # Display plots of the heart rate and detected peaks \n",
    "        plt.plot(vals, color='r', linewidth=2)\n",
    "        plt.plot(pks, vals[pks],'xk',markersize=8)\n",
    "        plt.xlim([0,500])\n",
    "        plt.xlabel('Time / s', fontsize=14)\n",
    "        plt.ylabel('ECG', fontsize=14)\n",
    "        plt.savefig('HeartRate_Example.png', dpi=600, bbox_inches='tight')\n",
    "    \n",
    "    return rmssd"
   ]
  },
  {
   "cell_type": "markdown",
   "id": "e843788f-bcca-4194-a7eb-e33d82973606",
   "metadata": {
    "tags": []
   },
   "source": [
    "## 1. Load all participant data collected so far"
   ]
  },
  {
   "cell_type": "code",
   "execution_count": 5,
   "id": "9cd6537e-634b-4365-9ce4-efac6a0c5bec",
   "metadata": {
    "tags": []
   },
   "outputs": [
    {
     "name": "stderr",
     "output_type": "stream",
     "text": [
      "C:\\ProgramData\\Anaconda3\\lib\\site-packages\\outdated\\utils.py:14: OutdatedPackageWarning: The package pingouin is out of date. Your version is 0.5.2, the latest is 0.5.4.\n",
      "Set the environment variable OUTDATED_IGNORE=1 to disable these warnings.\n",
      "  return warn(\n"
     ]
    },
    {
     "data": {
      "text/html": [
       "<div>\n",
       "<style scoped>\n",
       "    .dataframe tbody tr th:only-of-type {\n",
       "        vertical-align: middle;\n",
       "    }\n",
       "\n",
       "    .dataframe tbody tr th {\n",
       "        vertical-align: top;\n",
       "    }\n",
       "\n",
       "    .dataframe thead th {\n",
       "        text-align: right;\n",
       "    }\n",
       "</style>\n",
       "<table border=\"1\" class=\"dataframe\">\n",
       "  <thead>\n",
       "    <tr style=\"text-align: right;\">\n",
       "      <th></th>\n",
       "      <th>heart_rate</th>\n",
       "      <th>gsr_response</th>\n",
       "      <th>time</th>\n",
       "      <th>phase</th>\n",
       "      <th>Participant_ID</th>\n",
       "      <th>Condition</th>\n",
       "      <th>Trial</th>\n",
       "    </tr>\n",
       "  </thead>\n",
       "  <tbody>\n",
       "    <tr>\n",
       "      <th>0</th>\n",
       "      <td>541</td>\n",
       "      <td>39</td>\n",
       "      <td>0.291603</td>\n",
       "      <td>startNow</td>\n",
       "      <td>AC071320</td>\n",
       "      <td>1</td>\n",
       "      <td>1</td>\n",
       "    </tr>\n",
       "    <tr>\n",
       "      <th>1</th>\n",
       "      <td>476</td>\n",
       "      <td>77</td>\n",
       "      <td>0.301579</td>\n",
       "      <td>startNow</td>\n",
       "      <td>AC071320</td>\n",
       "      <td>1</td>\n",
       "      <td>1</td>\n",
       "    </tr>\n",
       "    <tr>\n",
       "      <th>2</th>\n",
       "      <td>419</td>\n",
       "      <td>115</td>\n",
       "      <td>0.311549</td>\n",
       "      <td>startNow</td>\n",
       "      <td>AC071320</td>\n",
       "      <td>1</td>\n",
       "      <td>1</td>\n",
       "    </tr>\n",
       "  </tbody>\n",
       "</table>\n",
       "</div>"
      ],
      "text/plain": [
       "   heart_rate  gsr_response      time     phase Participant_ID Condition  \\\n",
       "0         541            39  0.291603  startNow       AC071320         1   \n",
       "1         476            77  0.301579  startNow       AC071320         1   \n",
       "2         419           115  0.311549  startNow       AC071320         1   \n",
       "\n",
       "   Trial  \n",
       "0      1  \n",
       "1      1  \n",
       "2      1  "
      ]
     },
     "execution_count": 5,
     "metadata": {},
     "output_type": "execute_result"
    }
   ],
   "source": [
    "files = os.listdir(path)\n",
    "\n",
    "tmpDF = None\n",
    "df = None\n",
    "\n",
    "for file in files:\n",
    "    if 'json' in file:\n",
    "        tmpDF = pd.read_json(path+file)\n",
    "        \n",
    "        if df is None:\n",
    "            df = tmpDF\n",
    "        else:\n",
    "            df = pd.concat((df, tmpDF))        \n",
    "df.head(3)"
   ]
  },
  {
   "cell_type": "markdown",
   "id": "61fd9984-a969-49d9-84fb-7c8a07ae77a1",
   "metadata": {
    "tags": []
   },
   "source": [
    "## 2. Clean up the data "
   ]
  },
  {
   "cell_type": "markdown",
   "id": "594ed92c-5e57-4f00-9374-83e58cfc31b2",
   "metadata": {
    "tags": []
   },
   "source": [
    "### List phases present in the experiment"
   ]
  },
  {
   "cell_type": "code",
   "execution_count": 6,
   "id": "5b65ae97-97b5-41d4-895d-04050324b4d6",
   "metadata": {
    "tags": []
   },
   "outputs": [
    {
     "data": {
      "text/html": [
       "<div>\n",
       "<style scoped>\n",
       "    .dataframe tbody tr th:only-of-type {\n",
       "        vertical-align: middle;\n",
       "    }\n",
       "\n",
       "    .dataframe tbody tr th {\n",
       "        vertical-align: top;\n",
       "    }\n",
       "\n",
       "    .dataframe thead th {\n",
       "        text-align: right;\n",
       "    }\n",
       "</style>\n",
       "<table border=\"1\" class=\"dataframe\">\n",
       "  <thead>\n",
       "    <tr style=\"text-align: right;\">\n",
       "      <th></th>\n",
       "      <th>heart_rate</th>\n",
       "      <th>gsr_response</th>\n",
       "      <th>time</th>\n",
       "      <th>phase</th>\n",
       "      <th>Participant_ID</th>\n",
       "      <th>Condition</th>\n",
       "      <th>Trial</th>\n",
       "    </tr>\n",
       "  </thead>\n",
       "  <tbody>\n",
       "    <tr>\n",
       "      <th>0</th>\n",
       "      <td>541</td>\n",
       "      <td>39</td>\n",
       "      <td>0.291603</td>\n",
       "      <td>startNow</td>\n",
       "      <td>AC071320</td>\n",
       "      <td>1</td>\n",
       "      <td>1</td>\n",
       "    </tr>\n",
       "    <tr>\n",
       "      <th>1</th>\n",
       "      <td>476</td>\n",
       "      <td>77</td>\n",
       "      <td>0.301579</td>\n",
       "      <td>startNow</td>\n",
       "      <td>AC071320</td>\n",
       "      <td>1</td>\n",
       "      <td>1</td>\n",
       "    </tr>\n",
       "    <tr>\n",
       "      <th>2</th>\n",
       "      <td>419</td>\n",
       "      <td>115</td>\n",
       "      <td>0.311549</td>\n",
       "      <td>startNow</td>\n",
       "      <td>AC071320</td>\n",
       "      <td>1</td>\n",
       "      <td>1</td>\n",
       "    </tr>\n",
       "  </tbody>\n",
       "</table>\n",
       "</div>"
      ],
      "text/plain": [
       "   heart_rate  gsr_response      time     phase Participant_ID Condition  \\\n",
       "0         541            39  0.291603  startNow       AC071320         1   \n",
       "1         476            77  0.301579  startNow       AC071320         1   \n",
       "2         419           115  0.311549  startNow       AC071320         1   \n",
       "\n",
       "   Trial  \n",
       "0      1  \n",
       "1      1  \n",
       "2      1  "
      ]
     },
     "execution_count": 6,
     "metadata": {},
     "output_type": "execute_result"
    }
   ],
   "source": [
    "participants_to_update = df.loc[df['phase'] == 'calm_1o3', 'Participant_ID'].unique()\n",
    "\n",
    "# Update \"Condition\" column to 0 for rows belonging to identified participants\n",
    "for participant in participants_to_update:\n",
    "    df.loc[df['Participant_ID'] == participant, 'Condition'] = 0\n",
    "    \n",
    "df.head(3)"
   ]
  },
  {
   "cell_type": "markdown",
   "id": "2148ef3e-0505-401d-8421-f7c0a4abf623",
   "metadata": {
    "tags": []
   },
   "source": [
    "### For ease of analysis, rename the stress and calm conditions to numbers\n",
    "\n",
    "e.g.\n",
    "stress_1o1 and calm_1o1 will become p1 and \n",
    "stress_1o2 and calm_1o2 will become p2 etc. \n",
    "\n",
    "We can afford to do this now because we separated out the conditions to 0 for calm and 1 for stress so we do not need the phases in order to tell which condition the participant experienced in the experiment\n",
    "\n",
    "This will make plotting the figures simpler, i.e. instead of seeing 6 phases (3 for the calm plut 3 for the stress conditions) we now only see 3 phases in total and we use the condition parameter to separate out which is stress and which is calm"
   ]
  },
  {
   "cell_type": "code",
   "execution_count": 7,
   "id": "7d4cbb84-df6e-413b-9e23-a18aba4bfca4",
   "metadata": {
    "tags": []
   },
   "outputs": [],
   "source": [
    "# Rename the conditions from numbers to words i.e. condition 0 = calm and condition 1 = stress \n",
    "df['Condition'] = df['Condition'].replace({0: 'Calm', 1: 'Stress'})\n",
    "df['Condition'] = df['Condition'].replace({3: 'Stress'})\n",
    "\n",
    "# Rename the 3 phases in the calm and stress conditions to phases 1 to 3\n",
    "df['phase'] = df['phase'].replace({'calm_1o3': 'Phase_1', 'stress_1o3': 'Phase_1'})\n",
    "df['phase'] = df['phase'].replace({'calm_2o3': 'Phase_2', 'stress_2o3': 'Phase_2'})\n",
    "df['phase'] = df['phase'].replace({'calm_3o3': 'Phase_3', 'stress_3o3': 'Phase_3'})\n",
    "\n",
    "# Rename calm or stress end phases to phase end \n",
    "df['phase'] = df['phase'].replace({'calm_end': 'Washout', 'stress_end': 'Washout'})\n",
    "\n",
    "# Rename to baseline for the initial baseline part of the experiment\n",
    "df['phase'] = df['phase'].replace({'end_instructions': 'Baseline'})\n"
   ]
  },
  {
   "cell_type": "code",
   "execution_count": 8,
   "id": "01304adc-1043-445d-bcc3-605b511e8681",
   "metadata": {
    "tags": []
   },
   "outputs": [
    {
     "data": {
      "text/plain": [
       "array(['Stress', 'Calm'], dtype=object)"
      ]
     },
     "execution_count": 8,
     "metadata": {},
     "output_type": "execute_result"
    }
   ],
   "source": [
    "pd.unique(df['Condition'])"
   ]
  },
  {
   "cell_type": "code",
   "execution_count": 9,
   "id": "d81b0749-ed3d-4d13-9c63-22bc01a880bf",
   "metadata": {
    "tags": []
   },
   "outputs": [
    {
     "data": {
      "text/plain": [
       "array(['startNow', 'start_experiment', 'buggy_journey',\n",
       "       'fix_buggy_instructions', 'storm_instructions', 'Baseline',\n",
       "       'Phase_1', 'Phase_2', 'Phase_3', 'Washout', 'experiment_end'],\n",
       "      dtype=object)"
      ]
     },
     "execution_count": 9,
     "metadata": {},
     "output_type": "execute_result"
    }
   ],
   "source": [
    "pd.unique(df['phase'])"
   ]
  },
  {
   "cell_type": "markdown",
   "id": "c84cf150-dde7-4a44-a411-4d8ea730007b",
   "metadata": {
    "tags": []
   },
   "source": [
    "### For the analysis, only use those phases that are relevant for your particular intervention and exclude the rest, which is what we are doing here"
   ]
  },
  {
   "cell_type": "code",
   "execution_count": 76,
   "id": "b2694e16-6d66-41dc-abeb-69b3531d649d",
   "metadata": {
    "tags": []
   },
   "outputs": [],
   "source": [
    "excludePhases = (df['phase']!='startNow') & (df['phase']!='start_experiment') & (df['phase']!='buggy_journey') & (df['phase']!='fix_buggy_instructions') & (df['phase']!='storm_instructions') & (df['phase']!='experiment_end') & (df['Participant_ID']!= 3)"
   ]
  },
  {
   "cell_type": "markdown",
   "id": "c8370eb2-f139-42e3-8179-b8e36980f086",
   "metadata": {
    "tags": []
   },
   "source": [
    "## 3. Raw data plots"
   ]
  },
  {
   "cell_type": "markdown",
   "id": "d5b7c898-4be6-4c16-aa3e-d7db396247a8",
   "metadata": {
    "tags": []
   },
   "source": [
    "### Here use the above selected phases on your plots and for the analysis to filter the data "
   ]
  },
  {
   "cell_type": "markdown",
   "id": "5913a8cb-289c-4c97-9085-7494c0242066",
   "metadata": {
    "tags": []
   },
   "source": [
    "#### For GSR we may need to normalise according to each participant's baseline values"
   ]
  },
  {
   "cell_type": "code",
   "execution_count": 11,
   "id": "c454a045-c306-4bda-ada6-d2db2fca4dfd",
   "metadata": {
    "tags": []
   },
   "outputs": [],
   "source": [
    "# We took the inverse of the resistance to convert the values to conductance \n",
    "# df['gsr_response'] = 1/df['gsr_response']"
   ]
  },
  {
   "cell_type": "code",
   "execution_count": 12,
   "id": "09feacbc-8639-47eb-bca3-d50095b95ae4",
   "metadata": {
    "tags": []
   },
   "outputs": [
    {
     "data": {
      "image/png": "[encoded data removed]",
      "text/plain": [
       "<Figure size 432x288 with 1 Axes>"
      ]
     },
     "metadata": {
      "needs_background": "light"
     },
     "output_type": "display_data"
    }
   ],
   "source": [
    "ax1 = sns.pointplot(x='phase',y='gsr_response', data=df[excludePhases], hue='Condition')\n",
    "# ax1.tick_params(axis='x', rotation=90)\n",
    "\n",
    "plt.xlabel('Phases',fontsize=14)\n",
    "plt.xticks([0,1,2,3,4], ['BL','Ph1','Ph2','Ph3','Wo'])\n",
    "plt.ylabel('GSR Conductance (mA)',fontsize=14)\n",
    "\n",
    "plt.savefig(\"GSR.png\", dpi=300)"
   ]
  },
  {
   "cell_type": "code",
   "execution_count": 13,
   "id": "ac414196-2bdc-4b04-8908-3a6aaf0fa9ea",
   "metadata": {},
   "outputs": [
    {
     "name": "stderr",
     "output_type": "stream",
     "text": [
      "C:\\ProgramData\\Anaconda3\\lib\\site-packages\\scipy\\stats\\_morestats.py:1800: UserWarning: p-value may not be accurate for N > 5000.\n",
      "  warnings.warn(\"p-value may not be accurate for N > 5000.\")\n"
     ]
    },
    {
     "data": {
      "text/html": [
       "<div>\n",
       "<style scoped>\n",
       "    .dataframe tbody tr th:only-of-type {\n",
       "        vertical-align: middle;\n",
       "    }\n",
       "\n",
       "    .dataframe tbody tr th {\n",
       "        vertical-align: top;\n",
       "    }\n",
       "\n",
       "    .dataframe thead th {\n",
       "        text-align: right;\n",
       "    }\n",
       "</style>\n",
       "<table border=\"1\" class=\"dataframe\">\n",
       "  <thead>\n",
       "    <tr style=\"text-align: right;\">\n",
       "      <th></th>\n",
       "      <th>W</th>\n",
       "      <th>pval</th>\n",
       "      <th>normal</th>\n",
       "    </tr>\n",
       "  </thead>\n",
       "  <tbody>\n",
       "    <tr>\n",
       "      <th>gsr_response</th>\n",
       "      <td>0.973095</td>\n",
       "      <td>0.0</td>\n",
       "      <td>False</td>\n",
       "    </tr>\n",
       "  </tbody>\n",
       "</table>\n",
       "</div>"
      ],
      "text/plain": [
       "                     W  pval  normal\n",
       "gsr_response  0.973095   0.0   False"
      ]
     },
     "execution_count": 13,
     "metadata": {},
     "output_type": "execute_result"
    }
   ],
   "source": [
    "pg.normality(df[excludePhases]['gsr_response'])"
   ]
  },
  {
   "cell_type": "code",
   "execution_count": 14,
   "id": "1d8bd19c-4f10-49eb-8658-e428e39a5a79",
   "metadata": {},
   "outputs": [],
   "source": [
    "# mask = (result_df['Condition'] == 'Calm')\n",
    "# print('Mean calm: ' + str(np.round(np.mean(result_df[mask]['Difference']),3)) + \" SD: \" + str(np.round(np.std(result_df[mask]['Difference']),3)))\n",
    "\n",
    "# mask = (result_df['Condition'] == 'Stress')\n",
    "# print('Mean stress: ' + str(np.round(np.mean(result_df[mask]['Difference']),3)) + \" SD: \" + str(np.round(np.std(result_df[mask]['Difference']),3)))"
   ]
  },
  {
   "cell_type": "code",
   "execution_count": 15,
   "id": "c07c36fa-4220-4f1e-a3f3-123229e37205",
   "metadata": {},
   "outputs": [
    {
     "data": {
      "image/png": "[encoded data removed]",
      "text/plain": [
       "<Figure size 432x288 with 1 Axes>"
      ]
     },
     "metadata": {
      "needs_background": "light"
     },
     "output_type": "display_data"
    }
   ],
   "source": [
    "sns.histplot(df[excludePhases]['gsr_response'],kde=True)\n",
    "plt.savefig(\"GSR distribution.png\", dpi=300)"
   ]
  },
  {
   "cell_type": "code",
   "execution_count": 16,
   "id": "d7979144-4cfd-4d0f-8fa9-f894928286bd",
   "metadata": {},
   "outputs": [],
   "source": [
    "df.dropna(inplace=True)"
   ]
  },
  {
   "cell_type": "code",
   "execution_count": 17,
   "id": "4f8594d3-aa19-4895-97a2-69270c9e78e6",
   "metadata": {},
   "outputs": [
    {
     "name": "stdout",
     "output_type": "stream",
     "text": [
      "                        Mixed Linear Model Regression Results\n",
      "======================================================================================\n",
      "Model:                     MixedLM          Dependent Variable:          gsr_response \n",
      "No. Observations:          1047538          Method:                      REML         \n",
      "No. Groups:                39               Scale:                       844.6737     \n",
      "Min. group size:           22804            Log-Likelihood:              -5016292.7907\n",
      "Max. group size:           27660            Converged:                   Yes          \n",
      "Mean group size:           26859.9                                                    \n",
      "--------------------------------------------------------------------------------------\n",
      "                                       Coef.   Std.Err.    z     P>|z|  [0.025  0.975]\n",
      "--------------------------------------------------------------------------------------\n",
      "Intercept                              484.465   24.379   19.872 0.000 436.683 532.248\n",
      "phase[T.Phase_1]                       -19.025    0.131 -144.714 0.000 -19.282 -18.767\n",
      "phase[T.Phase_2]                       -34.059    0.132 -257.645 0.000 -34.318 -33.800\n",
      "phase[T.Phase_3]                       -41.700    0.131 -317.758 0.000 -41.957 -41.443\n",
      "phase[T.Washout]                       -45.417    0.132 -343.784 0.000 -45.676 -45.158\n",
      "Condition[T.Stress]                     -2.480   34.928   -0.071 0.943 -70.938  65.978\n",
      "phase[T.Phase_1]:Condition[T.Stress]     6.105    0.186   32.791 0.000   5.740   6.470\n",
      "phase[T.Phase_2]:Condition[T.Stress]    12.391    0.187   66.317 0.000  12.025  12.757\n",
      "phase[T.Phase_3]:Condition[T.Stress]     4.680    0.185   25.309 0.000   4.318   5.042\n",
      "phase[T.Washout]:Condition[T.Stress]     7.583    0.186   40.817 0.000   7.219   7.947\n",
      "Group Var                            11886.717   54.358                               \n",
      "======================================================================================\n",
      "\n"
     ]
    }
   ],
   "source": [
    "md = smf.mixedlm(\"gsr_response ~ (phase*Condition)\", data=df[excludePhases], groups=df[excludePhases][\"Participant_ID\"])\n",
    "mdf = md.fit()\n",
    "print(mdf.summary())"
   ]
  },
  {
   "cell_type": "code",
   "execution_count": 77,
   "id": "ef9d55a3-4a21-4ad7-bf21-418e68491545",
   "metadata": {},
   "outputs": [],
   "source": [
    "newDF_GSR = df[excludePhases]"
   ]
  },
  {
   "cell_type": "markdown",
   "id": "9ca6e178-fcad-401b-89d0-d742ffbf7315",
   "metadata": {},
   "source": [
    "### Example sentence for the GSR results"
   ]
  },
  {
   "cell_type": "markdown",
   "id": "cb0d1813-3870-4f7c-95c4-0b7a58b27234",
   "metadata": {},
   "source": [
    "For the GSR responses we found a main effect of phase across all phases, where the GSR conducatance in the Stress group seemed to be overall higher at each of the phases compared to the Calm condition.    "
   ]
  },
  {
   "cell_type": "code",
   "execution_count": 82,
   "id": "4c1c0047-eaf9-4255-a035-f877d6ea40ac",
   "metadata": {},
   "outputs": [
    {
     "name": "stdout",
     "output_type": "stream",
     "text": [
      "Calm\n",
      "Mean GSR phase_1: 464.798 SD: 160.721\n",
      "Mean GSR phase_2: 450.436 SD: 165.517\n",
      "Mean GSR phase_3: 442.838 SD: 169.748\n",
      "Mean GSR Washout: 439.036 SD: 178.707\n",
      "\n",
      "Stress\n",
      "Mean GSR phase_1: 469.072 SD: 132.921\n",
      "Mean GSR phase_2: 460.315 SD: 138.776\n",
      "Mean GSR phase_3: 444.916 SD: 149.29\n",
      "Mean GSR Washout: 444.351 SD: 149.064\n"
     ]
    }
   ],
   "source": [
    "print('Calm')\n",
    "\n",
    "mask = (newDF_GSR['Condition'] == 'Calm') &  (newDF_GSR['phase'] == 'Phase_1')\n",
    "print('Mean GSR phase_1: ' + str(np.round(np.mean(newDF_GSR[mask]['gsr_response']),3)) + \" SD: \" + str(np.round(np.std(newDF_GSR[mask]['gsr_response']),3)))\n",
    "\n",
    "mask = (newDF_GSR['Condition'] == 'Calm') &  (newDF_GSR['phase'] == 'Phase_2')\n",
    "print('Mean GSR phase_2: ' + str(np.round(np.mean(newDF_GSR[mask]['gsr_response']),3)) + \" SD: \" + str(np.round(np.std(newDF_GSR[mask]['gsr_response']),3)))\n",
    "\n",
    "mask = (newDF_GSR['Condition'] == 'Calm') &  (newDF_GSR['phase'] == 'Phase_3')\n",
    "print('Mean GSR phase_3: ' + str(np.round(np.mean(newDF_GSR[mask]['gsr_response']),3)) + \" SD: \" + str(np.round(np.std(newDF_GSR[mask]['gsr_response']),3)))\n",
    "\n",
    "mask = (newDF_GSR['Condition'] == 'Calm') &  (newDF_GSR['phase'] == 'Washout')\n",
    "print('Mean GSR Washout: ' + str(np.round(np.mean(newDF_GSR[mask]['gsr_response']),3)) + \" SD: \" + str(np.round(np.std(newDF_GSR[mask]['gsr_response']),3)))\n",
    "\n",
    "print('\\nStress')\n",
    "\n",
    "mask = (newDF_GSR['Condition'] == 'Stress') &  (newDF_GSR['phase'] == 'Phase_1')\n",
    "print('Mean GSR phase_1: ' + str(np.round(np.mean(newDF_GSR[mask]['gsr_response']),3)) + \" SD: \" + str(np.round(np.std(newDF_GSR[mask]['gsr_response']),3)))\n",
    "\n",
    "mask = (newDF_GSR['Condition'] == 'Stress') &  (newDF_GSR['phase'] == 'Phase_2')\n",
    "print('Mean GSR phase_2: ' + str(np.round(np.mean(newDF_GSR[mask]['gsr_response']),3)) + \" SD: \" + str(np.round(np.std(newDF_GSR[mask]['gsr_response']),3)))\n",
    "\n",
    "mask = (newDF_GSR['Condition'] == 'Stress') &  (newDF_GSR['phase'] == 'Phase_3')\n",
    "print('Mean GSR phase_3: ' + str(np.round(np.mean(newDF_GSR[mask]['gsr_response']),3)) + \" SD: \" + str(np.round(np.std(newDF_GSR[mask]['gsr_response']),3)))\n",
    "\n",
    "mask = (newDF_GSR['Condition'] == 'Stress') &  (newDF_GSR['phase'] == 'Washout')\n",
    "print('Mean GSR Washout: ' + str(np.round(np.mean(newDF_GSR[mask]['gsr_response']),3)) + \" SD: \" + str(np.round(np.std(newDF_GSR[mask]['gsr_response']),3)))\n",
    "\n"
   ]
  },
  {
   "cell_type": "code",
   "execution_count": null,
   "id": "bb50f949-770e-47aa-bae6-4086006c75aa",
   "metadata": {},
   "outputs": [],
   "source": []
  },
  {
   "cell_type": "code",
   "execution_count": null,
   "id": "7301f03f-1315-4259-b222-599382b4f501",
   "metadata": {},
   "outputs": [],
   "source": []
  },
  {
   "cell_type": "code",
   "execution_count": 18,
   "id": "72c02886-e98e-4f0b-bd9b-e39387f75c2d",
   "metadata": {},
   "outputs": [],
   "source": [
    "# pg.mixed_anova(dv='gsr_response', between='Condition', within='phase',\n",
    "#                subject='Participant_ID', effsize=\"ng2\", data=df[excludePhases]).round(3)"
   ]
  },
  {
   "cell_type": "markdown",
   "id": "b029f3cd-1e73-4b44-b261-157862b5c6e8",
   "metadata": {
    "tags": []
   },
   "source": [
    "### Heart rate "
   ]
  },
  {
   "cell_type": "code",
   "execution_count": 19,
   "id": "2da60112-aed2-425f-a1fc-67fd7ca6af9f",
   "metadata": {
    "tags": []
   },
   "outputs": [],
   "source": [
    "# ax2 = sns.pointplot(x='phase', y='heart_rate', data=df[excludePhases], hue='Condition')\n",
    "# ax2.tick_params(axis='x', rotation=90)"
   ]
  },
  {
   "cell_type": "markdown",
   "id": "ec9ccb3e-6a3f-41bf-b32b-52125e815fb4",
   "metadata": {},
   "source": [
    "## 4. Hear-Rate-Variability (HRV) Computation"
   ]
  },
  {
   "cell_type": "code",
   "execution_count": 20,
   "id": "f9813e01-9164-4c7f-ae06-826998f7a088",
   "metadata": {
    "tags": []
   },
   "outputs": [
    {
     "data": {
      "text/plain": [
       "array(['startNow', 'start_experiment', 'buggy_journey',\n",
       "       'fix_buggy_instructions', 'storm_instructions', 'Baseline',\n",
       "       'Phase_1', 'Phase_2', 'Phase_3', 'Washout', 'experiment_end'],\n",
       "      dtype=object)"
      ]
     },
     "execution_count": 20,
     "metadata": {},
     "output_type": "execute_result"
    }
   ],
   "source": [
    "pd.unique(df['phase'])"
   ]
  },
  {
   "cell_type": "markdown",
   "id": "658e2b98-bdd4-4e67-80f4-8473b6fc88e6",
   "metadata": {
    "tags": []
   },
   "source": [
    "### Compute the Heart Rate Varibility (HRV) \n",
    "Use a window of a certain size (experiment with different window sizes) to compute this value"
   ]
  },
  {
   "cell_type": "markdown",
   "id": "f036de84-7281-419a-bbaa-e98ce8518f00",
   "metadata": {
    "tags": []
   },
   "source": [
    "### RMSSD (Root Mean Square of Successive Differences)"
   ]
  },
  {
   "cell_type": "code",
   "execution_count": 21,
   "id": "847e628b-4d71-4dd3-9a84-c8a67d95870f",
   "metadata": {
    "tags": []
   },
   "outputs": [
    {
     "name": "stdout",
     "output_type": "stream",
     "text": [
      "RMSSD: 12.976526650164866\n"
     ]
    }
   ],
   "source": [
    "testmask = (df['Participant_ID'] == 'yu191230') & (df['phase'] == 'Phase_1')\n",
    "rmssdVal = RMSSD_Compute(df[testmask])\n",
    "print('RMSSD: ' + str(rmssdVal))"
   ]
  },
  {
   "cell_type": "code",
   "execution_count": 22,
   "id": "ddcf3c44-d096-4812-98ad-97a70a09fa63",
   "metadata": {},
   "outputs": [
    {
     "data": {
      "text/plain": [
       "57.58991"
      ]
     },
     "execution_count": 22,
     "metadata": {},
     "output_type": "execute_result"
    }
   ],
   "source": [
    "df[testmask]['time'].values[-1] - df[testmask]['time'].values[0]"
   ]
  },
  {
   "cell_type": "code",
   "execution_count": 23,
   "id": "59395595-c645-4954-9020-1f63da2c417c",
   "metadata": {
    "tags": []
   },
   "outputs": [
    {
     "name": "stdout",
     "output_type": "stream",
     "text": [
      "Number of participants: 41\n"
     ]
    }
   ],
   "source": [
    "numbptx = pd.unique(df['Participant_ID'])\n",
    "print('Number of participants: ' + str(len(numbptx)))"
   ]
  },
  {
   "cell_type": "code",
   "execution_count": 24,
   "id": "a371e440-412d-4eae-b8d4-160e996a392d",
   "metadata": {},
   "outputs": [
    {
     "name": "stderr",
     "output_type": "stream",
     "text": [
      "C:\\ProgramData\\Anaconda3\\lib\\site-packages\\numpy\\core\\fromnumeric.py:3432: RuntimeWarning: Mean of empty slice.\n",
      "  return _methods._mean(a, axis=axis, dtype=dtype,\n",
      "C:\\ProgramData\\Anaconda3\\lib\\site-packages\\numpy\\core\\_methods.py:190: RuntimeWarning: invalid value encountered in double_scalars\n",
      "  ret = ret.dtype.type(ret / rcount)\n"
     ]
    },
    {
     "data": {
      "text/html": [
       "<div>\n",
       "<style scoped>\n",
       "    .dataframe tbody tr th:only-of-type {\n",
       "        vertical-align: middle;\n",
       "    }\n",
       "\n",
       "    .dataframe tbody tr th {\n",
       "        vertical-align: top;\n",
       "    }\n",
       "\n",
       "    .dataframe thead th {\n",
       "        text-align: right;\n",
       "    }\n",
       "</style>\n",
       "<table border=\"1\" class=\"dataframe\">\n",
       "  <thead>\n",
       "    <tr style=\"text-align: right;\">\n",
       "      <th></th>\n",
       "      <th>Participant_ID</th>\n",
       "      <th>Condition</th>\n",
       "      <th>phase</th>\n",
       "      <th>RMSSD</th>\n",
       "    </tr>\n",
       "  </thead>\n",
       "  <tbody>\n",
       "    <tr>\n",
       "      <th>0</th>\n",
       "      <td>3</td>\n",
       "      <td>Stress</td>\n",
       "      <td>Baseline</td>\n",
       "      <td>85.856430</td>\n",
       "    </tr>\n",
       "    <tr>\n",
       "      <th>1</th>\n",
       "      <td>3</td>\n",
       "      <td>Stress</td>\n",
       "      <td>Phase_1</td>\n",
       "      <td>66.867540</td>\n",
       "    </tr>\n",
       "    <tr>\n",
       "      <th>2</th>\n",
       "      <td>3</td>\n",
       "      <td>Stress</td>\n",
       "      <td>Phase_2</td>\n",
       "      <td>58.985470</td>\n",
       "    </tr>\n",
       "    <tr>\n",
       "      <th>3</th>\n",
       "      <td>3</td>\n",
       "      <td>Stress</td>\n",
       "      <td>Phase_3</td>\n",
       "      <td>14.633996</td>\n",
       "    </tr>\n",
       "    <tr>\n",
       "      <th>4</th>\n",
       "      <td>3</td>\n",
       "      <td>Stress</td>\n",
       "      <td>Washout</td>\n",
       "      <td>3010.246028</td>\n",
       "    </tr>\n",
       "    <tr>\n",
       "      <th>...</th>\n",
       "      <td>...</td>\n",
       "      <td>...</td>\n",
       "      <td>...</td>\n",
       "      <td>...</td>\n",
       "    </tr>\n",
       "    <tr>\n",
       "      <th>427</th>\n",
       "      <td>yu191230</td>\n",
       "      <td>Stress</td>\n",
       "      <td>buggy_journey</td>\n",
       "      <td>413.000000</td>\n",
       "    </tr>\n",
       "    <tr>\n",
       "      <th>428</th>\n",
       "      <td>yu191230</td>\n",
       "      <td>Stress</td>\n",
       "      <td>fix_buggy_instructions</td>\n",
       "      <td>20.346990</td>\n",
       "    </tr>\n",
       "    <tr>\n",
       "      <th>429</th>\n",
       "      <td>yu191230</td>\n",
       "      <td>Stress</td>\n",
       "      <td>startNow</td>\n",
       "      <td>24.050542</td>\n",
       "    </tr>\n",
       "    <tr>\n",
       "      <th>430</th>\n",
       "      <td>yu191230</td>\n",
       "      <td>Stress</td>\n",
       "      <td>start_experiment</td>\n",
       "      <td>2.280351</td>\n",
       "    </tr>\n",
       "    <tr>\n",
       "      <th>431</th>\n",
       "      <td>yu191230</td>\n",
       "      <td>Stress</td>\n",
       "      <td>storm_instructions</td>\n",
       "      <td>25.778975</td>\n",
       "    </tr>\n",
       "  </tbody>\n",
       "</table>\n",
       "<p>432 rows × 4 columns</p>\n",
       "</div>"
      ],
      "text/plain": [
       "    Participant_ID Condition                   phase        RMSSD\n",
       "0                3    Stress                Baseline    85.856430\n",
       "1                3    Stress                 Phase_1    66.867540\n",
       "2                3    Stress                 Phase_2    58.985470\n",
       "3                3    Stress                 Phase_3    14.633996\n",
       "4                3    Stress                 Washout  3010.246028\n",
       "..             ...       ...                     ...          ...\n",
       "427       yu191230    Stress           buggy_journey   413.000000\n",
       "428       yu191230    Stress  fix_buggy_instructions    20.346990\n",
       "429       yu191230    Stress                startNow    24.050542\n",
       "430       yu191230    Stress        start_experiment     2.280351\n",
       "431       yu191230    Stress      storm_instructions    25.778975\n",
       "\n",
       "[432 rows x 4 columns]"
      ]
     },
     "execution_count": 24,
     "metadata": {},
     "output_type": "execute_result"
    }
   ],
   "source": [
    "newDF = None\n",
    "newDF = df.groupby(['Participant_ID', 'Condition', 'phase']).apply(lambda x: RMSSD_Compute(x)).reset_index().rename(columns={df.index.name:'RMSSD'})\n",
    "\n",
    "newDF.rename(columns={0: \"RMSSD\"}, inplace=True)\n",
    "newDF"
   ]
  },
  {
   "cell_type": "code",
   "execution_count": 25,
   "id": "620dc2fb-82ea-4e3b-95eb-464e115a6fe5",
   "metadata": {},
   "outputs": [],
   "source": [
    "excludePhases = (newDF['phase']!='startNow') & (newDF['phase']!='start_experiment') & (newDF['phase']!='buggy_journey') & (newDF['phase']!='fix_buggy_instructions') & (newDF['phase']!='storm_instructions') & (newDF['phase']!='experiment_end') & (newDF['Participant_ID'] != 3)"
   ]
  },
  {
   "cell_type": "code",
   "execution_count": 26,
   "id": "c06c5860-cbb1-473c-9d39-3526fc4b1f9d",
   "metadata": {},
   "outputs": [],
   "source": [
    "# def RMSSD_Baseline(xdf):\n",
    "    \n",
    "#     mask0 = xdf['phase'] == 'Baseline'\n",
    "#     mask1 = xdf['phase'] == 'Phase_1'\n",
    "#     mask2 = xdf['phase'] == 'Phase_2'\n",
    "#     mask3 = xdf['phase'] == 'Phase_3'\n",
    "#     mask4 = xdf['phase'] == 'Washout'\n",
    "    \n",
    "#     phase0 = xdf[mask0]['RMSSD'] - xdf[mask0]['RMSSD']\n",
    "#     phase1 = xdf[mask1]['RMSSD'] - xdf[mask0]['RMSSD']\n",
    "#     phase2 = xdf[mask2]['RMSSD'] - xdf[mask0]['RMSSD']\n",
    "#     phase3 = xdf[mask3]['RMSSD'] - xdf[mask0]['RMSSD']\n",
    "#     phase4 = xdf[mask4]['RMSSD'] - xdf[mask0]['RMSSD']\n",
    "\n",
    "#     return phase0,phase1,phase2,phase3,phase4"
   ]
  },
  {
   "cell_type": "markdown",
   "id": "d782da0c-c9f6-471f-b4bb-bed3b812f2eb",
   "metadata": {},
   "source": [
    "### RMSSD Normalises: \n",
    "Using new approach to compute the phase to baseline differences  "
   ]
  },
  {
   "cell_type": "code",
   "execution_count": 27,
   "id": "ebb1e09e-e8fc-4810-acb4-49376edc5d6f",
   "metadata": {},
   "outputs": [],
   "source": [
    "\n",
    "# Step 1: Get the baseline RMSSD for each participant\n",
    "baseline_rmssd = newDF[excludePhases][newDF[excludePhases]['phase'] == 'Baseline'].set_index('Participant_ID')['RMSSD']\n",
    "\n",
    "# Step 2: Subtract the baseline RMSSD from each phase's RMSSD for each participant\n",
    "# Map baseline RMSSD to each row based on Participant_ID, then subtract\n",
    "newDF['RMSSD_Normed'] = newDF[excludePhases].apply(lambda row: row['RMSSD'] - baseline_rmssd.loc[row['Participant_ID']], axis=1)\n"
   ]
  },
  {
   "cell_type": "code",
   "execution_count": 28,
   "id": "9d129d66-6bdb-4895-81da-ef939e68840a",
   "metadata": {},
   "outputs": [
    {
     "data": {
      "text/html": [
       "<div>\n",
       "<style scoped>\n",
       "    .dataframe tbody tr th:only-of-type {\n",
       "        vertical-align: middle;\n",
       "    }\n",
       "\n",
       "    .dataframe tbody tr th {\n",
       "        vertical-align: top;\n",
       "    }\n",
       "\n",
       "    .dataframe thead th {\n",
       "        text-align: right;\n",
       "    }\n",
       "</style>\n",
       "<table border=\"1\" class=\"dataframe\">\n",
       "  <thead>\n",
       "    <tr style=\"text-align: right;\">\n",
       "      <th></th>\n",
       "      <th>Participant_ID</th>\n",
       "      <th>Condition</th>\n",
       "      <th>phase</th>\n",
       "      <th>RMSSD</th>\n",
       "      <th>RMSSD_Normed</th>\n",
       "    </tr>\n",
       "  </thead>\n",
       "  <tbody>\n",
       "    <tr>\n",
       "      <th>10</th>\n",
       "      <td>AC071320</td>\n",
       "      <td>Stress</td>\n",
       "      <td>Baseline</td>\n",
       "      <td>61.916321</td>\n",
       "      <td>0.000000</td>\n",
       "    </tr>\n",
       "    <tr>\n",
       "      <th>11</th>\n",
       "      <td>AC071320</td>\n",
       "      <td>Stress</td>\n",
       "      <td>Phase_1</td>\n",
       "      <td>125.932734</td>\n",
       "      <td>64.016414</td>\n",
       "    </tr>\n",
       "    <tr>\n",
       "      <th>12</th>\n",
       "      <td>AC071320</td>\n",
       "      <td>Stress</td>\n",
       "      <td>Phase_2</td>\n",
       "      <td>195.062709</td>\n",
       "      <td>133.146388</td>\n",
       "    </tr>\n",
       "    <tr>\n",
       "      <th>13</th>\n",
       "      <td>AC071320</td>\n",
       "      <td>Stress</td>\n",
       "      <td>Phase_3</td>\n",
       "      <td>160.551419</td>\n",
       "      <td>98.635098</td>\n",
       "    </tr>\n",
       "    <tr>\n",
       "      <th>14</th>\n",
       "      <td>AC071320</td>\n",
       "      <td>Stress</td>\n",
       "      <td>Washout</td>\n",
       "      <td>84.182225</td>\n",
       "      <td>22.265905</td>\n",
       "    </tr>\n",
       "    <tr>\n",
       "      <th>...</th>\n",
       "      <td>...</td>\n",
       "      <td>...</td>\n",
       "      <td>...</td>\n",
       "      <td>...</td>\n",
       "      <td>...</td>\n",
       "    </tr>\n",
       "    <tr>\n",
       "      <th>422</th>\n",
       "      <td>yu191230</td>\n",
       "      <td>Stress</td>\n",
       "      <td>Baseline</td>\n",
       "      <td>28.893598</td>\n",
       "      <td>0.000000</td>\n",
       "    </tr>\n",
       "    <tr>\n",
       "      <th>423</th>\n",
       "      <td>yu191230</td>\n",
       "      <td>Stress</td>\n",
       "      <td>Phase_1</td>\n",
       "      <td>12.976527</td>\n",
       "      <td>-15.917071</td>\n",
       "    </tr>\n",
       "    <tr>\n",
       "      <th>424</th>\n",
       "      <td>yu191230</td>\n",
       "      <td>Stress</td>\n",
       "      <td>Phase_2</td>\n",
       "      <td>56.628589</td>\n",
       "      <td>27.734991</td>\n",
       "    </tr>\n",
       "    <tr>\n",
       "      <th>425</th>\n",
       "      <td>yu191230</td>\n",
       "      <td>Stress</td>\n",
       "      <td>Phase_3</td>\n",
       "      <td>225.147473</td>\n",
       "      <td>196.253875</td>\n",
       "    </tr>\n",
       "    <tr>\n",
       "      <th>426</th>\n",
       "      <td>yu191230</td>\n",
       "      <td>Stress</td>\n",
       "      <td>Washout</td>\n",
       "      <td>5.060310</td>\n",
       "      <td>-23.833287</td>\n",
       "    </tr>\n",
       "  </tbody>\n",
       "</table>\n",
       "<p>195 rows × 5 columns</p>\n",
       "</div>"
      ],
      "text/plain": [
       "    Participant_ID Condition     phase       RMSSD  RMSSD_Normed\n",
       "10        AC071320    Stress  Baseline   61.916321      0.000000\n",
       "11        AC071320    Stress   Phase_1  125.932734     64.016414\n",
       "12        AC071320    Stress   Phase_2  195.062709    133.146388\n",
       "13        AC071320    Stress   Phase_3  160.551419     98.635098\n",
       "14        AC071320    Stress   Washout   84.182225     22.265905\n",
       "..             ...       ...       ...         ...           ...\n",
       "422       yu191230    Stress  Baseline   28.893598      0.000000\n",
       "423       yu191230    Stress   Phase_1   12.976527    -15.917071\n",
       "424       yu191230    Stress   Phase_2   56.628589     27.734991\n",
       "425       yu191230    Stress   Phase_3  225.147473    196.253875\n",
       "426       yu191230    Stress   Washout    5.060310    -23.833287\n",
       "\n",
       "[195 rows x 5 columns]"
      ]
     },
     "execution_count": 28,
     "metadata": {},
     "output_type": "execute_result"
    }
   ],
   "source": [
    "newDF[excludePhases]"
   ]
  },
  {
   "cell_type": "code",
   "execution_count": 29,
   "id": "74f95c3a-b328-4092-beff-80b6617797d1",
   "metadata": {},
   "outputs": [],
   "source": [
    "excludeBase = (newDF['phase']!='Baseline') & (newDF['phase']!='startNow') & (newDF['phase']!='start_experiment') & (newDF['phase']!='buggy_journey') & (newDF['phase']!='fix_buggy_instructions') & (newDF['phase']!='storm_instructions') & (newDF['phase']!='experiment_end') & (newDF['Participant_ID'] != 3)"
   ]
  },
  {
   "cell_type": "code",
   "execution_count": 30,
   "id": "da8ea7f0-7347-4ea0-9ce1-ff1fdb4c1c99",
   "metadata": {},
   "outputs": [
    {
     "name": "stderr",
     "output_type": "stream",
     "text": [
      "<ipython-input-30-7151eb4f9322>:5: MatplotlibDeprecationWarning: savefig() got unexpected keyword argument \"bbox_inch\" which is no longer supported as of 3.3 and will become an error two minor releases later\n",
      "  plt.savefig('RMSSD_Normed.png', dpi=350, bbox_inch=True)\n"
     ]
    },
    {
     "data": {
      "text/plain": [
       "(-50.0, 50.0)"
      ]
     },
     "execution_count": 30,
     "metadata": {},
     "output_type": "execute_result"
    },
    {
     "data": {
      "image/png": "[encoded data removed]",
      "text/plain": [
       "<Figure size 432x288 with 1 Axes>"
      ]
     },
     "metadata": {
      "needs_background": "light"
     },
     "output_type": "display_data"
    }
   ],
   "source": [
    "ax1 = sns.boxplot(data=newDF[excludeBase], x='phase', y='RMSSD_Normed',hue='Condition')\n",
    "ax1.tick_params(axis='x', rotation=90)\n",
    "plt.xlabel('Phases',fontsize=14)\n",
    "plt.ylabel('Normalised RMSSD (ms)',fontsize=14)\n",
    "plt.savefig('RMSSD_Normed.png', dpi=350, bbox_inch=True)\n",
    "plt.ylim([-50,50])"
   ]
  },
  {
   "cell_type": "code",
   "execution_count": 50,
   "id": "4934f7af-b76e-4d77-b8e4-5993eaec3460",
   "metadata": {},
   "outputs": [
    {
     "data": {
      "text/plain": [
       "41"
      ]
     },
     "execution_count": 50,
     "metadata": {},
     "output_type": "execute_result"
    }
   ],
   "source": [
    "len(pd.unique(newDF['Participant_ID']))"
   ]
  },
  {
   "cell_type": "code",
   "execution_count": 31,
   "id": "2ff672bd-a927-43a4-8d3c-065806ba248b",
   "metadata": {},
   "outputs": [
    {
     "data": {
      "text/html": [
       "<div>\n",
       "<style scoped>\n",
       "    .dataframe tbody tr th:only-of-type {\n",
       "        vertical-align: middle;\n",
       "    }\n",
       "\n",
       "    .dataframe tbody tr th {\n",
       "        vertical-align: top;\n",
       "    }\n",
       "\n",
       "    .dataframe thead th {\n",
       "        text-align: right;\n",
       "    }\n",
       "</style>\n",
       "<table border=\"1\" class=\"dataframe\">\n",
       "  <thead>\n",
       "    <tr style=\"text-align: right;\">\n",
       "      <th></th>\n",
       "      <th>W</th>\n",
       "      <th>pval</th>\n",
       "      <th>normal</th>\n",
       "    </tr>\n",
       "  </thead>\n",
       "  <tbody>\n",
       "    <tr>\n",
       "      <th>RMSSD_Normed</th>\n",
       "      <td>0.500737</td>\n",
       "      <td>1.447116e-19</td>\n",
       "      <td>False</td>\n",
       "    </tr>\n",
       "  </tbody>\n",
       "</table>\n",
       "</div>"
      ],
      "text/plain": [
       "                     W          pval  normal\n",
       "RMSSD_Normed  0.500737  1.447116e-19   False"
      ]
     },
     "execution_count": 31,
     "metadata": {},
     "output_type": "execute_result"
    },
    {
     "data": {
      "image/png": "[encoded data removed]",
      "text/plain": [
       "<Figure size 432x288 with 1 Axes>"
      ]
     },
     "metadata": {
      "needs_background": "light"
     },
     "output_type": "display_data"
    }
   ],
   "source": [
    "sns.histplot(newDF[excludeBase]['RMSSD_Normed'],kde=True)\n",
    "pg.normality(newDF[excludeBase]['RMSSD_Normed'])"
   ]
  },
  {
   "cell_type": "markdown",
   "id": "dc255247-8ec9-4801-8388-91c81525119e",
   "metadata": {},
   "source": [
    "### Take out outliers from the RMSSD Normalised data"
   ]
  },
  {
   "cell_type": "code",
   "execution_count": 49,
   "id": "147e1528-4fcb-48fe-a71e-7dd8d55d777b",
   "metadata": {},
   "outputs": [
    {
     "data": {
      "text/plain": [
       "39"
      ]
     },
     "execution_count": 49,
     "metadata": {},
     "output_type": "execute_result"
    }
   ],
   "source": [
    "len(pd.unique(newDF_nB['Participant_ID']))"
   ]
  },
  {
   "cell_type": "code",
   "execution_count": 32,
   "id": "0b447685-2fd9-4048-aa7a-bedc0f5f722a",
   "metadata": {},
   "outputs": [
    {
     "data": {
      "text/html": [
       "<div>\n",
       "<style scoped>\n",
       "    .dataframe tbody tr th:only-of-type {\n",
       "        vertical-align: middle;\n",
       "    }\n",
       "\n",
       "    .dataframe tbody tr th {\n",
       "        vertical-align: top;\n",
       "    }\n",
       "\n",
       "    .dataframe thead th {\n",
       "        text-align: right;\n",
       "    }\n",
       "</style>\n",
       "<table border=\"1\" class=\"dataframe\">\n",
       "  <thead>\n",
       "    <tr style=\"text-align: right;\">\n",
       "      <th></th>\n",
       "      <th>Participant_ID</th>\n",
       "      <th>Condition</th>\n",
       "      <th>phase</th>\n",
       "      <th>RMSSD</th>\n",
       "      <th>RMSSD_Normed</th>\n",
       "    </tr>\n",
       "  </thead>\n",
       "  <tbody>\n",
       "    <tr>\n",
       "      <th>11</th>\n",
       "      <td>AC071320</td>\n",
       "      <td>Stress</td>\n",
       "      <td>Phase_1</td>\n",
       "      <td>125.932734</td>\n",
       "      <td>64.016414</td>\n",
       "    </tr>\n",
       "    <tr>\n",
       "      <th>12</th>\n",
       "      <td>AC071320</td>\n",
       "      <td>Stress</td>\n",
       "      <td>Phase_2</td>\n",
       "      <td>195.062709</td>\n",
       "      <td>133.146388</td>\n",
       "    </tr>\n",
       "    <tr>\n",
       "      <th>13</th>\n",
       "      <td>AC071320</td>\n",
       "      <td>Stress</td>\n",
       "      <td>Phase_3</td>\n",
       "      <td>160.551419</td>\n",
       "      <td>98.635098</td>\n",
       "    </tr>\n",
       "    <tr>\n",
       "      <th>14</th>\n",
       "      <td>AC071320</td>\n",
       "      <td>Stress</td>\n",
       "      <td>Washout</td>\n",
       "      <td>84.182225</td>\n",
       "      <td>22.265905</td>\n",
       "    </tr>\n",
       "    <tr>\n",
       "      <th>22</th>\n",
       "      <td>AM051035</td>\n",
       "      <td>Calm</td>\n",
       "      <td>Phase_1</td>\n",
       "      <td>36.725050</td>\n",
       "      <td>20.920691</td>\n",
       "    </tr>\n",
       "    <tr>\n",
       "      <th>...</th>\n",
       "      <td>...</td>\n",
       "      <td>...</td>\n",
       "      <td>...</td>\n",
       "      <td>...</td>\n",
       "      <td>...</td>\n",
       "    </tr>\n",
       "    <tr>\n",
       "      <th>416</th>\n",
       "      <td>xd</td>\n",
       "      <td>Calm</td>\n",
       "      <td>Washout</td>\n",
       "      <td>10.873803</td>\n",
       "      <td>-2.567855</td>\n",
       "    </tr>\n",
       "    <tr>\n",
       "      <th>423</th>\n",
       "      <td>yu191230</td>\n",
       "      <td>Stress</td>\n",
       "      <td>Phase_1</td>\n",
       "      <td>12.976527</td>\n",
       "      <td>-15.917071</td>\n",
       "    </tr>\n",
       "    <tr>\n",
       "      <th>424</th>\n",
       "      <td>yu191230</td>\n",
       "      <td>Stress</td>\n",
       "      <td>Phase_2</td>\n",
       "      <td>56.628589</td>\n",
       "      <td>27.734991</td>\n",
       "    </tr>\n",
       "    <tr>\n",
       "      <th>425</th>\n",
       "      <td>yu191230</td>\n",
       "      <td>Stress</td>\n",
       "      <td>Phase_3</td>\n",
       "      <td>225.147473</td>\n",
       "      <td>196.253875</td>\n",
       "    </tr>\n",
       "    <tr>\n",
       "      <th>426</th>\n",
       "      <td>yu191230</td>\n",
       "      <td>Stress</td>\n",
       "      <td>Washout</td>\n",
       "      <td>5.060310</td>\n",
       "      <td>-23.833287</td>\n",
       "    </tr>\n",
       "  </tbody>\n",
       "</table>\n",
       "<p>156 rows × 5 columns</p>\n",
       "</div>"
      ],
      "text/plain": [
       "    Participant_ID Condition    phase       RMSSD  RMSSD_Normed\n",
       "11        AC071320    Stress  Phase_1  125.932734     64.016414\n",
       "12        AC071320    Stress  Phase_2  195.062709    133.146388\n",
       "13        AC071320    Stress  Phase_3  160.551419     98.635098\n",
       "14        AC071320    Stress  Washout   84.182225     22.265905\n",
       "22        AM051035      Calm  Phase_1   36.725050     20.920691\n",
       "..             ...       ...      ...         ...           ...\n",
       "416             xd      Calm  Washout   10.873803     -2.567855\n",
       "423       yu191230    Stress  Phase_1   12.976527    -15.917071\n",
       "424       yu191230    Stress  Phase_2   56.628589     27.734991\n",
       "425       yu191230    Stress  Phase_3  225.147473    196.253875\n",
       "426       yu191230    Stress  Washout    5.060310    -23.833287\n",
       "\n",
       "[156 rows x 5 columns]"
      ]
     },
     "execution_count": 32,
     "metadata": {},
     "output_type": "execute_result"
    }
   ],
   "source": [
    "newDF_nB = newDF[excludeBase]\n",
    "\n",
    "newDF_nB"
   ]
  },
  {
   "cell_type": "code",
   "execution_count": 33,
   "id": "c8785f88-20a2-40cf-ba98-de69c3b5930f",
   "metadata": {},
   "outputs": [
    {
     "data": {
      "text/html": [
       "<div>\n",
       "<style scoped>\n",
       "    .dataframe tbody tr th:only-of-type {\n",
       "        vertical-align: middle;\n",
       "    }\n",
       "\n",
       "    .dataframe tbody tr th {\n",
       "        vertical-align: top;\n",
       "    }\n",
       "\n",
       "    .dataframe thead th {\n",
       "        text-align: right;\n",
       "    }\n",
       "</style>\n",
       "<table border=\"1\" class=\"dataframe\">\n",
       "  <thead>\n",
       "    <tr style=\"text-align: right;\">\n",
       "      <th></th>\n",
       "      <th>Participant_ID</th>\n",
       "      <th>Condition</th>\n",
       "      <th>phase</th>\n",
       "      <th>RMSSD</th>\n",
       "      <th>RMSSD_Normed</th>\n",
       "    </tr>\n",
       "  </thead>\n",
       "  <tbody>\n",
       "    <tr>\n",
       "      <th>14</th>\n",
       "      <td>AC071320</td>\n",
       "      <td>Stress</td>\n",
       "      <td>Washout</td>\n",
       "      <td>84.182225</td>\n",
       "      <td>22.265905</td>\n",
       "    </tr>\n",
       "    <tr>\n",
       "      <th>22</th>\n",
       "      <td>AM051035</td>\n",
       "      <td>Calm</td>\n",
       "      <td>Phase_1</td>\n",
       "      <td>36.725050</td>\n",
       "      <td>20.920691</td>\n",
       "    </tr>\n",
       "    <tr>\n",
       "      <th>23</th>\n",
       "      <td>AM051035</td>\n",
       "      <td>Calm</td>\n",
       "      <td>Phase_2</td>\n",
       "      <td>60.413437</td>\n",
       "      <td>44.609077</td>\n",
       "    </tr>\n",
       "    <tr>\n",
       "      <th>24</th>\n",
       "      <td>AM051035</td>\n",
       "      <td>Calm</td>\n",
       "      <td>Phase_3</td>\n",
       "      <td>19.983968</td>\n",
       "      <td>4.179608</td>\n",
       "    </tr>\n",
       "    <tr>\n",
       "      <th>25</th>\n",
       "      <td>AM051035</td>\n",
       "      <td>Calm</td>\n",
       "      <td>Washout</td>\n",
       "      <td>15.878893</td>\n",
       "      <td>0.074533</td>\n",
       "    </tr>\n",
       "    <tr>\n",
       "      <th>...</th>\n",
       "      <td>...</td>\n",
       "      <td>...</td>\n",
       "      <td>...</td>\n",
       "      <td>...</td>\n",
       "      <td>...</td>\n",
       "    </tr>\n",
       "    <tr>\n",
       "      <th>415</th>\n",
       "      <td>xd</td>\n",
       "      <td>Calm</td>\n",
       "      <td>Phase_3</td>\n",
       "      <td>13.664677</td>\n",
       "      <td>0.223020</td>\n",
       "    </tr>\n",
       "    <tr>\n",
       "      <th>416</th>\n",
       "      <td>xd</td>\n",
       "      <td>Calm</td>\n",
       "      <td>Washout</td>\n",
       "      <td>10.873803</td>\n",
       "      <td>-2.567855</td>\n",
       "    </tr>\n",
       "    <tr>\n",
       "      <th>423</th>\n",
       "      <td>yu191230</td>\n",
       "      <td>Stress</td>\n",
       "      <td>Phase_1</td>\n",
       "      <td>12.976527</td>\n",
       "      <td>-15.917071</td>\n",
       "    </tr>\n",
       "    <tr>\n",
       "      <th>424</th>\n",
       "      <td>yu191230</td>\n",
       "      <td>Stress</td>\n",
       "      <td>Phase_2</td>\n",
       "      <td>56.628589</td>\n",
       "      <td>27.734991</td>\n",
       "    </tr>\n",
       "    <tr>\n",
       "      <th>426</th>\n",
       "      <td>yu191230</td>\n",
       "      <td>Stress</td>\n",
       "      <td>Washout</td>\n",
       "      <td>5.060310</td>\n",
       "      <td>-23.833287</td>\n",
       "    </tr>\n",
       "  </tbody>\n",
       "</table>\n",
       "<p>109 rows × 5 columns</p>\n",
       "</div>"
      ],
      "text/plain": [
       "    Participant_ID Condition    phase      RMSSD  RMSSD_Normed\n",
       "14        AC071320    Stress  Washout  84.182225     22.265905\n",
       "22        AM051035      Calm  Phase_1  36.725050     20.920691\n",
       "23        AM051035      Calm  Phase_2  60.413437     44.609077\n",
       "24        AM051035      Calm  Phase_3  19.983968      4.179608\n",
       "25        AM051035      Calm  Washout  15.878893      0.074533\n",
       "..             ...       ...      ...        ...           ...\n",
       "415             xd      Calm  Phase_3  13.664677      0.223020\n",
       "416             xd      Calm  Washout  10.873803     -2.567855\n",
       "423       yu191230    Stress  Phase_1  12.976527    -15.917071\n",
       "424       yu191230    Stress  Phase_2  56.628589     27.734991\n",
       "426       yu191230    Stress  Washout   5.060310    -23.833287\n",
       "\n",
       "[109 rows x 5 columns]"
      ]
     },
     "execution_count": 33,
     "metadata": {},
     "output_type": "execute_result"
    }
   ],
   "source": [
    "newDF_nB2 = newDF_nB[newDF_nB['RMSSD_Normed'] < 50.0]\n",
    "newDF_nB3 = newDF_nB2[newDF_nB2['RMSSD_Normed'] > -50.0]\n",
    "\n",
    "newDF_nB3"
   ]
  },
  {
   "cell_type": "code",
   "execution_count": 48,
   "id": "84432c4d-154f-495c-bb4b-e8255f2b3f31",
   "metadata": {},
   "outputs": [
    {
     "data": {
      "text/plain": [
       "31"
      ]
     },
     "execution_count": 48,
     "metadata": {},
     "output_type": "execute_result"
    }
   ],
   "source": [
    "len(pd.unique(newDF_nB3['Participant_ID']))"
   ]
  },
  {
   "cell_type": "code",
   "execution_count": 34,
   "id": "ef81838d-7bd5-4d07-bd09-3e08a3c24736",
   "metadata": {},
   "outputs": [
    {
     "name": "stderr",
     "output_type": "stream",
     "text": [
      "<ipython-input-34-775451c6bd47>:8: MatplotlibDeprecationWarning: savefig() got unexpected keyword argument \"bbox_inch\" which is no longer supported as of 3.3 and will become an error two minor releases later\n",
      "  plt.savefig('RMSSD_Normed.png', dpi=350, bbox_inch=True)\n"
     ]
    },
    {
     "data": {
      "image/png": "[encoded data removed]",
      "text/plain": [
       "<Figure size 432x288 with 1 Axes>"
      ]
     },
     "metadata": {
      "needs_background": "light"
     },
     "output_type": "display_data"
    }
   ],
   "source": [
    "order = ['Phase_1','Phase_2','Phase_3','Washout']\n",
    "ax1 = sns.boxplot(data=newDF_nB3, x='phase', y='RMSSD_Normed',hue='Condition',order=order)\n",
    "# ax1.tick_params(axis='x', rotation=90)\n",
    "plt.xlabel('Phases',fontsize=14)\n",
    "plt.ylabel('Normalised RMSSD (ms)',fontsize=14)\n",
    "plt.xticks([0,1,2,3], ['Ph1','Ph2','Ph3','Wo'])\n",
    "\n",
    "plt.savefig('RMSSD_Normed.png', dpi=350, bbox_inch=True)\n",
    "# plt.ylim([-50,50])"
   ]
  },
  {
   "cell_type": "code",
   "execution_count": 35,
   "id": "be71238b-623f-450c-acca-ae56e429c29c",
   "metadata": {},
   "outputs": [
    {
     "data": {
      "text/html": [
       "<div>\n",
       "<style scoped>\n",
       "    .dataframe tbody tr th:only-of-type {\n",
       "        vertical-align: middle;\n",
       "    }\n",
       "\n",
       "    .dataframe tbody tr th {\n",
       "        vertical-align: top;\n",
       "    }\n",
       "\n",
       "    .dataframe thead th {\n",
       "        text-align: right;\n",
       "    }\n",
       "</style>\n",
       "<table border=\"1\" class=\"dataframe\">\n",
       "  <thead>\n",
       "    <tr style=\"text-align: right;\">\n",
       "      <th></th>\n",
       "      <th>W</th>\n",
       "      <th>pval</th>\n",
       "      <th>normal</th>\n",
       "    </tr>\n",
       "  </thead>\n",
       "  <tbody>\n",
       "    <tr>\n",
       "      <th>RMSSD_Normed</th>\n",
       "      <td>0.954332</td>\n",
       "      <td>0.000907</td>\n",
       "      <td>False</td>\n",
       "    </tr>\n",
       "  </tbody>\n",
       "</table>\n",
       "</div>"
      ],
      "text/plain": [
       "                     W      pval  normal\n",
       "RMSSD_Normed  0.954332  0.000907   False"
      ]
     },
     "execution_count": 35,
     "metadata": {},
     "output_type": "execute_result"
    },
    {
     "data": {
      "image/png": "[encoded data removed]",
      "text/plain": [
       "<Figure size 432x288 with 1 Axes>"
      ]
     },
     "metadata": {
      "needs_background": "light"
     },
     "output_type": "display_data"
    }
   ],
   "source": [
    "sns.histplot(newDF_nB3['RMSSD_Normed'],kde=True)\n",
    "pg.normality(newDF_nB3['RMSSD_Normed'])"
   ]
  },
  {
   "cell_type": "code",
   "execution_count": 61,
   "id": "39807831-a6f0-4941-8aff-e0b40db027b2",
   "metadata": {},
   "outputs": [
    {
     "name": "stdout",
     "output_type": "stream",
     "text": [
      "Calm\n",
      "Mean RMSSD phase_1: 1.427 SD: 14.425\n",
      "Mean RMSSD phase_2: 0.192 SD: 18.351\n",
      "Mean RMSSD phase_3: -3.153 SD: 15.876\n",
      "Mean RMSSD washout: -5.137 SD: 13.677\n",
      "\n",
      "Stress\n",
      "Mean RMSSD phase_1: -2.054 SD: 10.796\n",
      "Mean RMSSD phase_2: -2.241 SD: 13.306\n",
      "Mean RMSSD phase_3: -0.084 SD: 15.365\n",
      "Mean RMSSD washout: 6.293 SD: 15.44\n"
     ]
    },
    {
     "name": "stderr",
     "output_type": "stream",
     "text": [
      "<ipython-input-61-652a9edafdb6>:3: UserWarning: Boolean Series key will be reindexed to match DataFrame index.\n",
      "  mask = (newDF_nB3['phase']!='Baseline') & (newDF_nB3['phase']!='startNow') & (newDF_nB3['phase']!='start_experiment') & (newDF_nB3['phase']!='buggy_journey') & (newDF_nB3['phase']!='fix_buggy_instructions') & (newDF_nB3['phase']!='storm_instructions') & (newDF_nB3['phase']!='experiment_end') & (newDF_nB3['Participant_ID'] != 3) & (newDF_nB3[excludeBase]['Condition'] == 'Calm') &  (newDF_nB3[excludeBase]['phase'] == 'Phase_1')\n",
      "<ipython-input-61-652a9edafdb6>:6: UserWarning: Boolean Series key will be reindexed to match DataFrame index.\n",
      "  mask = (newDF_nB3['phase']!='Baseline') & (newDF_nB3['phase']!='startNow') & (newDF_nB3['phase']!='start_experiment') & (newDF_nB3['phase']!='buggy_journey') & (newDF_nB3['phase']!='fix_buggy_instructions') & (newDF_nB3['phase']!='storm_instructions') & (newDF_nB3['phase']!='experiment_end') & (newDF_nB3['Participant_ID'] != 3) & (newDF_nB3[excludeBase]['Condition'] == 'Calm') &  (newDF_nB3[excludeBase]['phase'] == 'Phase_2')\n",
      "<ipython-input-61-652a9edafdb6>:9: UserWarning: Boolean Series key will be reindexed to match DataFrame index.\n",
      "  mask = (newDF_nB3['phase']!='Baseline') & (newDF_nB3['phase']!='startNow') & (newDF_nB3['phase']!='start_experiment') & (newDF_nB3['phase']!='buggy_journey') & (newDF_nB3['phase']!='fix_buggy_instructions') & (newDF_nB3['phase']!='storm_instructions') & (newDF_nB3['phase']!='experiment_end') & (newDF_nB3['Participant_ID'] != 3) & (newDF_nB3[excludeBase]['Condition'] == 'Calm') &  (newDF_nB3[excludeBase]['phase'] == 'Phase_3')\n",
      "<ipython-input-61-652a9edafdb6>:12: UserWarning: Boolean Series key will be reindexed to match DataFrame index.\n",
      "  mask = (newDF_nB3['phase']!='Baseline') & (newDF_nB3['phase']!='startNow') & (newDF_nB3['phase']!='start_experiment') & (newDF_nB3['phase']!='buggy_journey') & (newDF_nB3['phase']!='fix_buggy_instructions') & (newDF_nB3['phase']!='storm_instructions') & (newDF_nB3['phase']!='experiment_end') & (newDF_nB3['Participant_ID'] != 3) & (newDF_nB3[excludeBase]['Condition'] == 'Calm') &  (newDF_nB3[excludeBase]['phase'] == 'Washout')\n",
      "<ipython-input-61-652a9edafdb6>:23: UserWarning: Boolean Series key will be reindexed to match DataFrame index.\n",
      "  mask = (newDF_nB3['phase']!='Baseline') & (newDF_nB3['phase']!='startNow') & (newDF_nB3['phase']!='start_experiment') & (newDF_nB3['phase']!='buggy_journey') & (newDF_nB3['phase']!='fix_buggy_instructions') & (newDF_nB3['phase']!='storm_instructions') & (newDF_nB3['phase']!='experiment_end') & (newDF_nB3['Participant_ID'] != 3) & (newDF_nB3[excludeBase]['Condition'] == 'Stress') &  (newDF_nB3[excludeBase]['phase'] == 'Phase_1')\n",
      "<ipython-input-61-652a9edafdb6>:26: UserWarning: Boolean Series key will be reindexed to match DataFrame index.\n",
      "  mask = (newDF_nB3['phase']!='Baseline') & (newDF_nB3['phase']!='startNow') & (newDF_nB3['phase']!='start_experiment') & (newDF_nB3['phase']!='buggy_journey') & (newDF_nB3['phase']!='fix_buggy_instructions') & (newDF_nB3['phase']!='storm_instructions') & (newDF_nB3['phase']!='experiment_end') & (newDF_nB3['Participant_ID'] != 3) & (newDF_nB3[excludeBase]['Condition'] == 'Stress') &  (newDF_nB3[excludeBase]['phase'] == 'Phase_2')\n",
      "<ipython-input-61-652a9edafdb6>:29: UserWarning: Boolean Series key will be reindexed to match DataFrame index.\n",
      "  mask = (newDF_nB3['phase']!='Baseline') & (newDF_nB3['phase']!='startNow') & (newDF_nB3['phase']!='start_experiment') & (newDF_nB3['phase']!='buggy_journey') & (newDF_nB3['phase']!='fix_buggy_instructions') & (newDF_nB3['phase']!='storm_instructions') & (newDF_nB3['phase']!='experiment_end') & (newDF_nB3['Participant_ID'] != 3) & (newDF_nB3[excludeBase]['Condition'] == 'Stress') &  (newDF_nB3[excludeBase]['phase'] == 'Phase_3')\n",
      "<ipython-input-61-652a9edafdb6>:32: UserWarning: Boolean Series key will be reindexed to match DataFrame index.\n",
      "  mask = (newDF_nB3['phase']!='Baseline') & (newDF_nB3['phase']!='startNow') & (newDF_nB3['phase']!='start_experiment') & (newDF_nB3['phase']!='buggy_journey') & (newDF_nB3['phase']!='fix_buggy_instructions') & (newDF_nB3['phase']!='storm_instructions') & (newDF_nB3['phase']!='experiment_end') & (newDF_nB3['Participant_ID'] != 3) & (newDF_nB3[excludeBase]['Condition'] == 'Stress') &  (newDF_nB3[excludeBase]['phase'] == 'Washout')\n"
     ]
    }
   ],
   "source": [
    "print('Calm')\n",
    "\n",
    "mask = (newDF_nB3['phase']!='Baseline') & (newDF_nB3['phase']!='startNow') & (newDF_nB3['phase']!='start_experiment') & (newDF_nB3['phase']!='buggy_journey') & (newDF_nB3['phase']!='fix_buggy_instructions') & (newDF_nB3['phase']!='storm_instructions') & (newDF_nB3['phase']!='experiment_end') & (newDF_nB3['Participant_ID'] != 3) & (newDF_nB3[excludeBase]['Condition'] == 'Calm') &  (newDF_nB3[excludeBase]['phase'] == 'Phase_1')\n",
    "print('Mean RMSSD phase_1: ' + str(np.round(np.mean(newDF_nB3[mask]['RMSSD_Normed']),3)) + \" SD: \" + str(np.round(np.std(newDF_nB3[mask]['RMSSD_Normed']),3)))\n",
    "\n",
    "mask = (newDF_nB3['phase']!='Baseline') & (newDF_nB3['phase']!='startNow') & (newDF_nB3['phase']!='start_experiment') & (newDF_nB3['phase']!='buggy_journey') & (newDF_nB3['phase']!='fix_buggy_instructions') & (newDF_nB3['phase']!='storm_instructions') & (newDF_nB3['phase']!='experiment_end') & (newDF_nB3['Participant_ID'] != 3) & (newDF_nB3[excludeBase]['Condition'] == 'Calm') &  (newDF_nB3[excludeBase]['phase'] == 'Phase_2')\n",
    "print('Mean RMSSD phase_2: ' + str(np.round(np.mean(newDF_nB3[mask]['RMSSD_Normed']),3)) + \" SD: \" + str(np.round(np.std(newDF_nB3[mask]['RMSSD_Normed']),3)))\n",
    "\n",
    "mask = (newDF_nB3['phase']!='Baseline') & (newDF_nB3['phase']!='startNow') & (newDF_nB3['phase']!='start_experiment') & (newDF_nB3['phase']!='buggy_journey') & (newDF_nB3['phase']!='fix_buggy_instructions') & (newDF_nB3['phase']!='storm_instructions') & (newDF_nB3['phase']!='experiment_end') & (newDF_nB3['Participant_ID'] != 3) & (newDF_nB3[excludeBase]['Condition'] == 'Calm') &  (newDF_nB3[excludeBase]['phase'] == 'Phase_3')\n",
    "print('Mean RMSSD phase_3: ' + str(np.round(np.mean(newDF_nB3[mask]['RMSSD_Normed']),3)) + \" SD: \" + str(np.round(np.std(newDF_nB3[mask]['RMSSD_Normed']),3)))\n",
    "\n",
    "mask = (newDF_nB3['phase']!='Baseline') & (newDF_nB3['phase']!='startNow') & (newDF_nB3['phase']!='start_experiment') & (newDF_nB3['phase']!='buggy_journey') & (newDF_nB3['phase']!='fix_buggy_instructions') & (newDF_nB3['phase']!='storm_instructions') & (newDF_nB3['phase']!='experiment_end') & (newDF_nB3['Participant_ID'] != 3) & (newDF_nB3[excludeBase]['Condition'] == 'Calm') &  (newDF_nB3[excludeBase]['phase'] == 'Washout')\n",
    "print('Mean RMSSD washout: ' + str(np.round(np.mean(newDF_nB3[mask]['RMSSD_Normed']),3)) + \" SD: \" + str(np.round(np.std(newDF_nB3[mask]['RMSSD_Normed']),3)))\n",
    "\n",
    "\n",
    "\n",
    "print('\\nStress')\n",
    "\n",
    "\n",
    "\n",
    "\n",
    "mask = (newDF_nB3['phase']!='Baseline') & (newDF_nB3['phase']!='startNow') & (newDF_nB3['phase']!='start_experiment') & (newDF_nB3['phase']!='buggy_journey') & (newDF_nB3['phase']!='fix_buggy_instructions') & (newDF_nB3['phase']!='storm_instructions') & (newDF_nB3['phase']!='experiment_end') & (newDF_nB3['Participant_ID'] != 3) & (newDF_nB3[excludeBase]['Condition'] == 'Stress') &  (newDF_nB3[excludeBase]['phase'] == 'Phase_1')\n",
    "print('Mean RMSSD phase_1: ' + str(np.round(np.mean(newDF_nB3[mask]['RMSSD_Normed']),3)) + \" SD: \" + str(np.round(np.std(newDF_nB3[mask]['RMSSD_Normed']),3)))\n",
    "\n",
    "mask = (newDF_nB3['phase']!='Baseline') & (newDF_nB3['phase']!='startNow') & (newDF_nB3['phase']!='start_experiment') & (newDF_nB3['phase']!='buggy_journey') & (newDF_nB3['phase']!='fix_buggy_instructions') & (newDF_nB3['phase']!='storm_instructions') & (newDF_nB3['phase']!='experiment_end') & (newDF_nB3['Participant_ID'] != 3) & (newDF_nB3[excludeBase]['Condition'] == 'Stress') &  (newDF_nB3[excludeBase]['phase'] == 'Phase_2')\n",
    "print('Mean RMSSD phase_2: ' + str(np.round(np.mean(newDF_nB3[mask]['RMSSD_Normed']),3)) + \" SD: \" + str(np.round(np.std(newDF_nB3[mask]['RMSSD_Normed']),3)))\n",
    "\n",
    "mask = (newDF_nB3['phase']!='Baseline') & (newDF_nB3['phase']!='startNow') & (newDF_nB3['phase']!='start_experiment') & (newDF_nB3['phase']!='buggy_journey') & (newDF_nB3['phase']!='fix_buggy_instructions') & (newDF_nB3['phase']!='storm_instructions') & (newDF_nB3['phase']!='experiment_end') & (newDF_nB3['Participant_ID'] != 3) & (newDF_nB3[excludeBase]['Condition'] == 'Stress') &  (newDF_nB3[excludeBase]['phase'] == 'Phase_3')\n",
    "print('Mean RMSSD phase_3: ' + str(np.round(np.mean(newDF_nB3[mask]['RMSSD_Normed']),3)) + \" SD: \" + str(np.round(np.std(newDF_nB3[mask]['RMSSD_Normed']),3)))\n",
    "\n",
    "mask = (newDF_nB3['phase']!='Baseline') & (newDF_nB3['phase']!='startNow') & (newDF_nB3['phase']!='start_experiment') & (newDF_nB3['phase']!='buggy_journey') & (newDF_nB3['phase']!='fix_buggy_instructions') & (newDF_nB3['phase']!='storm_instructions') & (newDF_nB3['phase']!='experiment_end') & (newDF_nB3['Participant_ID'] != 3) & (newDF_nB3[excludeBase]['Condition'] == 'Stress') &  (newDF_nB3[excludeBase]['phase'] == 'Washout')\n",
    "print('Mean RMSSD washout: ' + str(np.round(np.mean(newDF_nB3[mask]['RMSSD_Normed']),3)) + \" SD: \" + str(np.round(np.std(newDF_nB3[mask]['RMSSD_Normed']),3)))\n",
    "\n"
   ]
  },
  {
   "cell_type": "code",
   "execution_count": 68,
   "id": "607904c9-f76c-43b1-8d63-4240ed2b2b2d",
   "metadata": {},
   "outputs": [
    {
     "name": "stdout",
     "output_type": "stream",
     "text": [
      "                      Mixed Linear Model Regression Results\n",
      "=================================================================================\n",
      "Model:                     MixedLM        Dependent Variable:        RMSSD_Normed\n",
      "No. Observations:          109            Method:                    REML        \n",
      "No. Groups:                31             Scale:                     107.2125    \n",
      "Min. group size:           1              Log-Likelihood:            -415.7741   \n",
      "Max. group size:           4              Converged:                 Yes         \n",
      "Mean group size:           3.5                                                   \n",
      "---------------------------------------------------------------------------------\n",
      "                                      Coef.  Std.Err.   z    P>|z|  [0.025 0.975]\n",
      "---------------------------------------------------------------------------------\n",
      "Intercept                              1.793    4.137  0.433 0.665  -6.315  9.901\n",
      "phase[T.Phase_2]                      -2.376    3.763 -0.631 0.528  -9.751  4.999\n",
      "phase[T.Phase_3]                      -3.828    3.745 -1.022 0.307 -11.168  3.511\n",
      "phase[T.Washout]                      -5.812    3.745 -1.552 0.121 -13.152  1.528\n",
      "Condition[T.Stress]                   -6.253    6.299 -0.993 0.321 -18.599  6.094\n",
      "phase[T.Phase_2]:Condition[T.Stress]   3.252    5.763  0.564 0.573  -8.043 14.546\n",
      "phase[T.Phase_3]:Condition[T.Stress]   8.510    5.934  1.434 0.152  -3.120 20.140\n",
      "phase[T.Washout]:Condition[T.Stress]  13.399    5.766  2.324 0.020   2.098 24.700\n",
      "Group Var                            162.533    6.715                            \n",
      "=================================================================================\n",
      "\n"
     ]
    }
   ],
   "source": [
    "md = smf.mixedlm(\"RMSSD_Normed ~ (phase*Condition)\", data=newDF_nB3, groups=newDF_nB3[\"Participant_ID\"])\n",
    "mdf = md.fit()\n",
    "print(mdf.summary())"
   ]
  },
  {
   "cell_type": "code",
   "execution_count": 37,
   "id": "6ce77c4f-6010-4a2e-bbc5-f644ae37c7e6",
   "metadata": {},
   "outputs": [],
   "source": [
    "# # newDF['RMSSD_Normed'] = newDF['Participant_ID']['Baseline'] - newDF['Participant_ID']['Baseline']\n",
    "# newDFb = None\n",
    "# newDFb = newDF[excludePhases].groupby(['Participant_ID','Condition', 'phase']).apply(lambda x: RMSSD_Baseline(x)).reset_index()\n",
    "\n",
    "# newDFb"
   ]
  },
  {
   "cell_type": "code",
   "execution_count": 38,
   "id": "74b9cc9e-fb9b-4dce-b153-eedf1b877fe3",
   "metadata": {},
   "outputs": [
    {
     "name": "stderr",
     "output_type": "stream",
     "text": [
      "<ipython-input-38-c917844f94af>:5: MatplotlibDeprecationWarning: savefig() got unexpected keyword argument \"bbox_inch\" which is no longer supported as of 3.3 and will become an error two minor releases later\n",
      "  plt.savefig('RMSSD.png', dpi=350, bbox_inch=True)\n"
     ]
    },
    {
     "data": {
      "image/png": "[encoded data removed]",
      "text/plain": [
       "<Figure size 432x288 with 1 Axes>"
      ]
     },
     "metadata": {
      "needs_background": "light"
     },
     "output_type": "display_data"
    }
   ],
   "source": [
    "ax1 = sns.barplot(data=newDF[excludePhases], x='phase', y='RMSSD',hue='Condition')\n",
    "ax1.tick_params(axis='x', rotation=90)\n",
    "plt.xlabel('Phases',fontsize=14)\n",
    "plt.ylabel('RMSSD Heart Rate Variability (ms)',fontsize=14)\n",
    "plt.savefig('RMSSD.png', dpi=350, bbox_inch=True)"
   ]
  },
  {
   "cell_type": "code",
   "execution_count": 39,
   "id": "9d3250e7-d026-42c8-b113-6c1983d67a74",
   "metadata": {},
   "outputs": [
    {
     "ename": "NameError",
     "evalue": "name 'newDFb' is not defined",
     "output_type": "error",
     "traceback": [
      "\u001b[1;31m---------------------------------------------------------------------------\u001b[0m",
      "\u001b[1;31mNameError\u001b[0m                                 Traceback (most recent call last)",
      "\u001b[1;32m<ipython-input-39-de14b5372626>\u001b[0m in \u001b[0;36m<module>\u001b[1;34m\u001b[0m\n\u001b[1;32m----> 1\u001b[1;33m \u001b[0max1\u001b[0m \u001b[1;33m=\u001b[0m \u001b[0msns\u001b[0m\u001b[1;33m.\u001b[0m\u001b[0mbarplot\u001b[0m\u001b[1;33m(\u001b[0m\u001b[0mdata\u001b[0m\u001b[1;33m=\u001b[0m\u001b[0mnewDFb\u001b[0m\u001b[1;33m,\u001b[0m \u001b[0mx\u001b[0m\u001b[1;33m=\u001b[0m\u001b[1;34m'phase'\u001b[0m\u001b[1;33m,\u001b[0m \u001b[0my\u001b[0m\u001b[1;33m=\u001b[0m\u001b[1;34m'RMSSD'\u001b[0m\u001b[1;33m,\u001b[0m\u001b[0mhue\u001b[0m\u001b[1;33m=\u001b[0m\u001b[1;34m'Condition'\u001b[0m\u001b[1;33m)\u001b[0m\u001b[1;33m\u001b[0m\u001b[1;33m\u001b[0m\u001b[0m\n\u001b[0m\u001b[0;32m      2\u001b[0m \u001b[0max1\u001b[0m\u001b[1;33m.\u001b[0m\u001b[0mtick_params\u001b[0m\u001b[1;33m(\u001b[0m\u001b[0maxis\u001b[0m\u001b[1;33m=\u001b[0m\u001b[1;34m'x'\u001b[0m\u001b[1;33m,\u001b[0m \u001b[0mrotation\u001b[0m\u001b[1;33m=\u001b[0m\u001b[1;36m90\u001b[0m\u001b[1;33m)\u001b[0m\u001b[1;33m\u001b[0m\u001b[1;33m\u001b[0m\u001b[0m\n\u001b[0;32m      3\u001b[0m \u001b[1;33m\u001b[0m\u001b[0m\n\u001b[0;32m      4\u001b[0m \u001b[0mplt\u001b[0m\u001b[1;33m.\u001b[0m\u001b[0mxlabel\u001b[0m\u001b[1;33m(\u001b[0m\u001b[1;34m'Phases'\u001b[0m\u001b[1;33m,\u001b[0m\u001b[0mfontsize\u001b[0m\u001b[1;33m=\u001b[0m\u001b[1;36m14\u001b[0m\u001b[1;33m)\u001b[0m\u001b[1;33m\u001b[0m\u001b[1;33m\u001b[0m\u001b[0m\n\u001b[0;32m      5\u001b[0m \u001b[0mplt\u001b[0m\u001b[1;33m.\u001b[0m\u001b[0mylabel\u001b[0m\u001b[1;33m(\u001b[0m\u001b[1;34m'RMSSD Heart Rate Variability (ms)'\u001b[0m\u001b[1;33m,\u001b[0m\u001b[0mfontsize\u001b[0m\u001b[1;33m=\u001b[0m\u001b[1;36m14\u001b[0m\u001b[1;33m)\u001b[0m\u001b[1;33m\u001b[0m\u001b[1;33m\u001b[0m\u001b[0m\n",
      "\u001b[1;31mNameError\u001b[0m: name 'newDFb' is not defined"
     ]
    }
   ],
   "source": [
    "ax1 = sns.barplot(data=newDFb, x='phase', y='RMSSD',hue='Condition')\n",
    "ax1.tick_params(axis='x', rotation=90)\n",
    "\n",
    "plt.xlabel('Phases',fontsize=14)\n",
    "plt.ylabel('RMSSD Heart Rate Variability (ms)',fontsize=14)\n",
    "plt.savefig('RMSSD.png', dpi=350, bbox_inch=True)"
   ]
  },
  {
   "cell_type": "code",
   "execution_count": null,
   "id": "8c85b59c-b724-4725-bb94-24fcf716535c",
   "metadata": {},
   "outputs": [],
   "source": [
    "# pg.anova(dv=0, between='Condition', effsize=\"np2\", data=newDF).round(3)\n",
    "\n",
    "pg.mixed_anova(dv=0, between='Condition', within='phase',\n",
    "               subject='Participant_ID', effsize=\"ng2\", data=newDF[excludePhases]).round(3)"
   ]
  },
  {
   "cell_type": "markdown",
   "id": "ae2c9bbe-7996-4428-9567-e7f6b6c59ffd",
   "metadata": {},
   "source": [
    "## This is how to report the Linear Mixed Effect model results"
   ]
  },
  {
   "cell_type": "code",
   "execution_count": 72,
   "id": "2f27d837-cbd5-4989-93dd-2ae8d7601c58",
   "metadata": {},
   "outputs": [
    {
     "name": "stdout",
     "output_type": "stream",
     "text": [
      "beta = COEFF_value, SE = se_value, p = p_value\n"
     ]
    }
   ],
   "source": [
    "print('beta = COEFF_value, SE = se_value, p = p_value')\n",
    "\n"
   ]
  },
  {
   "cell_type": "markdown",
   "id": "e8f23d36-1ab8-4cf6-94a8-c611d5bbe725",
   "metadata": {},
   "source": [
    "Under methods\n",
    "Hardware\n",
    "\n",
    "\n",
    "We used an Valve Index (Valve Corp. WA, USA) 3D immersive VR headset, running at a frame rate of 120 Hz, through an Intel i7 central processing unit Windows 10 PC with a Nvidia GTX-1080Ti graphics processing unit. The virtual environment was created from scratch using the Unreal Engine v5.3.2 (Epic Games, NC, USA) and played through the engine directly to the headset. "
   ]
  },
  {
   "cell_type": "code",
   "execution_count": null,
   "id": "9bbd6d11-4c5a-43fd-b0b9-ae32c6ad7c4c",
   "metadata": {},
   "outputs": [],
   "source": []
  },
  {
   "cell_type": "code",
   "execution_count": null,
   "id": "fcca7a1b-22a1-4823-8b5e-99827d449ba4",
   "metadata": {},
   "outputs": [],
   "source": []
  }
 ],
 "metadata": {
  "kernelspec": {
   "display_name": "Python 3",
   "language": "python",
   "name": "python3"
  },
  "language_info": {
   "codemirror_mode": {
    "name": "ipython",
    "version": 3
   },
   "file_extension": ".py",
   "mimetype": "text/x-python",
   "name": "python",
   "nbconvert_exporter": "python",
   "pygments_lexer": "ipython3",
   "version": "3.8.8"
  }
 },
 "nbformat": 4,
 "nbformat_minor": 5
}
