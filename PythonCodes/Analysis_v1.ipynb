{
 "cells": [
  {
   "cell_type": "markdown",
   "id": "48a50b26-82a6-41ed-91dd-7313d11d9f92",
   "metadata": {
    "tags": []
   },
   "source": [
    "# Lily's physiological data analysis\n",
    "\n",
    "This script:\n",
    "\n",
    "1. loads in all the participant data\n",
    "2. Cleans up the data accordingly i.e. renames columns etc. \n",
    "3. Plots the raw data"
   ]
  },
  {
   "cell_type": "code",
   "execution_count": 3,
   "id": "36da8ce2-df6c-472e-bb14-6de5c1e30459",
   "metadata": {
    "tags": []
   },
   "outputs": [],
   "source": [
    "import pandas as pd\n",
    "import matplotlib.pyplot as plt\n",
    "import seaborn as sns\n",
    "from scipy.signal import find_peaks\n",
    "import numpy as np\n",
    "from scipy.signal import savgol_filter\n",
    "import os"
   ]
  },
  {
   "cell_type": "code",
   "execution_count": 4,
   "id": "ed4db752-30ed-4b93-ab51-ac7e3ff6046f",
   "metadata": {
    "tags": []
   },
   "outputs": [],
   "source": [
    "path = \"C:/Users/VR-Lab/Documents/Projects/LH_Project/Data/\""
   ]
  },
  {
   "cell_type": "markdown",
   "id": "7931abf3-99a6-4e21-a541-4dab4f8d5967",
   "metadata": {
    "tags": []
   },
   "source": [
    "### Functions"
   ]
  },
  {
   "cell_type": "code",
   "execution_count": 69,
   "id": "ba0159c4-5a6e-4e0b-a90d-475bddcf118d",
   "metadata": {
    "tags": []
   },
   "outputs": [],
   "source": [
    "def HRV_Compute(data_df, plotting=False):\n",
    "    \n",
    "    # Example trial from an example participant for testing and understanding HRV\n",
    "    # testmask = (df['Participant_ID'] == 'yu191230') & (df['phase'] == 'Phase_1')\n",
    "\n",
    "    # Get the values into a new variable for ease of use \n",
    "    vals = data_df['heart_rate'].values\n",
    "\n",
    "    # Compute the sampling rate using time and number of samples \n",
    "    trialDuration = data_df['time'].values[-1] - data_df['time'].values[0] # in seconds \n",
    "    numbSamples = len(data_df['time'].values)\n",
    "    sampleRate = np.round(numbSamples/trialDuration)\n",
    "\n",
    "    # Find the peaks using an arbitrary height value, i.e. ignore all peaks below that value e.g. 600\n",
    "    pks,_ = find_peaks(vals,height=750, prominence=150, distance=25)\n",
    "\n",
    "    heart_rate = len(pks) # number of peaks in a minute \n",
    "    RR = np.diff(pks)\n",
    "    rmssd = np.sqrt(np.mean(np.square(np.diff(RR)))) # Same formula as Lily's document \n",
    "    # standardDeviationOfRR = np.std(RR)\n",
    "\n",
    "    if plotting:\n",
    "        # Display plots of the heart rate and detected peaks \n",
    "        plt.plot(vals, color='r', linewidth=2)\n",
    "        plt.plot(pks, vals[pks],'xk',markersize=8)\n",
    "        plt.xlim([0,500])\n",
    "        plt.xlabel('Time / s', fontsize=14)\n",
    "        plt.ylabel('ECG', fontsize=14)\n",
    "        plt.savefig('HeartRate_Example.png', dpi=600, bbox_inches='tight')\n",
    "    \n",
    "    return rmssd"
   ]
  },
  {
   "cell_type": "markdown",
   "id": "e843788f-bcca-4194-a7eb-e33d82973606",
   "metadata": {
    "tags": []
   },
   "source": [
    "## 1. Load all participant data collected so far"
   ]
  },
  {
   "cell_type": "code",
   "execution_count": 81,
   "id": "9cd6537e-634b-4365-9ce4-efac6a0c5bec",
   "metadata": {
    "tags": []
   },
   "outputs": [
    {
     "data": {
      "text/html": [
       "<div>\n",
       "<style scoped>\n",
       "    .dataframe tbody tr th:only-of-type {\n",
       "        vertical-align: middle;\n",
       "    }\n",
       "\n",
       "    .dataframe tbody tr th {\n",
       "        vertical-align: top;\n",
       "    }\n",
       "\n",
       "    .dataframe thead th {\n",
       "        text-align: right;\n",
       "    }\n",
       "</style>\n",
       "<table border=\"1\" class=\"dataframe\">\n",
       "  <thead>\n",
       "    <tr style=\"text-align: right;\">\n",
       "      <th></th>\n",
       "      <th>heart_rate</th>\n",
       "      <th>gsr_response</th>\n",
       "      <th>time</th>\n",
       "      <th>phase</th>\n",
       "      <th>Participant_ID</th>\n",
       "      <th>Condition</th>\n",
       "      <th>Trial</th>\n",
       "    </tr>\n",
       "  </thead>\n",
       "  <tbody>\n",
       "    <tr>\n",
       "      <th>0</th>\n",
       "      <td>541</td>\n",
       "      <td>39</td>\n",
       "      <td>0.291603</td>\n",
       "      <td>startNow</td>\n",
       "      <td>AC071320</td>\n",
       "      <td>1</td>\n",
       "      <td>1</td>\n",
       "    </tr>\n",
       "    <tr>\n",
       "      <th>1</th>\n",
       "      <td>476</td>\n",
       "      <td>77</td>\n",
       "      <td>0.301579</td>\n",
       "      <td>startNow</td>\n",
       "      <td>AC071320</td>\n",
       "      <td>1</td>\n",
       "      <td>1</td>\n",
       "    </tr>\n",
       "    <tr>\n",
       "      <th>2</th>\n",
       "      <td>419</td>\n",
       "      <td>115</td>\n",
       "      <td>0.311549</td>\n",
       "      <td>startNow</td>\n",
       "      <td>AC071320</td>\n",
       "      <td>1</td>\n",
       "      <td>1</td>\n",
       "    </tr>\n",
       "  </tbody>\n",
       "</table>\n",
       "</div>"
      ],
      "text/plain": [
       "   heart_rate  gsr_response      time     phase Participant_ID Condition  \\\n",
       "0         541            39  0.291603  startNow       AC071320         1   \n",
       "1         476            77  0.301579  startNow       AC071320         1   \n",
       "2         419           115  0.311549  startNow       AC071320         1   \n",
       "\n",
       "   Trial  \n",
       "0      1  \n",
       "1      1  \n",
       "2      1  "
      ]
     },
     "execution_count": 81,
     "metadata": {},
     "output_type": "execute_result"
    }
   ],
   "source": [
    "files = os.listdir(path)\n",
    "\n",
    "tmpDF = None\n",
    "df = None\n",
    "\n",
    "for file in files:\n",
    "    if 'json' in file:\n",
    "        tmpDF = pd.read_json(path+file)\n",
    "        \n",
    "        if df is None:\n",
    "            df = tmpDF\n",
    "        else:\n",
    "            df = pd.concat((df, tmpDF))        \n",
    "df.head(3)"
   ]
  },
  {
   "cell_type": "markdown",
   "id": "61fd9984-a969-49d9-84fb-7c8a07ae77a1",
   "metadata": {
    "tags": []
   },
   "source": [
    "## 2. Clean up the data "
   ]
  },
  {
   "cell_type": "markdown",
   "id": "594ed92c-5e57-4f00-9374-83e58cfc31b2",
   "metadata": {
    "tags": []
   },
   "source": [
    "### List phases present in the experiment"
   ]
  },
  {
   "cell_type": "code",
   "execution_count": 82,
   "id": "5b65ae97-97b5-41d4-895d-04050324b4d6",
   "metadata": {
    "tags": []
   },
   "outputs": [
    {
     "data": {
      "text/html": [
       "<div>\n",
       "<style scoped>\n",
       "    .dataframe tbody tr th:only-of-type {\n",
       "        vertical-align: middle;\n",
       "    }\n",
       "\n",
       "    .dataframe tbody tr th {\n",
       "        vertical-align: top;\n",
       "    }\n",
       "\n",
       "    .dataframe thead th {\n",
       "        text-align: right;\n",
       "    }\n",
       "</style>\n",
       "<table border=\"1\" class=\"dataframe\">\n",
       "  <thead>\n",
       "    <tr style=\"text-align: right;\">\n",
       "      <th></th>\n",
       "      <th>heart_rate</th>\n",
       "      <th>gsr_response</th>\n",
       "      <th>time</th>\n",
       "      <th>phase</th>\n",
       "      <th>Participant_ID</th>\n",
       "      <th>Condition</th>\n",
       "      <th>Trial</th>\n",
       "    </tr>\n",
       "  </thead>\n",
       "  <tbody>\n",
       "    <tr>\n",
       "      <th>0</th>\n",
       "      <td>541</td>\n",
       "      <td>39</td>\n",
       "      <td>0.291603</td>\n",
       "      <td>startNow</td>\n",
       "      <td>AC071320</td>\n",
       "      <td>1</td>\n",
       "      <td>1</td>\n",
       "    </tr>\n",
       "    <tr>\n",
       "      <th>1</th>\n",
       "      <td>476</td>\n",
       "      <td>77</td>\n",
       "      <td>0.301579</td>\n",
       "      <td>startNow</td>\n",
       "      <td>AC071320</td>\n",
       "      <td>1</td>\n",
       "      <td>1</td>\n",
       "    </tr>\n",
       "    <tr>\n",
       "      <th>2</th>\n",
       "      <td>419</td>\n",
       "      <td>115</td>\n",
       "      <td>0.311549</td>\n",
       "      <td>startNow</td>\n",
       "      <td>AC071320</td>\n",
       "      <td>1</td>\n",
       "      <td>1</td>\n",
       "    </tr>\n",
       "  </tbody>\n",
       "</table>\n",
       "</div>"
      ],
      "text/plain": [
       "   heart_rate  gsr_response      time     phase Participant_ID Condition  \\\n",
       "0         541            39  0.291603  startNow       AC071320         1   \n",
       "1         476            77  0.301579  startNow       AC071320         1   \n",
       "2         419           115  0.311549  startNow       AC071320         1   \n",
       "\n",
       "   Trial  \n",
       "0      1  \n",
       "1      1  \n",
       "2      1  "
      ]
     },
     "execution_count": 82,
     "metadata": {},
     "output_type": "execute_result"
    }
   ],
   "source": [
    "participants_to_update = df.loc[df['phase'] == 'calm_1o3', 'Participant_ID'].unique()\n",
    "\n",
    "# Update \"Condition\" column to 0 for rows belonging to identified participants\n",
    "for participant in participants_to_update:\n",
    "    df.loc[df['Participant_ID'] == participant, 'Condition'] = 0\n",
    "    \n",
    "df.head(3)"
   ]
  },
  {
   "cell_type": "markdown",
   "id": "2148ef3e-0505-401d-8421-f7c0a4abf623",
   "metadata": {
    "tags": []
   },
   "source": [
    "### For ease of analysis, rename the stress and calm conditions to numbers\n",
    "\n",
    "e.g.\n",
    "stress_1o1 and calm_1o1 will become p1 and \n",
    "stress_1o2 and calm_1o2 will become p2 etc. \n",
    "\n",
    "We can afford to do this now because we separated out the conditions to 0 for calm and 1 for stress so we do not need the phases in order to tell which condition the participant experienced in the experiment\n",
    "\n",
    "This will make plotting the figures simpler, i.e. instead of seeing 6 phases (3 for the calm plut 3 for the stress conditions) we now only see 3 phases in total and we use the condition parameter to separate out which is stress and which is calm"
   ]
  },
  {
   "cell_type": "code",
   "execution_count": 83,
   "id": "7d4cbb84-df6e-413b-9e23-a18aba4bfca4",
   "metadata": {
    "tags": []
   },
   "outputs": [],
   "source": [
    "# Rename the conditions from numbers to words i.e. condition 0 = calm and condition 1 = stress \n",
    "df['Condition'] = df['Condition'].replace({0: 'Calm', 1: 'Stress'})\n",
    "df['Condition'] = df['Condition'].replace({3: 'Stress'})\n",
    "\n",
    "# Rename the 3 phases in the calm and stress conditions to phases 1 to 3\n",
    "df['phase'] = df['phase'].replace({'calm_1o3': 'Phase_1', 'stress_1o3': 'Phase_1'})\n",
    "df['phase'] = df['phase'].replace({'calm_2o3': 'Phase_2', 'stress_2o3': 'Phase_2'})\n",
    "df['phase'] = df['phase'].replace({'calm_3o3': 'Phase_3', 'stress_3o3': 'Phase_3'})\n",
    "\n",
    "# Rename calm or stress end phases to phase end \n",
    "df['phase'] = df['phase'].replace({'calm_end': 'Washout', 'stress_end': 'Washout'})\n",
    "\n",
    "# Rename to baseline for the initial baseline part of the experiment\n",
    "df['phase'] = df['phase'].replace({'end_instructions': 'Baseline'})\n"
   ]
  },
  {
   "cell_type": "code",
   "execution_count": 84,
   "id": "01304adc-1043-445d-bcc3-605b511e8681",
   "metadata": {
    "tags": []
   },
   "outputs": [
    {
     "data": {
      "text/plain": [
       "array(['Stress', 'Calm'], dtype=object)"
      ]
     },
     "execution_count": 84,
     "metadata": {},
     "output_type": "execute_result"
    }
   ],
   "source": [
    "pd.unique(df['Condition'])"
   ]
  },
  {
   "cell_type": "code",
   "execution_count": 85,
   "id": "d81b0749-ed3d-4d13-9c63-22bc01a880bf",
   "metadata": {
    "tags": []
   },
   "outputs": [
    {
     "data": {
      "text/plain": [
       "array(['startNow', 'start_experiment', 'buggy_journey',\n",
       "       'fix_buggy_instructions', 'storm_instructions', 'Baseline',\n",
       "       'Phase_1', 'Phase_2', 'Phase_3', 'Washout', 'experiment_end'],\n",
       "      dtype=object)"
      ]
     },
     "execution_count": 85,
     "metadata": {},
     "output_type": "execute_result"
    }
   ],
   "source": [
    "pd.unique(df['phase'])"
   ]
  },
  {
   "cell_type": "markdown",
   "id": "c84cf150-dde7-4a44-a411-4d8ea730007b",
   "metadata": {
    "tags": []
   },
   "source": [
    "### For the analysis, only use those phases that are relevant for your particular intervention and exclude the rest, which is what we are doing here"
   ]
  },
  {
   "cell_type": "code",
   "execution_count": 86,
   "id": "b2694e16-6d66-41dc-abeb-69b3531d649d",
   "metadata": {
    "tags": []
   },
   "outputs": [],
   "source": [
    "excludePhases = (df['phase']!='startNow') & (df['phase']!='start_experiment') & (df['phase']!='buggy_journey') & (df['phase']!='fix_buggy_instructions') & (df['phase']!='storm_instructions') & (df['phase']!='experiment_end')"
   ]
  },
  {
   "cell_type": "markdown",
   "id": "c8370eb2-f139-42e3-8179-b8e36980f086",
   "metadata": {
    "tags": []
   },
   "source": [
    "## 3. Raw data plots"
   ]
  },
  {
   "cell_type": "markdown",
   "id": "d5b7c898-4be6-4c16-aa3e-d7db396247a8",
   "metadata": {
    "tags": []
   },
   "source": [
    "### Here use the above selected phases on your plots and for the analysis to filter the data "
   ]
  },
  {
   "cell_type": "markdown",
   "id": "5913a8cb-289c-4c97-9085-7494c0242066",
   "metadata": {
    "tags": []
   },
   "source": [
    "#### For GSR we may need to normalise according to each participant's baseline values"
   ]
  },
  {
   "cell_type": "code",
   "execution_count": 87,
   "id": "c454a045-c306-4bda-ada6-d2db2fca4dfd",
   "metadata": {
    "tags": []
   },
   "outputs": [],
   "source": [
    "# We took the inverse of the resistance to convert the values to conductance \n",
    "# df['gsr_response'] = 1/df['gsr_response']"
   ]
  },
  {
   "cell_type": "code",
   "execution_count": 88,
   "id": "09feacbc-8639-47eb-bca3-d50095b95ae4",
   "metadata": {
    "tags": []
   },
   "outputs": [
    {
     "data": {
      "image/png": "[encoded data removed]",
      "text/plain": [
       "<Figure size 640x480 with 1 Axes>"
      ]
     },
     "metadata": {},
     "output_type": "display_data"
    }
   ],
   "source": [
    "ax1 = sns.pointplot(x='phase',y='gsr_response', data=df[excludePhases], hue='Condition')\n",
    "ax1.tick_params(axis='x', rotation=90)"
   ]
  },
  {
   "cell_type": "code",
   "execution_count": 97,
   "id": "9d8ab6ed-edbf-4320-b348-48aafc0a4783",
   "metadata": {
    "tags": []
   },
   "outputs": [
    {
     "data": {
      "text/plain": [
       "array(['AC071320', 'AM051035', 'AS121400S', 'AW151000', 'BG141500C',\n",
       "       'CM141600', 'EH071522S', 'FB081150', 'ff051430', 'ff141100',\n",
       "       'FK191530', 'gk141230c', 'hm191200', 'HR071630S', 'JB05114',\n",
       "       'jm140930', 'js150930', 3, 'JW16', 'KE121300C', 'ks101500',\n",
       "       'LC051345', 'LC071330C', 'LW121217S', 'MS071615C', 'NC151430',\n",
       "       'NJ191000', 'OS121430C', 'RF141630', 'RH121500S', 'RI141030C',\n",
       "       'RU1410000', 'sa191430', 'SK141430', 'TA191600', 'th191100',\n",
       "       'VR051529', 'ws041257', 'xd', 'yu191230', 'YW151300'], dtype=object)"
      ]
     },
     "execution_count": 97,
     "metadata": {},
     "output_type": "execute_result"
    }
   ],
   "source": [
    "ptxNames = pd.unique(df['Participant_ID'])\n",
    "ptxNames"
   ]
  },
  {
   "cell_type": "code",
   "execution_count": 95,
   "id": "9f395a35-d949-4ff5-8d15-d81c8b0ce9af",
   "metadata": {
    "tags": []
   },
   "outputs": [
    {
     "data": {
      "image/png": "[encoded data removed]",
      "text/plain": [
       "<Figure size 640x480 with 1 Axes>"
      ]
     },
     "metadata": {},
     "output_type": "display_data"
    }
   ],
   "source": [
    "mask = df['phase'] == 'Washout'\n",
    "ax1 = sns.boxplot(x='Participant_ID',y='gsr_response', data=df[mask], hue='Condition')\n",
    "ax1.tick_params(axis='x', rotation=90)"
   ]
  },
  {
   "cell_type": "markdown",
   "id": "b029f3cd-1e73-4b44-b261-157862b5c6e8",
   "metadata": {
    "tags": []
   },
   "source": [
    "### Heart rate "
   ]
  },
  {
   "cell_type": "code",
   "execution_count": 90,
   "id": "2da60112-aed2-425f-a1fc-67fd7ca6af9f",
   "metadata": {
    "tags": []
   },
   "outputs": [],
   "source": [
    "# ax2 = sns.pointplot(x='phase', y='heart_rate', data=df[excludePhases], hue='Condition')\n",
    "# ax2.tick_params(axis='x', rotation=90)"
   ]
  },
  {
   "cell_type": "markdown",
   "id": "ec9ccb3e-6a3f-41bf-b32b-52125e815fb4",
   "metadata": {},
   "source": [
    "## 4. Hear-Rate-Variability (HRV) Computation"
   ]
  },
  {
   "cell_type": "code",
   "execution_count": 16,
   "id": "f9813e01-9164-4c7f-ae06-826998f7a088",
   "metadata": {
    "tags": []
   },
   "outputs": [
    {
     "data": {
      "text/html": [
       "<div>\n",
       "<style scoped>\n",
       "    .dataframe tbody tr th:only-of-type {\n",
       "        vertical-align: middle;\n",
       "    }\n",
       "\n",
       "    .dataframe tbody tr th {\n",
       "        vertical-align: top;\n",
       "    }\n",
       "\n",
       "    .dataframe thead th {\n",
       "        text-align: right;\n",
       "    }\n",
       "</style>\n",
       "<table border=\"1\" class=\"dataframe\">\n",
       "  <thead>\n",
       "    <tr style=\"text-align: right;\">\n",
       "      <th></th>\n",
       "      <th>heart_rate</th>\n",
       "      <th>gsr_response</th>\n",
       "      <th>time</th>\n",
       "      <th>phase</th>\n",
       "      <th>Participant_ID</th>\n",
       "      <th>Condition</th>\n",
       "      <th>Trial</th>\n",
       "    </tr>\n",
       "  </thead>\n",
       "  <tbody>\n",
       "    <tr>\n",
       "      <th>0</th>\n",
       "      <td>541</td>\n",
       "      <td>39</td>\n",
       "      <td>0.291603</td>\n",
       "      <td>startNow</td>\n",
       "      <td>AC071320</td>\n",
       "      <td>Stress</td>\n",
       "      <td>1</td>\n",
       "    </tr>\n",
       "    <tr>\n",
       "      <th>1</th>\n",
       "      <td>476</td>\n",
       "      <td>77</td>\n",
       "      <td>0.301579</td>\n",
       "      <td>startNow</td>\n",
       "      <td>AC071320</td>\n",
       "      <td>Stress</td>\n",
       "      <td>1</td>\n",
       "    </tr>\n",
       "    <tr>\n",
       "      <th>2</th>\n",
       "      <td>419</td>\n",
       "      <td>115</td>\n",
       "      <td>0.311549</td>\n",
       "      <td>startNow</td>\n",
       "      <td>AC071320</td>\n",
       "      <td>Stress</td>\n",
       "      <td>1</td>\n",
       "    </tr>\n",
       "    <tr>\n",
       "      <th>3</th>\n",
       "      <td>368</td>\n",
       "      <td>153</td>\n",
       "      <td>0.322520</td>\n",
       "      <td>startNow</td>\n",
       "      <td>AC071320</td>\n",
       "      <td>Stress</td>\n",
       "      <td>1</td>\n",
       "    </tr>\n",
       "    <tr>\n",
       "      <th>4</th>\n",
       "      <td>344</td>\n",
       "      <td>190</td>\n",
       "      <td>0.333490</td>\n",
       "      <td>startNow</td>\n",
       "      <td>AC071320</td>\n",
       "      <td>Stress</td>\n",
       "      <td>1</td>\n",
       "    </tr>\n",
       "    <tr>\n",
       "      <th>...</th>\n",
       "      <td>...</td>\n",
       "      <td>...</td>\n",
       "      <td>...</td>\n",
       "      <td>...</td>\n",
       "      <td>...</td>\n",
       "      <td>...</td>\n",
       "      <td>...</td>\n",
       "    </tr>\n",
       "    <tr>\n",
       "      <th>33383</th>\n",
       "      <td>313</td>\n",
       "      <td>920</td>\n",
       "      <td>361.040845</td>\n",
       "      <td>experiment_end</td>\n",
       "      <td>YW151300</td>\n",
       "      <td>Calm</td>\n",
       "      <td>0</td>\n",
       "    </tr>\n",
       "    <tr>\n",
       "      <th>33384</th>\n",
       "      <td>302</td>\n",
       "      <td>918</td>\n",
       "      <td>361.050817</td>\n",
       "      <td>experiment_end</td>\n",
       "      <td>YW151300</td>\n",
       "      <td>Calm</td>\n",
       "      <td>0</td>\n",
       "    </tr>\n",
       "    <tr>\n",
       "      <th>33385</th>\n",
       "      <td>293</td>\n",
       "      <td>916</td>\n",
       "      <td>361.061789</td>\n",
       "      <td>experiment_end</td>\n",
       "      <td>YW151300</td>\n",
       "      <td>Calm</td>\n",
       "      <td>0</td>\n",
       "    </tr>\n",
       "    <tr>\n",
       "      <th>33386</th>\n",
       "      <td>277</td>\n",
       "      <td>914</td>\n",
       "      <td>361.072759</td>\n",
       "      <td>experiment_end</td>\n",
       "      <td>YW151300</td>\n",
       "      <td>Calm</td>\n",
       "      <td>0</td>\n",
       "    </tr>\n",
       "    <tr>\n",
       "      <th>33387</th>\n",
       "      <td>290</td>\n",
       "      <td>913</td>\n",
       "      <td>361.083731</td>\n",
       "      <td>experiment_end</td>\n",
       "      <td>YW151300</td>\n",
       "      <td>Calm</td>\n",
       "      <td>0</td>\n",
       "    </tr>\n",
       "  </tbody>\n",
       "</table>\n",
       "<p>1383721 rows × 7 columns</p>\n",
       "</div>"
      ],
      "text/plain": [
       "       heart_rate  gsr_response        time           phase Participant_ID  \\\n",
       "0             541            39    0.291603        startNow       AC071320   \n",
       "1             476            77    0.301579        startNow       AC071320   \n",
       "2             419           115    0.311549        startNow       AC071320   \n",
       "3             368           153    0.322520        startNow       AC071320   \n",
       "4             344           190    0.333490        startNow       AC071320   \n",
       "...           ...           ...         ...             ...            ...   \n",
       "33383         313           920  361.040845  experiment_end       YW151300   \n",
       "33384         302           918  361.050817  experiment_end       YW151300   \n",
       "33385         293           916  361.061789  experiment_end       YW151300   \n",
       "33386         277           914  361.072759  experiment_end       YW151300   \n",
       "33387         290           913  361.083731  experiment_end       YW151300   \n",
       "\n",
       "      Condition  Trial  \n",
       "0        Stress      1  \n",
       "1        Stress      1  \n",
       "2        Stress      1  \n",
       "3        Stress      1  \n",
       "4        Stress      1  \n",
       "...         ...    ...  \n",
       "33383      Calm      0  \n",
       "33384      Calm      0  \n",
       "33385      Calm      0  \n",
       "33386      Calm      0  \n",
       "33387      Calm      0  \n",
       "\n",
       "[1383721 rows x 7 columns]"
      ]
     },
     "execution_count": 16,
     "metadata": {},
     "output_type": "execute_result"
    }
   ],
   "source": [
    "df"
   ]
  },
  {
   "cell_type": "markdown",
   "id": "658e2b98-bdd4-4e67-80f4-8473b6fc88e6",
   "metadata": {
    "tags": []
   },
   "source": [
    "### Compute the Heart Rate Varibility (HRV) \n",
    "Use a window of a certain size (experiment with different window sizes) to compute this value"
   ]
  },
  {
   "cell_type": "markdown",
   "id": "f036de84-7281-419a-bbaa-e98ce8518f00",
   "metadata": {
    "tags": []
   },
   "source": [
    "### RMSSD (Root Mean Square of Successive Differences)"
   ]
  },
  {
   "cell_type": "code",
   "execution_count": 68,
   "id": "6a93de25-5d9a-4eaa-a74c-e1e9ed55f073",
   "metadata": {
    "tags": []
   },
   "outputs": [],
   "source": [
    "# # Example trial from an example participant for testing and understanding HRV\n",
    "# ptxes = pd.unique(df['Participant_ID'])\n",
    "# testmask = (df['Participant_ID'] == 'yu191230') & (df['phase'] == 'Phase_1')\n",
    "\n",
    "# # Get the values into a new variable for ease of use \n",
    "# vals = df[testmask]['heart_rate'].values\n",
    "\n",
    "# # Compute the sampling rate using time and number of samples \n",
    "# trialDuration = df[testmask]['time'].values[-1] - df[testmask]['time'].values[0] # in seconds \n",
    "# numbSamples = len(df[testmask]['time'].values)\n",
    "# sampleRate = np.round(numbSamples/trialDuration)\n",
    "# print(\"Sampling Rate: \" + str(sampleRate) + \" Hz\")\n",
    "\n",
    "# # Find the peaks using an arbitrary height value, i.e. ignore all peaks below that value e.g. 600\n",
    "# pks,_ = find_peaks(vals,height=750, prominence=150, distance=25)\n",
    "\n",
    "# heart_rate = len(pks) # number of peaks in a minute \n",
    "# RR = np.diff(pks)\n",
    "# standardDeviationOfRR = np.std(RR)\n",
    "# rmssd = np.sqrt(np.mean(np.square(np.diff(RR)))) # Same formula as Lily's document \n",
    "\n",
    "# print(\"Mean Heart Rate: \" + str(heart_rate) + \" \")\n",
    "# print(\"SD of RR: \" + str(standardDeviationOfRR) + \" \")\n",
    "# print(\"RMSSD: \" + str(rmssd) + \" \")\n",
    "# # print(\"RR: \" + str(RR) + \" \")\n",
    "\n",
    "# # Display plots of the heart rate and detected peaks \n",
    "# plt.plot(vals, color='r', linewidth=2)\n",
    "# plt.plot(pks, vals[pks],'xk',markersize=8)\n",
    "# plt.xlim([0,500])\n",
    "# plt.xlabel('Time / s', fontsize=14)\n",
    "# plt.ylabel('ECG', fontsize=14)\n",
    "\n",
    "# plt.savefig('HeartRate_Example.png', dpi=600, bbox_inches='tight')"
   ]
  },
  {
   "cell_type": "code",
   "execution_count": 72,
   "id": "847e628b-4d71-4dd3-9a84-c8a67d95870f",
   "metadata": {
    "tags": []
   },
   "outputs": [
    {
     "name": "stdout",
     "output_type": "stream",
     "text": [
      "RMSSD: 12.976526650164866\n"
     ]
    }
   ],
   "source": [
    "testmask = (df['Participant_ID'] == 'yu191230') & (df['phase'] == 'Phase_1')\n",
    "rmssdVal = HRV_Compute(df[testmask])\n",
    "print('RMSSD: ' + str(rmssdVal))"
   ]
  },
  {
   "cell_type": "code",
   "execution_count": 77,
   "id": "59395595-c645-4954-9020-1f63da2c417c",
   "metadata": {
    "tags": []
   },
   "outputs": [
    {
     "name": "stdout",
     "output_type": "stream",
     "text": [
      "Number of participants: 44\n"
     ]
    }
   ],
   "source": [
    "numbptx = pd.unique(df['Participant_ID'])\n",
    "print('Number of participants: ' + str(len(numbptx)))"
   ]
  },
  {
   "cell_type": "code",
   "execution_count": 78,
   "id": "a371e440-412d-4eae-b8d4-160e996a392d",
   "metadata": {},
   "outputs": [
    {
     "name": "stderr",
     "output_type": "stream",
     "text": [
      "C:\\ProgramData\\anaconda3\\Lib\\site-packages\\numpy\\core\\fromnumeric.py:3464: RuntimeWarning: Mean of empty slice.\n",
      "  return _methods._mean(a, axis=axis, dtype=dtype,\n",
      "C:\\ProgramData\\anaconda3\\Lib\\site-packages\\numpy\\core\\_methods.py:192: RuntimeWarning: invalid value encountered in scalar divide\n",
      "  ret = ret.dtype.type(ret / rcount)\n",
      "C:\\Users\\VR-Lab\\AppData\\Local\\Temp\\ipykernel_15152\\1510568922.py:12: RuntimeWarning: divide by zero encountered in scalar divide\n",
      "  sampleRate = np.round(numbSamples/trialDuration)\n"
     ]
    },
    {
     "data": {
      "text/plain": [
       "Participant_ID  Condition  phase                 \n",
       "3               Stress     Baseline                    85.856430\n",
       "                           Phase_1                     66.867540\n",
       "                           Phase_2                     58.985470\n",
       "                           Phase_3                     14.633996\n",
       "                           Washout                   3010.246028\n",
       "                                                        ...     \n",
       "yu191230        Stress     buggy_journey              413.000000\n",
       "                           fix_buggy_instructions      20.346990\n",
       "                           startNow                    24.050542\n",
       "                           start_experiment             2.280351\n",
       "                           storm_instructions          25.778975\n",
       "Length: 445, dtype: float64"
      ]
     },
     "execution_count": 78,
     "metadata": {},
     "output_type": "execute_result"
    }
   ],
   "source": [
    "rmssd = df.groupby(['Participant_ID', 'Condition', 'phase']).apply(lambda x: HRV_Compute(x))\n",
    "rmssd"
   ]
  },
  {
   "cell_type": "code",
   "execution_count": 80,
   "id": "f7d9b671-ca00-45d3-b3ea-aceefdf05ab7",
   "metadata": {
    "tags": []
   },
   "outputs": [
    {
     "data": {
      "text/plain": [
       "Participant_ID  Condition  phase                 \n",
       "3               Stress     Baseline                    85.856430\n",
       "                           Phase_1                     66.867540\n",
       "                           Phase_2                     58.985470\n",
       "                           Phase_3                     14.633996\n",
       "                           Washout                   3010.246028\n",
       "                                                        ...     \n",
       "yu191230        Stress     buggy_journey              413.000000\n",
       "                           fix_buggy_instructions      20.346990\n",
       "                           startNow                    24.050542\n",
       "                           start_experiment             2.280351\n",
       "                           storm_instructions          25.778975\n",
       "Length: 445, dtype: float64"
      ]
     },
     "execution_count": 80,
     "metadata": {},
     "output_type": "execute_result"
    }
   ],
   "source": [
    "rmssd"
   ]
  },
  {
   "cell_type": "code",
   "execution_count": 79,
   "id": "0f1b2418-0b6a-47e3-becf-a381c24d2c78",
   "metadata": {
    "tags": []
   },
   "outputs": [
    {
     "ename": "TypeError",
     "evalue": "incompatible index of inserted column with frame index",
     "output_type": "error",
     "traceback": [
      "\u001b[1;31m---------------------------------------------------------------------------\u001b[0m",
      "\u001b[1;31mValueError\u001b[0m                                Traceback (most recent call last)",
      "File \u001b[1;32mC:\\ProgramData\\anaconda3\\Lib\\site-packages\\pandas\\core\\frame.py:11610\u001b[0m, in \u001b[0;36m_reindex_for_setitem\u001b[1;34m(value, index)\u001b[0m\n\u001b[0;32m  11609\u001b[0m \u001b[38;5;28;01mtry\u001b[39;00m:\n\u001b[1;32m> 11610\u001b[0m     reindexed_value \u001b[38;5;241m=\u001b[39m value\u001b[38;5;241m.\u001b[39mreindex(index)\u001b[38;5;241m.\u001b[39m_values\n\u001b[0;32m  11611\u001b[0m \u001b[38;5;28;01mexcept\u001b[39;00m \u001b[38;5;167;01mValueError\u001b[39;00m \u001b[38;5;28;01mas\u001b[39;00m err:\n\u001b[0;32m  11612\u001b[0m     \u001b[38;5;66;03m# raised in MultiIndex.from_tuples, see test_insert_error_msmgs\u001b[39;00m\n",
      "File \u001b[1;32mC:\\ProgramData\\anaconda3\\Lib\\site-packages\\pandas\\core\\series.py:4918\u001b[0m, in \u001b[0;36mSeries.reindex\u001b[1;34m(self, index, axis, method, copy, level, fill_value, limit, tolerance)\u001b[0m\n\u001b[0;32m   4901\u001b[0m \u001b[38;5;129m@doc\u001b[39m(\n\u001b[0;32m   4902\u001b[0m     NDFrame\u001b[38;5;241m.\u001b[39mreindex,  \u001b[38;5;66;03m# type: ignore[has-type]\u001b[39;00m\n\u001b[0;32m   4903\u001b[0m     klass\u001b[38;5;241m=\u001b[39m_shared_doc_kwargs[\u001b[38;5;124m\"\u001b[39m\u001b[38;5;124mklass\u001b[39m\u001b[38;5;124m\"\u001b[39m],\n\u001b[1;32m   (...)\u001b[0m\n\u001b[0;32m   4916\u001b[0m     tolerance\u001b[38;5;241m=\u001b[39m\u001b[38;5;28;01mNone\u001b[39;00m,\n\u001b[0;32m   4917\u001b[0m ) \u001b[38;5;241m-\u001b[39m\u001b[38;5;241m>\u001b[39m Series:\n\u001b[1;32m-> 4918\u001b[0m     \u001b[38;5;28;01mreturn\u001b[39;00m \u001b[38;5;28msuper\u001b[39m()\u001b[38;5;241m.\u001b[39mreindex(\n\u001b[0;32m   4919\u001b[0m         index\u001b[38;5;241m=\u001b[39mindex,\n\u001b[0;32m   4920\u001b[0m         method\u001b[38;5;241m=\u001b[39mmethod,\n\u001b[0;32m   4921\u001b[0m         copy\u001b[38;5;241m=\u001b[39mcopy,\n\u001b[0;32m   4922\u001b[0m         level\u001b[38;5;241m=\u001b[39mlevel,\n\u001b[0;32m   4923\u001b[0m         fill_value\u001b[38;5;241m=\u001b[39mfill_value,\n\u001b[0;32m   4924\u001b[0m         limit\u001b[38;5;241m=\u001b[39mlimit,\n\u001b[0;32m   4925\u001b[0m         tolerance\u001b[38;5;241m=\u001b[39mtolerance,\n\u001b[0;32m   4926\u001b[0m     )\n",
      "File \u001b[1;32mC:\\ProgramData\\anaconda3\\Lib\\site-packages\\pandas\\core\\generic.py:5360\u001b[0m, in \u001b[0;36mNDFrame.reindex\u001b[1;34m(self, labels, index, columns, axis, method, copy, level, fill_value, limit, tolerance)\u001b[0m\n\u001b[0;32m   5359\u001b[0m \u001b[38;5;66;03m# perform the reindex on the axes\u001b[39;00m\n\u001b[1;32m-> 5360\u001b[0m \u001b[38;5;28;01mreturn\u001b[39;00m \u001b[38;5;28mself\u001b[39m\u001b[38;5;241m.\u001b[39m_reindex_axes(\n\u001b[0;32m   5361\u001b[0m     axes, level, limit, tolerance, method, fill_value, copy\n\u001b[0;32m   5362\u001b[0m )\u001b[38;5;241m.\u001b[39m__finalize__(\u001b[38;5;28mself\u001b[39m, method\u001b[38;5;241m=\u001b[39m\u001b[38;5;124m\"\u001b[39m\u001b[38;5;124mreindex\u001b[39m\u001b[38;5;124m\"\u001b[39m)\n",
      "File \u001b[1;32mC:\\ProgramData\\anaconda3\\Lib\\site-packages\\pandas\\core\\generic.py:5375\u001b[0m, in \u001b[0;36mNDFrame._reindex_axes\u001b[1;34m(self, axes, level, limit, tolerance, method, fill_value, copy)\u001b[0m\n\u001b[0;32m   5374\u001b[0m ax \u001b[38;5;241m=\u001b[39m \u001b[38;5;28mself\u001b[39m\u001b[38;5;241m.\u001b[39m_get_axis(a)\n\u001b[1;32m-> 5375\u001b[0m new_index, indexer \u001b[38;5;241m=\u001b[39m ax\u001b[38;5;241m.\u001b[39mreindex(\n\u001b[0;32m   5376\u001b[0m     labels, level\u001b[38;5;241m=\u001b[39mlevel, limit\u001b[38;5;241m=\u001b[39mlimit, tolerance\u001b[38;5;241m=\u001b[39mtolerance, method\u001b[38;5;241m=\u001b[39mmethod\n\u001b[0;32m   5377\u001b[0m )\n\u001b[0;32m   5379\u001b[0m axis \u001b[38;5;241m=\u001b[39m \u001b[38;5;28mself\u001b[39m\u001b[38;5;241m.\u001b[39m_get_axis_number(a)\n",
      "File \u001b[1;32mC:\\ProgramData\\anaconda3\\Lib\\site-packages\\pandas\\core\\indexes\\base.py:4279\u001b[0m, in \u001b[0;36mIndex.reindex\u001b[1;34m(self, target, method, level, limit, tolerance)\u001b[0m\n\u001b[0;32m   4277\u001b[0m             indexer, _ \u001b[38;5;241m=\u001b[39m \u001b[38;5;28mself\u001b[39m\u001b[38;5;241m.\u001b[39mget_indexer_non_unique(target)\n\u001b[1;32m-> 4279\u001b[0m target \u001b[38;5;241m=\u001b[39m \u001b[38;5;28mself\u001b[39m\u001b[38;5;241m.\u001b[39m_wrap_reindex_result(target, indexer, preserve_names)\n\u001b[0;32m   4280\u001b[0m \u001b[38;5;28;01mreturn\u001b[39;00m target, indexer\n",
      "File \u001b[1;32mC:\\ProgramData\\anaconda3\\Lib\\site-packages\\pandas\\core\\indexes\\multi.py:2490\u001b[0m, in \u001b[0;36mMultiIndex._wrap_reindex_result\u001b[1;34m(self, target, indexer, preserve_names)\u001b[0m\n\u001b[0;32m   2489\u001b[0m \u001b[38;5;28;01mtry\u001b[39;00m:\n\u001b[1;32m-> 2490\u001b[0m     target \u001b[38;5;241m=\u001b[39m MultiIndex\u001b[38;5;241m.\u001b[39mfrom_tuples(target)\n\u001b[0;32m   2491\u001b[0m \u001b[38;5;28;01mexcept\u001b[39;00m \u001b[38;5;167;01mTypeError\u001b[39;00m:\n\u001b[0;32m   2492\u001b[0m     \u001b[38;5;66;03m# not all tuples, see test_constructor_dict_multiindex_reindex_flat\u001b[39;00m\n",
      "File \u001b[1;32mC:\\ProgramData\\anaconda3\\Lib\\site-packages\\pandas\\core\\indexes\\multi.py:211\u001b[0m, in \u001b[0;36mnames_compat.<locals>.new_meth\u001b[1;34m(self_or_cls, *args, **kwargs)\u001b[0m\n\u001b[0;32m    209\u001b[0m     kwargs[\u001b[38;5;124m\"\u001b[39m\u001b[38;5;124mnames\u001b[39m\u001b[38;5;124m\"\u001b[39m] \u001b[38;5;241m=\u001b[39m kwargs\u001b[38;5;241m.\u001b[39mpop(\u001b[38;5;124m\"\u001b[39m\u001b[38;5;124mname\u001b[39m\u001b[38;5;124m\"\u001b[39m)\n\u001b[1;32m--> 211\u001b[0m \u001b[38;5;28;01mreturn\u001b[39;00m meth(self_or_cls, \u001b[38;5;241m*\u001b[39margs, \u001b[38;5;241m*\u001b[39m\u001b[38;5;241m*\u001b[39mkwargs)\n",
      "File \u001b[1;32mC:\\ProgramData\\anaconda3\\Lib\\site-packages\\pandas\\core\\indexes\\multi.py:590\u001b[0m, in \u001b[0;36mMultiIndex.from_tuples\u001b[1;34m(cls, tuples, sortorder, names)\u001b[0m\n\u001b[0;32m    588\u001b[0m         tuples \u001b[38;5;241m=\u001b[39m np\u001b[38;5;241m.\u001b[39masarray(tuples\u001b[38;5;241m.\u001b[39m_values)\n\u001b[1;32m--> 590\u001b[0m     arrays \u001b[38;5;241m=\u001b[39m \u001b[38;5;28mlist\u001b[39m(lib\u001b[38;5;241m.\u001b[39mtuples_to_object_array(tuples)\u001b[38;5;241m.\u001b[39mT)\n\u001b[0;32m    591\u001b[0m \u001b[38;5;28;01melif\u001b[39;00m \u001b[38;5;28misinstance\u001b[39m(tuples, \u001b[38;5;28mlist\u001b[39m):\n",
      "File \u001b[1;32mC:\\ProgramData\\anaconda3\\Lib\\site-packages\\pandas\\_libs\\lib.pyx:2894\u001b[0m, in \u001b[0;36mpandas._libs.lib.tuples_to_object_array\u001b[1;34m()\u001b[0m\n",
      "\u001b[1;31mValueError\u001b[0m: Buffer dtype mismatch, expected 'Python object' but got 'long long'",
      "\nThe above exception was the direct cause of the following exception:\n",
      "\u001b[1;31mTypeError\u001b[0m                                 Traceback (most recent call last)",
      "\u001b[1;32m~\\AppData\\Local\\Temp\\ipykernel_15152\\3058338558.py\u001b[0m in \u001b[0;36m?\u001b[1;34m()\u001b[0m\n\u001b[1;32m----> 1\u001b[1;33m \u001b[0mdf\u001b[0m\u001b[1;33m[\u001b[0m\u001b[1;34m'RMSSD'\u001b[0m\u001b[1;33m]\u001b[0m \u001b[1;33m=\u001b[0m \u001b[0mrmssd\u001b[0m\u001b[1;33m\u001b[0m\u001b[1;33m\u001b[0m\u001b[0m\n\u001b[0m",
      "\u001b[1;32mC:\\ProgramData\\anaconda3\\Lib\\site-packages\\pandas\\core\\frame.py\u001b[0m in \u001b[0;36m?\u001b[1;34m(self, key, value)\u001b[0m\n\u001b[0;32m   3946\u001b[0m             \u001b[1;31m# Column to set is duplicated\u001b[0m\u001b[1;33m\u001b[0m\u001b[1;33m\u001b[0m\u001b[0m\n\u001b[0;32m   3947\u001b[0m             \u001b[0mself\u001b[0m\u001b[1;33m.\u001b[0m\u001b[0m_setitem_array\u001b[0m\u001b[1;33m(\u001b[0m\u001b[1;33m[\u001b[0m\u001b[0mkey\u001b[0m\u001b[1;33m]\u001b[0m\u001b[1;33m,\u001b[0m \u001b[0mvalue\u001b[0m\u001b[1;33m)\u001b[0m\u001b[1;33m\u001b[0m\u001b[1;33m\u001b[0m\u001b[0m\n\u001b[0;32m   3948\u001b[0m         \u001b[1;32melse\u001b[0m\u001b[1;33m:\u001b[0m\u001b[1;33m\u001b[0m\u001b[1;33m\u001b[0m\u001b[0m\n\u001b[0;32m   3949\u001b[0m             \u001b[1;31m# set column\u001b[0m\u001b[1;33m\u001b[0m\u001b[1;33m\u001b[0m\u001b[0m\n\u001b[1;32m-> 3950\u001b[1;33m             \u001b[0mself\u001b[0m\u001b[1;33m.\u001b[0m\u001b[0m_set_item\u001b[0m\u001b[1;33m(\u001b[0m\u001b[0mkey\u001b[0m\u001b[1;33m,\u001b[0m \u001b[0mvalue\u001b[0m\u001b[1;33m)\u001b[0m\u001b[1;33m\u001b[0m\u001b[1;33m\u001b[0m\u001b[0m\n\u001b[0m",
      "\u001b[1;32mC:\\ProgramData\\anaconda3\\Lib\\site-packages\\pandas\\core\\frame.py\u001b[0m in \u001b[0;36m?\u001b[1;34m(self, key, value)\u001b[0m\n\u001b[0;32m   4139\u001b[0m \u001b[1;33m\u001b[0m\u001b[0m\n\u001b[0;32m   4140\u001b[0m         \u001b[0mSeries\u001b[0m\u001b[1;33m/\u001b[0m\u001b[0mTimeSeries\u001b[0m \u001b[0mwill\u001b[0m \u001b[0mbe\u001b[0m \u001b[0mconformed\u001b[0m \u001b[0mto\u001b[0m \u001b[0mthe\u001b[0m \u001b[0mDataFrames\u001b[0m \u001b[0mindex\u001b[0m \u001b[0mto\u001b[0m\u001b[1;33m\u001b[0m\u001b[1;33m\u001b[0m\u001b[0m\n\u001b[0;32m   4141\u001b[0m         \u001b[0mensure\u001b[0m \u001b[0mhomogeneity\u001b[0m\u001b[1;33m.\u001b[0m\u001b[1;33m\u001b[0m\u001b[1;33m\u001b[0m\u001b[0m\n\u001b[0;32m   4142\u001b[0m         \"\"\"\n\u001b[1;32m-> 4143\u001b[1;33m         \u001b[0mvalue\u001b[0m \u001b[1;33m=\u001b[0m \u001b[0mself\u001b[0m\u001b[1;33m.\u001b[0m\u001b[0m_sanitize_column\u001b[0m\u001b[1;33m(\u001b[0m\u001b[0mvalue\u001b[0m\u001b[1;33m)\u001b[0m\u001b[1;33m\u001b[0m\u001b[1;33m\u001b[0m\u001b[0m\n\u001b[0m\u001b[0;32m   4144\u001b[0m \u001b[1;33m\u001b[0m\u001b[0m\n\u001b[0;32m   4145\u001b[0m         if (\n\u001b[0;32m   4146\u001b[0m             \u001b[0mkey\u001b[0m \u001b[1;32min\u001b[0m \u001b[0mself\u001b[0m\u001b[1;33m.\u001b[0m\u001b[0mcolumns\u001b[0m\u001b[1;33m\u001b[0m\u001b[1;33m\u001b[0m\u001b[0m\n",
      "\u001b[1;32mC:\\ProgramData\\anaconda3\\Lib\\site-packages\\pandas\\core\\frame.py\u001b[0m in \u001b[0;36m?\u001b[1;34m(self, value)\u001b[0m\n\u001b[0;32m   4863\u001b[0m         \u001b[1;31m# or through loc single_block_path\u001b[0m\u001b[1;33m\u001b[0m\u001b[1;33m\u001b[0m\u001b[0m\n\u001b[0;32m   4864\u001b[0m         \u001b[1;32mif\u001b[0m \u001b[0misinstance\u001b[0m\u001b[1;33m(\u001b[0m\u001b[0mvalue\u001b[0m\u001b[1;33m,\u001b[0m \u001b[0mDataFrame\u001b[0m\u001b[1;33m)\u001b[0m\u001b[1;33m:\u001b[0m\u001b[1;33m\u001b[0m\u001b[1;33m\u001b[0m\u001b[0m\n\u001b[0;32m   4865\u001b[0m             \u001b[1;32mreturn\u001b[0m \u001b[0m_reindex_for_setitem\u001b[0m\u001b[1;33m(\u001b[0m\u001b[0mvalue\u001b[0m\u001b[1;33m,\u001b[0m \u001b[0mself\u001b[0m\u001b[1;33m.\u001b[0m\u001b[0mindex\u001b[0m\u001b[1;33m)\u001b[0m\u001b[1;33m\u001b[0m\u001b[1;33m\u001b[0m\u001b[0m\n\u001b[0;32m   4866\u001b[0m         \u001b[1;32melif\u001b[0m \u001b[0mis_dict_like\u001b[0m\u001b[1;33m(\u001b[0m\u001b[0mvalue\u001b[0m\u001b[1;33m)\u001b[0m\u001b[1;33m:\u001b[0m\u001b[1;33m\u001b[0m\u001b[1;33m\u001b[0m\u001b[0m\n\u001b[1;32m-> 4867\u001b[1;33m             \u001b[1;32mreturn\u001b[0m \u001b[0m_reindex_for_setitem\u001b[0m\u001b[1;33m(\u001b[0m\u001b[0mSeries\u001b[0m\u001b[1;33m(\u001b[0m\u001b[0mvalue\u001b[0m\u001b[1;33m)\u001b[0m\u001b[1;33m,\u001b[0m \u001b[0mself\u001b[0m\u001b[1;33m.\u001b[0m\u001b[0mindex\u001b[0m\u001b[1;33m)\u001b[0m\u001b[1;33m\u001b[0m\u001b[1;33m\u001b[0m\u001b[0m\n\u001b[0m\u001b[0;32m   4868\u001b[0m \u001b[1;33m\u001b[0m\u001b[0m\n\u001b[0;32m   4869\u001b[0m         \u001b[1;32mif\u001b[0m \u001b[0mis_list_like\u001b[0m\u001b[1;33m(\u001b[0m\u001b[0mvalue\u001b[0m\u001b[1;33m)\u001b[0m\u001b[1;33m:\u001b[0m\u001b[1;33m\u001b[0m\u001b[1;33m\u001b[0m\u001b[0m\n\u001b[0;32m   4870\u001b[0m             \u001b[0mcom\u001b[0m\u001b[1;33m.\u001b[0m\u001b[0mrequire_length_match\u001b[0m\u001b[1;33m(\u001b[0m\u001b[0mvalue\u001b[0m\u001b[1;33m,\u001b[0m \u001b[0mself\u001b[0m\u001b[1;33m.\u001b[0m\u001b[0mindex\u001b[0m\u001b[1;33m)\u001b[0m\u001b[1;33m\u001b[0m\u001b[1;33m\u001b[0m\u001b[0m\n",
      "\u001b[1;32mC:\\ProgramData\\anaconda3\\Lib\\site-packages\\pandas\\core\\frame.py\u001b[0m in \u001b[0;36m?\u001b[1;34m(value, index)\u001b[0m\n\u001b[0;32m  11613\u001b[0m         \u001b[1;32mif\u001b[0m \u001b[1;32mnot\u001b[0m \u001b[0mvalue\u001b[0m\u001b[1;33m.\u001b[0m\u001b[0mindex\u001b[0m\u001b[1;33m.\u001b[0m\u001b[0mis_unique\u001b[0m\u001b[1;33m:\u001b[0m\u001b[1;33m\u001b[0m\u001b[1;33m\u001b[0m\u001b[0m\n\u001b[0;32m  11614\u001b[0m             \u001b[1;31m# duplicate axis\u001b[0m\u001b[1;33m\u001b[0m\u001b[1;33m\u001b[0m\u001b[0m\n\u001b[0;32m  11615\u001b[0m             \u001b[1;32mraise\u001b[0m \u001b[0merr\u001b[0m\u001b[1;33m\u001b[0m\u001b[1;33m\u001b[0m\u001b[0m\n\u001b[0;32m  11616\u001b[0m \u001b[1;33m\u001b[0m\u001b[0m\n\u001b[1;32m> 11617\u001b[1;33m         raise TypeError(\n\u001b[0m\u001b[0;32m  11618\u001b[0m             \u001b[1;34m\"incompatible index of inserted column with frame index\"\u001b[0m\u001b[1;33m\u001b[0m\u001b[1;33m\u001b[0m\u001b[0m\n\u001b[0;32m  11619\u001b[0m         ) from err\n\u001b[0;32m  11620\u001b[0m     \u001b[1;32mreturn\u001b[0m \u001b[0mreindexed_value\u001b[0m\u001b[1;33m\u001b[0m\u001b[1;33m\u001b[0m\u001b[0m\n",
      "\u001b[1;31mTypeError\u001b[0m: incompatible index of inserted column with frame index"
     ]
    }
   ],
   "source": [
    "df['RMSSD'] = rmssd"
   ]
  },
  {
   "cell_type": "code",
   "execution_count": null,
   "id": "2f27d837-cbd5-4989-93dd-2ae8d7601c58",
   "metadata": {},
   "outputs": [],
   "source": []
  },
  {
   "cell_type": "code",
   "execution_count": null,
   "id": "77443d4a-a497-494b-af7a-4da0c11fe15d",
   "metadata": {},
   "outputs": [],
   "source": []
  },
  {
   "cell_type": "code",
   "execution_count": null,
   "id": "9bbd6d11-4c5a-43fd-b0b9-ae32c6ad7c4c",
   "metadata": {},
   "outputs": [],
   "source": []
  },
  {
   "cell_type": "code",
   "execution_count": null,
   "id": "fcca7a1b-22a1-4823-8b5e-99827d449ba4",
   "metadata": {},
   "outputs": [],
   "source": []
  }
 ],
 "metadata": {
  "kernelspec": {
   "display_name": "Python 3 (ipykernel)",
   "language": "python",
   "name": "python3"
  },
  "language_info": {
   "codemirror_mode": {
    "name": "ipython",
    "version": 3
   },
   "file_extension": ".py",
   "mimetype": "text/x-python",
   "name": "python",
   "nbconvert_exporter": "python",
   "pygments_lexer": "ipython3",
   "version": "3.11.5"
  }
 },
 "nbformat": 4,
 "nbformat_minor": 5
}
