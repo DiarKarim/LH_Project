{
 "cells": [
  {
   "cell_type": "code",
   "execution_count": 121,
   "id": "9c650692-6250-4cf5-8a7c-8e8836f4aab6",
   "metadata": {},
   "outputs": [],
   "source": [
    "import pandas as pd\n",
    "import matplotlib.pyplot as plt\n",
    "import seaborn as sns\n",
    "from scipy.signal import find_peaks\n",
    "import numpy as np\n",
    "from scipy.signal import savgol_filter\n",
    "import os\n",
    "import pingouin as pg\n",
    "\n",
    "from statannot import add_stat_annotation\n",
    "\n",
    "import statsmodels.api as sm\n",
    "import statsmodels.formula.api as smf"
   ]
  },
  {
   "cell_type": "code",
   "execution_count": 122,
   "id": "2ffec649-2bbb-485b-b3f0-582432ee90c8",
   "metadata": {},
   "outputs": [],
   "source": [
    "# path = \"C:/Users/VR-Lab/Documents/Projects/LH_Project/Data/\"\n",
    "path = 'C:/Users/Monter/Projects/LH_Project/Data/'"
   ]
  },
  {
   "cell_type": "code",
   "execution_count": 123,
   "id": "7ce7fe3e-0ea2-4ea0-a213-2d7fd74e583a",
   "metadata": {},
   "outputs": [],
   "source": [
    "file = 'CSV_STAI_data.csv'\n",
    "\n",
    "df = pd.read_csv(path+file)"
   ]
  },
  {
   "cell_type": "code",
   "execution_count": 124,
   "id": "33803c9f-38db-44a5-b3fc-21b234c1ebc7",
   "metadata": {},
   "outputs": [
    {
     "data": {
      "text/html": [
       "<div>\n",
       "<style scoped>\n",
       "    .dataframe tbody tr th:only-of-type {\n",
       "        vertical-align: middle;\n",
       "    }\n",
       "\n",
       "    .dataframe tbody tr th {\n",
       "        vertical-align: top;\n",
       "    }\n",
       "\n",
       "    .dataframe thead th {\n",
       "        text-align: right;\n",
       "    }\n",
       "</style>\n",
       "<table border=\"1\" class=\"dataframe\">\n",
       "  <thead>\n",
       "    <tr style=\"text-align: right;\">\n",
       "      <th></th>\n",
       "      <th>Ptx</th>\n",
       "      <th>Score</th>\n",
       "      <th>Condition</th>\n",
       "      <th>Test</th>\n",
       "    </tr>\n",
       "  </thead>\n",
       "  <tbody>\n",
       "    <tr>\n",
       "      <th>0</th>\n",
       "      <td>YU191200</td>\n",
       "      <td>32</td>\n",
       "      <td>Stress</td>\n",
       "      <td>Pre</td>\n",
       "    </tr>\n",
       "    <tr>\n",
       "      <th>1</th>\n",
       "      <td>HM191200</td>\n",
       "      <td>35</td>\n",
       "      <td>Stress</td>\n",
       "      <td>Pre</td>\n",
       "    </tr>\n",
       "    <tr>\n",
       "      <th>2</th>\n",
       "      <td>NC151300</td>\n",
       "      <td>45</td>\n",
       "      <td>Stress</td>\n",
       "      <td>Pre</td>\n",
       "    </tr>\n",
       "    <tr>\n",
       "      <th>3</th>\n",
       "      <td>RF141630</td>\n",
       "      <td>31</td>\n",
       "      <td>Stress</td>\n",
       "      <td>Pre</td>\n",
       "    </tr>\n",
       "    <tr>\n",
       "      <th>4</th>\n",
       "      <td>SK141430</td>\n",
       "      <td>31</td>\n",
       "      <td>Stress</td>\n",
       "      <td>Pre</td>\n",
       "    </tr>\n",
       "    <tr>\n",
       "      <th>...</th>\n",
       "      <td>...</td>\n",
       "      <td>...</td>\n",
       "      <td>...</td>\n",
       "      <td>...</td>\n",
       "    </tr>\n",
       "    <tr>\n",
       "      <th>69</th>\n",
       "      <td>FF051430</td>\n",
       "      <td>61</td>\n",
       "      <td>Calm</td>\n",
       "      <td>Post</td>\n",
       "    </tr>\n",
       "    <tr>\n",
       "      <th>70</th>\n",
       "      <td>MS071615</td>\n",
       "      <td>25</td>\n",
       "      <td>Calm</td>\n",
       "      <td>Post</td>\n",
       "    </tr>\n",
       "    <tr>\n",
       "      <th>71</th>\n",
       "      <td>LC071300</td>\n",
       "      <td>49</td>\n",
       "      <td>Calm</td>\n",
       "      <td>Post</td>\n",
       "    </tr>\n",
       "    <tr>\n",
       "      <th>72</th>\n",
       "      <td>OS121430</td>\n",
       "      <td>28</td>\n",
       "      <td>Calm</td>\n",
       "      <td>Post</td>\n",
       "    </tr>\n",
       "    <tr>\n",
       "      <th>73</th>\n",
       "      <td>GS191000</td>\n",
       "      <td>21</td>\n",
       "      <td>Calm</td>\n",
       "      <td>Post</td>\n",
       "    </tr>\n",
       "  </tbody>\n",
       "</table>\n",
       "<p>74 rows × 4 columns</p>\n",
       "</div>"
      ],
      "text/plain": [
       "         Ptx  Score Condition  Test\n",
       "0   YU191200     32    Stress   Pre\n",
       "1   HM191200     35    Stress   Pre\n",
       "2   NC151300     45    Stress   Pre\n",
       "3   RF141630     31    Stress   Pre\n",
       "4   SK141430     31    Stress   Pre\n",
       "..       ...    ...       ...   ...\n",
       "69  FF051430     61      Calm  Post\n",
       "70  MS071615     25      Calm  Post\n",
       "71  LC071300     49      Calm  Post\n",
       "72  OS121430     28      Calm  Post\n",
       "73  GS191000     21      Calm  Post\n",
       "\n",
       "[74 rows x 4 columns]"
      ]
     },
     "execution_count": 124,
     "metadata": {},
     "output_type": "execute_result"
    }
   ],
   "source": [
    "df"
   ]
  },
  {
   "cell_type": "markdown",
   "id": "7ef09ea7-f343-4ee2-9b15-bd10d741d69b",
   "metadata": {},
   "source": [
    "### First check for distribution"
   ]
  },
  {
   "cell_type": "code",
   "execution_count": 125,
   "id": "ac93e4c5-06f3-4bb7-9661-53ec9995077f",
   "metadata": {},
   "outputs": [
    {
     "data": {
      "text/html": [
       "<div>\n",
       "<style scoped>\n",
       "    .dataframe tbody tr th:only-of-type {\n",
       "        vertical-align: middle;\n",
       "    }\n",
       "\n",
       "    .dataframe tbody tr th {\n",
       "        vertical-align: top;\n",
       "    }\n",
       "\n",
       "    .dataframe thead th {\n",
       "        text-align: right;\n",
       "    }\n",
       "</style>\n",
       "<table border=\"1\" class=\"dataframe\">\n",
       "  <thead>\n",
       "    <tr style=\"text-align: right;\">\n",
       "      <th></th>\n",
       "      <th>W</th>\n",
       "      <th>pval</th>\n",
       "      <th>normal</th>\n",
       "    </tr>\n",
       "  </thead>\n",
       "  <tbody>\n",
       "    <tr>\n",
       "      <th>Score</th>\n",
       "      <td>0.92246</td>\n",
       "      <td>0.000226</td>\n",
       "      <td>False</td>\n",
       "    </tr>\n",
       "  </tbody>\n",
       "</table>\n",
       "</div>"
      ],
      "text/plain": [
       "             W      pval  normal\n",
       "Score  0.92246  0.000226   False"
      ]
     },
     "execution_count": 125,
     "metadata": {},
     "output_type": "execute_result"
    }
   ],
   "source": [
    "pg.normality(df['Score'])"
   ]
  },
  {
   "cell_type": "code",
   "execution_count": 126,
   "id": "1fe1b79b-57cb-4b56-af53-6980d8f4666e",
   "metadata": {},
   "outputs": [
    {
     "data": {
      "text/plain": [
       "<AxesSubplot:xlabel='Score', ylabel='Count'>"
      ]
     },
     "execution_count": 126,
     "metadata": {},
     "output_type": "execute_result"
    },
    {
     "data": {
      "image/png": "[encoded data removed]",
      "text/plain": [
       "<Figure size 432x288 with 1 Axes>"
      ]
     },
     "metadata": {
      "needs_background": "light"
     },
     "output_type": "display_data"
    }
   ],
   "source": [
    "sns.histplot(x='Score', data=df, kde=True)"
   ]
  },
  {
   "cell_type": "markdown",
   "id": "6f847d5c-6ed2-40c5-ac43-12c84fbbb178",
   "metadata": {},
   "source": [
    "### Outlier detection"
   ]
  },
  {
   "cell_type": "code",
   "execution_count": 127,
   "id": "85b31061-eaf7-4281-8cc0-162ce8f75ff6",
   "metadata": {},
   "outputs": [
    {
     "data": {
      "image/png": "[encoded data removed]",
      "text/plain": [
       "<Figure size 432x288 with 1 Axes>"
      ]
     },
     "metadata": {
      "needs_background": "light"
     },
     "output_type": "display_data"
    }
   ],
   "source": [
    "mask1=(df['Condition'] == 'Stress') & (df['Test'] == 'Pre')\n",
    "mask2=(df['Condition'] == 'Stress') & (df['Test'] == 'Post')\n",
    "mask3=(df['Condition'] == 'Calm') & (df['Test'] == 'Pre')\n",
    "mask4=(df['Condition'] == 'Calm') & (df['Test'] == 'Post')\n",
    "\n",
    "ax1 = sns.scatterplot(x='Ptx',y='Score',data=df[mask1],color='g')\n",
    "ax2 = sns.scatterplot(x='Ptx',y='Score',data=df[mask2],color='r')\n",
    "\n",
    "ax1.tick_params(axis='x', rotation=90)"
   ]
  },
  {
   "cell_type": "code",
   "execution_count": 128,
   "id": "9bed52b2-b9a3-4d70-9117-a4048387fb00",
   "metadata": {},
   "outputs": [
    {
     "data": {
      "image/png": "[encoded data removed]",
      "text/plain": [
       "<Figure size 432x288 with 1 Axes>"
      ]
     },
     "metadata": {
      "needs_background": "light"
     },
     "output_type": "display_data"
    }
   ],
   "source": [
    "mask1=(df['Condition'] == 'Stress') & (df['Test'] == 'Pre')\n",
    "mask2=(df['Condition'] == 'Stress') & (df['Test'] == 'Post')\n",
    "mask3=(df['Condition'] == 'Calm') & (df['Test'] == 'Pre')\n",
    "mask4=(df['Condition'] == 'Calm') & (df['Test'] == 'Post')\n",
    "\n",
    "ax1 = sns.scatterplot(x='Ptx',y='Score',data=df[mask3],color='g')\n",
    "ax2 = sns.scatterplot(x='Ptx',y='Score',data=df[mask4],color='r')\n",
    "\n",
    "ax1.tick_params(axis='x', rotation=90)"
   ]
  },
  {
   "cell_type": "markdown",
   "id": "c9df471a-6190-4b9e-b185-01a570082c25",
   "metadata": {},
   "source": [
    "### Measure the mean difference of each ptx"
   ]
  },
  {
   "cell_type": "code",
   "execution_count": 129,
   "id": "0986dd0d-b25e-4c8d-ba66-ea1221ec94b8",
   "metadata": {},
   "outputs": [
    {
     "data": {
      "text/plain": [
       "array([ 9,  5, 18, -4, 12, 10,  1,  6, 27, -2,  3,  6, 13,  4, -2,  4,  8,\n",
       "        3, 20], dtype=int64)"
      ]
     },
     "execution_count": 129,
     "metadata": {},
     "output_type": "execute_result"
    }
   ],
   "source": [
    "df[mask2]['Score'].values - df[mask1]['Score'].values"
   ]
  },
  {
   "cell_type": "code",
   "execution_count": 134,
   "id": "c6be544e-7c1b-41b0-885c-c3d68057270b",
   "metadata": {},
   "outputs": [],
   "source": [
    "df['Difference'] = np.nan"
   ]
  },
  {
   "cell_type": "code",
   "execution_count": 139,
   "id": "e92e6f25-a1d0-4973-9cd1-d89b77ed73a3",
   "metadata": {},
   "outputs": [
    {
     "ename": "ValueError",
     "evalue": "Length of values (19) does not match length of index (74)",
     "output_type": "error",
     "traceback": [
      "\u001b[1;31m---------------------------------------------------------------------------\u001b[0m",
      "\u001b[1;31mValueError\u001b[0m                                Traceback (most recent call last)",
      "\u001b[1;32m<ipython-input-139-b0e5716d1aac>\u001b[0m in \u001b[0;36m<module>\u001b[1;34m\u001b[0m\n\u001b[1;32m----> 1\u001b[1;33m \u001b[0mdf\u001b[0m\u001b[1;33m[\u001b[0m\u001b[1;34m'Difference'\u001b[0m\u001b[1;33m]\u001b[0m \u001b[1;33m=\u001b[0m \u001b[0mdf\u001b[0m\u001b[1;33m[\u001b[0m\u001b[0mmask2\u001b[0m\u001b[1;33m]\u001b[0m\u001b[1;33m[\u001b[0m\u001b[1;34m'Score'\u001b[0m\u001b[1;33m]\u001b[0m\u001b[1;33m.\u001b[0m\u001b[0mvalues\u001b[0m \u001b[1;33m-\u001b[0m \u001b[0mdf\u001b[0m\u001b[1;33m[\u001b[0m\u001b[0mmask1\u001b[0m\u001b[1;33m]\u001b[0m\u001b[1;33m[\u001b[0m\u001b[1;34m'Score'\u001b[0m\u001b[1;33m]\u001b[0m\u001b[1;33m.\u001b[0m\u001b[0mvalues\u001b[0m\u001b[1;33m\u001b[0m\u001b[1;33m\u001b[0m\u001b[0m\n\u001b[0m\u001b[0;32m      2\u001b[0m \u001b[1;33m\u001b[0m\u001b[0m\n\u001b[0;32m      3\u001b[0m \u001b[0mdf\u001b[0m\u001b[1;33m\u001b[0m\u001b[1;33m\u001b[0m\u001b[0m\n",
      "\u001b[1;32mC:\\ProgramData\\Anaconda3\\lib\\site-packages\\pandas\\core\\frame.py\u001b[0m in \u001b[0;36m__setitem__\u001b[1;34m(self, key, value)\u001b[0m\n\u001b[0;32m   3976\u001b[0m         \u001b[1;32melse\u001b[0m\u001b[1;33m:\u001b[0m\u001b[1;33m\u001b[0m\u001b[1;33m\u001b[0m\u001b[0m\n\u001b[0;32m   3977\u001b[0m             \u001b[1;31m# set column\u001b[0m\u001b[1;33m\u001b[0m\u001b[1;33m\u001b[0m\u001b[1;33m\u001b[0m\u001b[0m\n\u001b[1;32m-> 3978\u001b[1;33m             \u001b[0mself\u001b[0m\u001b[1;33m.\u001b[0m\u001b[0m_set_item\u001b[0m\u001b[1;33m(\u001b[0m\u001b[0mkey\u001b[0m\u001b[1;33m,\u001b[0m \u001b[0mvalue\u001b[0m\u001b[1;33m)\u001b[0m\u001b[1;33m\u001b[0m\u001b[1;33m\u001b[0m\u001b[0m\n\u001b[0m\u001b[0;32m   3979\u001b[0m \u001b[1;33m\u001b[0m\u001b[0m\n\u001b[0;32m   3980\u001b[0m     \u001b[1;32mdef\u001b[0m \u001b[0m_setitem_slice\u001b[0m\u001b[1;33m(\u001b[0m\u001b[0mself\u001b[0m\u001b[1;33m,\u001b[0m \u001b[0mkey\u001b[0m\u001b[1;33m:\u001b[0m \u001b[0mslice\u001b[0m\u001b[1;33m,\u001b[0m \u001b[0mvalue\u001b[0m\u001b[1;33m)\u001b[0m\u001b[1;33m:\u001b[0m\u001b[1;33m\u001b[0m\u001b[1;33m\u001b[0m\u001b[0m\n",
      "\u001b[1;32mC:\\ProgramData\\Anaconda3\\lib\\site-packages\\pandas\\core\\frame.py\u001b[0m in \u001b[0;36m_set_item\u001b[1;34m(self, key, value)\u001b[0m\n\u001b[0;32m   4170\u001b[0m         \u001b[0mensure\u001b[0m \u001b[0mhomogeneity\u001b[0m\u001b[1;33m.\u001b[0m\u001b[1;33m\u001b[0m\u001b[1;33m\u001b[0m\u001b[0m\n\u001b[0;32m   4171\u001b[0m         \"\"\"\n\u001b[1;32m-> 4172\u001b[1;33m         \u001b[0mvalue\u001b[0m \u001b[1;33m=\u001b[0m \u001b[0mself\u001b[0m\u001b[1;33m.\u001b[0m\u001b[0m_sanitize_column\u001b[0m\u001b[1;33m(\u001b[0m\u001b[0mvalue\u001b[0m\u001b[1;33m)\u001b[0m\u001b[1;33m\u001b[0m\u001b[1;33m\u001b[0m\u001b[0m\n\u001b[0m\u001b[0;32m   4173\u001b[0m \u001b[1;33m\u001b[0m\u001b[0m\n\u001b[0;32m   4174\u001b[0m         if (\n",
      "\u001b[1;32mC:\\ProgramData\\Anaconda3\\lib\\site-packages\\pandas\\core\\frame.py\u001b[0m in \u001b[0;36m_sanitize_column\u001b[1;34m(self, value)\u001b[0m\n\u001b[0;32m   4910\u001b[0m \u001b[1;33m\u001b[0m\u001b[0m\n\u001b[0;32m   4911\u001b[0m         \u001b[1;32mif\u001b[0m \u001b[0mis_list_like\u001b[0m\u001b[1;33m(\u001b[0m\u001b[0mvalue\u001b[0m\u001b[1;33m)\u001b[0m\u001b[1;33m:\u001b[0m\u001b[1;33m\u001b[0m\u001b[1;33m\u001b[0m\u001b[0m\n\u001b[1;32m-> 4912\u001b[1;33m             \u001b[0mcom\u001b[0m\u001b[1;33m.\u001b[0m\u001b[0mrequire_length_match\u001b[0m\u001b[1;33m(\u001b[0m\u001b[0mvalue\u001b[0m\u001b[1;33m,\u001b[0m \u001b[0mself\u001b[0m\u001b[1;33m.\u001b[0m\u001b[0mindex\u001b[0m\u001b[1;33m)\u001b[0m\u001b[1;33m\u001b[0m\u001b[1;33m\u001b[0m\u001b[0m\n\u001b[0m\u001b[0;32m   4913\u001b[0m         \u001b[1;32mreturn\u001b[0m \u001b[0msanitize_array\u001b[0m\u001b[1;33m(\u001b[0m\u001b[0mvalue\u001b[0m\u001b[1;33m,\u001b[0m \u001b[0mself\u001b[0m\u001b[1;33m.\u001b[0m\u001b[0mindex\u001b[0m\u001b[1;33m,\u001b[0m \u001b[0mcopy\u001b[0m\u001b[1;33m=\u001b[0m\u001b[1;32mTrue\u001b[0m\u001b[1;33m,\u001b[0m \u001b[0mallow_2d\u001b[0m\u001b[1;33m=\u001b[0m\u001b[1;32mTrue\u001b[0m\u001b[1;33m)\u001b[0m\u001b[1;33m\u001b[0m\u001b[1;33m\u001b[0m\u001b[0m\n\u001b[0;32m   4914\u001b[0m \u001b[1;33m\u001b[0m\u001b[0m\n",
      "\u001b[1;32mC:\\ProgramData\\Anaconda3\\lib\\site-packages\\pandas\\core\\common.py\u001b[0m in \u001b[0;36mrequire_length_match\u001b[1;34m(data, index)\u001b[0m\n\u001b[0;32m    559\u001b[0m     \"\"\"\n\u001b[0;32m    560\u001b[0m     \u001b[1;32mif\u001b[0m \u001b[0mlen\u001b[0m\u001b[1;33m(\u001b[0m\u001b[0mdata\u001b[0m\u001b[1;33m)\u001b[0m \u001b[1;33m!=\u001b[0m \u001b[0mlen\u001b[0m\u001b[1;33m(\u001b[0m\u001b[0mindex\u001b[0m\u001b[1;33m)\u001b[0m\u001b[1;33m:\u001b[0m\u001b[1;33m\u001b[0m\u001b[1;33m\u001b[0m\u001b[0m\n\u001b[1;32m--> 561\u001b[1;33m         raise ValueError(\n\u001b[0m\u001b[0;32m    562\u001b[0m             \u001b[1;34m\"Length of values \"\u001b[0m\u001b[1;33m\u001b[0m\u001b[1;33m\u001b[0m\u001b[0m\n\u001b[0;32m    563\u001b[0m             \u001b[1;34mf\"({len(data)}) \"\u001b[0m\u001b[1;33m\u001b[0m\u001b[1;33m\u001b[0m\u001b[0m\n",
      "\u001b[1;31mValueError\u001b[0m: Length of values (19) does not match length of index (74)"
     ]
    }
   ],
   "source": [
    "df['Difference'] = df[mask2]['Score'].values - df[mask1]['Score'].values\n",
    "\n",
    "df"
   ]
  },
  {
   "cell_type": "markdown",
   "id": "2d89d5a7-e54e-4f34-ac3b-cb90b6629ffb",
   "metadata": {},
   "source": [
    "### Then that tells you to apply a non-parametric test, e.g. Friedman test (pinch of salt)"
   ]
  },
  {
   "cell_type": "code",
   "execution_count": 32,
   "id": "f51b3c82-1376-46b5-bd32-12f07bc18e96",
   "metadata": {},
   "outputs": [
    {
     "name": "stderr",
     "output_type": "stream",
     "text": [
      "C:\\ProgramData\\Anaconda3\\lib\\site-packages\\pingouin\\parametric.py:551: FutureWarning: Not prepending group keys to the result index of transform-like apply. In the future, the group keys will be included in the index, regardless of whether the applied function returns a like-indexed object.\n",
      "To preserve the previous behavior, use\n",
      "\n",
      "\t>>> .groupby(..., group_keys=False)\n",
      "\n",
      "To adopt the future behavior and silence this warning, use \n",
      "\n",
      "\t>>> .groupby(..., group_keys=True)\n",
      "  ss_resall = grp_with.apply(lambda x: (x - x.mean()) ** 2).sum()\n",
      "C:\\ProgramData\\Anaconda3\\lib\\site-packages\\pingouin\\parametric.py:992: FutureWarning: Not prepending group keys to the result index of transform-like apply. In the future, the group keys will be included in the index, regardless of whether the applied function returns a like-indexed object.\n",
      "To preserve the previous behavior, use\n",
      "\n",
      "\t>>> .groupby(..., group_keys=False)\n",
      "\n",
      "To adopt the future behavior and silence this warning, use \n",
      "\n",
      "\t>>> .groupby(..., group_keys=True)\n",
      "  sserror = grp.apply(lambda x: (x - x.mean()) ** 2).sum()\n",
      "C:\\ProgramData\\Anaconda3\\lib\\site-packages\\pingouin\\parametric.py:1512: FutureWarning: Not prepending group keys to the result index of transform-like apply. In the future, the group keys will be included in the index, regardless of whether the applied function returns a like-indexed object.\n",
      "To preserve the previous behavior, use\n",
      "\n",
      "\t>>> .groupby(..., group_keys=False)\n",
      "\n",
      "To adopt the future behavior and silence this warning, use \n",
      "\n",
      "\t>>> .groupby(..., group_keys=True)\n",
      "  ss_resall = grp.apply(lambda x: (x - x.mean()) ** 2).sum()\n"
     ]
    },
    {
     "data": {
      "text/html": [
       "<div>\n",
       "<style scoped>\n",
       "    .dataframe tbody tr th:only-of-type {\n",
       "        vertical-align: middle;\n",
       "    }\n",
       "\n",
       "    .dataframe tbody tr th {\n",
       "        vertical-align: top;\n",
       "    }\n",
       "\n",
       "    .dataframe thead th {\n",
       "        text-align: right;\n",
       "    }\n",
       "</style>\n",
       "<table border=\"1\" class=\"dataframe\">\n",
       "  <thead>\n",
       "    <tr style=\"text-align: right;\">\n",
       "      <th></th>\n",
       "      <th>Source</th>\n",
       "      <th>SS</th>\n",
       "      <th>DF1</th>\n",
       "      <th>DF2</th>\n",
       "      <th>MS</th>\n",
       "      <th>F</th>\n",
       "      <th>p-unc</th>\n",
       "      <th>ng2</th>\n",
       "      <th>eps</th>\n",
       "    </tr>\n",
       "  </thead>\n",
       "  <tbody>\n",
       "    <tr>\n",
       "      <th>0</th>\n",
       "      <td>Condition</td>\n",
       "      <td>91.893</td>\n",
       "      <td>1</td>\n",
       "      <td>35</td>\n",
       "      <td>91.893</td>\n",
       "      <td>0.428</td>\n",
       "      <td>0.517</td>\n",
       "      <td>0.010</td>\n",
       "      <td>NaN</td>\n",
       "    </tr>\n",
       "    <tr>\n",
       "      <th>1</th>\n",
       "      <td>Test</td>\n",
       "      <td>288.054</td>\n",
       "      <td>1</td>\n",
       "      <td>35</td>\n",
       "      <td>288.054</td>\n",
       "      <td>5.626</td>\n",
       "      <td>0.023</td>\n",
       "      <td>0.030</td>\n",
       "      <td>1.0</td>\n",
       "    </tr>\n",
       "    <tr>\n",
       "      <th>2</th>\n",
       "      <td>Interaction</td>\n",
       "      <td>235.825</td>\n",
       "      <td>1</td>\n",
       "      <td>35</td>\n",
       "      <td>235.825</td>\n",
       "      <td>4.606</td>\n",
       "      <td>0.039</td>\n",
       "      <td>0.025</td>\n",
       "      <td>NaN</td>\n",
       "    </tr>\n",
       "  </tbody>\n",
       "</table>\n",
       "</div>"
      ],
      "text/plain": [
       "        Source       SS  DF1  DF2       MS      F  p-unc    ng2  eps\n",
       "0    Condition   91.893    1   35   91.893  0.428  0.517  0.010  NaN\n",
       "1         Test  288.054    1   35  288.054  5.626  0.023  0.030  1.0\n",
       "2  Interaction  235.825    1   35  235.825  4.606  0.039  0.025  NaN"
      ]
     },
     "execution_count": 32,
     "metadata": {},
     "output_type": "execute_result"
    }
   ],
   "source": [
    "pg.mixed_anova(dv='Score', between='Condition', within='Test',\n",
    "               subject='Ptx', effsize=\"ng2\", data=df).round(3)"
   ]
  },
  {
   "cell_type": "markdown",
   "id": "800ba167-3213-4c17-ba0d-3f4c7f16ecad",
   "metadata": {},
   "source": [
    "### Before the post-hoc test, let's look at the distribution for the individual conditions we are about to compare"
   ]
  },
  {
   "cell_type": "code",
   "execution_count": 87,
   "id": "d3313d51-08d6-4452-95fa-aef3a901e2d4",
   "metadata": {},
   "outputs": [
    {
     "data": {
      "text/html": [
       "<div>\n",
       "<style scoped>\n",
       "    .dataframe tbody tr th:only-of-type {\n",
       "        vertical-align: middle;\n",
       "    }\n",
       "\n",
       "    .dataframe tbody tr th {\n",
       "        vertical-align: top;\n",
       "    }\n",
       "\n",
       "    .dataframe thead th {\n",
       "        text-align: right;\n",
       "    }\n",
       "</style>\n",
       "<table border=\"1\" class=\"dataframe\">\n",
       "  <thead>\n",
       "    <tr style=\"text-align: right;\">\n",
       "      <th></th>\n",
       "      <th>T</th>\n",
       "      <th>dof</th>\n",
       "      <th>alternative</th>\n",
       "      <th>p-val</th>\n",
       "      <th>CI95%</th>\n",
       "      <th>cohen-d</th>\n",
       "      <th>BF10</th>\n",
       "      <th>power</th>\n",
       "    </tr>\n",
       "  </thead>\n",
       "  <tbody>\n",
       "    <tr>\n",
       "      <th>T-test</th>\n",
       "      <td>-1.464211</td>\n",
       "      <td>34.56298</td>\n",
       "      <td>two-sided</td>\n",
       "      <td>0.152173</td>\n",
       "      <td>[-13.85, 2.25]</td>\n",
       "      <td>0.47937</td>\n",
       "      <td>0.731</td>\n",
       "      <td>0.294127</td>\n",
       "    </tr>\n",
       "  </tbody>\n",
       "</table>\n",
       "</div>"
      ],
      "text/plain": [
       "               T       dof alternative     p-val           CI95%  cohen-d  \\\n",
       "T-test -1.464211  34.56298   two-sided  0.152173  [-13.85, 2.25]  0.47937   \n",
       "\n",
       "         BF10     power  \n",
       "T-test  0.731  0.294127  "
      ]
     },
     "execution_count": 87,
     "metadata": {},
     "output_type": "execute_result"
    }
   ],
   "source": [
    "mask1=(df['Condition'] == 'Stress') & (df['Test'] == 'Pre')\n",
    "mask2=(df['Condition'] == 'Stress') & (df['Test'] == 'Post')\n",
    "mask3=(df['Condition'] == 'Calm') & (df['Test'] == 'Pre')\n",
    "mask4=(df['Condition'] == 'Calm') & (df['Test'] == 'Post')\n",
    "\n",
    "# print(pg.normality(df[mask1]['Score']))\n",
    "# print(pg.normality(df[mask2]['Score']))\n",
    "# print(pg.normality(df[mask3]['Score']))\n",
    "# print(pg.normality(df[mask4]['Score']))\n",
    "\n",
    "pg.ttest(df[mask4]['Score'],df[mask2]['Score'], paired=False)"
   ]
  },
  {
   "cell_type": "markdown",
   "id": "6639fb48-765b-405c-95c3-fef965cdc05e",
   "metadata": {},
   "source": [
    "### Post-Hoc test i.e. pairwise comparisons between all the condition in order to ...\n",
    "disentangle where the significance in the Test (Pre-Post) and where the significance in the interaction happens "
   ]
  },
  {
   "cell_type": "code",
   "execution_count": 90,
   "id": "fc60de51-c039-4c5a-9da6-8064750085a4",
   "metadata": {},
   "outputs": [
    {
     "name": "stdout",
     "output_type": "stream",
     "text": [
      "p-value annotation legend:\n",
      "ns: 5.00e-02 < p <= 1.00e+00\n",
      "*: 1.00e-02 < p <= 5.00e-02\n",
      "**: 1.00e-03 < p <= 1.00e-02\n",
      "***: 1.00e-04 < p <= 1.00e-03\n",
      "****: p <= 1.00e-04\n",
      "\n",
      "Stress_Pre v.s. Stress_Post: Mann-Whitney-Wilcoxon test greater with Bonferroni correction, P_val=9.603e-01 U_stat=1.210e+02\n",
      "(<AxesSubplot:xlabel='Condition', ylabel='Score'>, [<statannot.StatResult.StatResult object at 0x0000020FDB9C1A30>])\n"
     ]
    },
    {
     "data": {
      "image/png": "[encoded data removed]",
      "text/plain": [
       "<Figure size 432x288 with 1 Axes>"
      ]
     },
     "metadata": {
      "needs_background": "light"
     },
     "output_type": "display_data"
    }
   ],
   "source": [
    "order = ['Calm', 'Stress']\n",
    "x='Condition'\n",
    "y='Score'\n",
    "hue='Test'\n",
    "# box_pairs = [(('Calm','Pre'), ('Calm','Post')),\n",
    "#              (('Stress','Pre'), ('Stress','Post')),\n",
    "#              (('Calm','Pre'), ('Stress','Pre')),\n",
    "#              (('Calm','Post'), ('Stress','Post'))]\n",
    "\n",
    "box_pairs = [(('Stress','Pre'), ('Stress','Post'))]\n",
    "\n",
    "# This is the main plot without the pairwise comparisons \n",
    "ax1 = sns.barplot(x=x, y=y, hue=hue, order=order, data=df)\n",
    "\n",
    "test_results = add_stat_annotation(ax1, data=df, x=x, y=y, order=order,hue=hue,\n",
    "                                   box_pairs=box_pairs,\n",
    "                                   test='Mann-Whitney-gt', text_format='star',\n",
    "                                   loc='outside', verbose=2)\n",
    "\n",
    "print(test_results)"
   ]
  },
  {
   "cell_type": "code",
   "execution_count": 82,
   "id": "08c16a7f-ddfd-48cf-8d16-dcdd58032f0f",
   "metadata": {},
   "outputs": [
    {
     "name": "stderr",
     "output_type": "stream",
     "text": [
      "C:\\ProgramData\\Anaconda3\\lib\\site-packages\\pingouin\\pairwise.py:477: FutureWarning: The default value of numeric_only in DataFrameGroupBy.mean is deprecated. In a future version, numeric_only will default to False. Either specify numeric_only or select only columns which should be valid for the function.\n",
      "  tmp = data.groupby([subject, f], as_index=False, observed=True, sort=True).mean()\n",
      "C:\\ProgramData\\Anaconda3\\lib\\site-packages\\pingouin\\pairwise.py:582: FutureWarning: In a future version, `df.iloc[:, i] = newvals` will attempt to set the values inplace instead of always setting a new array. To retain the old behavior, use either `df[df.columns[i]] = newvals` or, if columns are non-unique, `df.isetitem(i, newvals)`\n",
      "  stats.loc[:, \"Parametric\"] = parametric\n"
     ]
    },
    {
     "data": {
      "text/html": [
       "<div>\n",
       "<style scoped>\n",
       "    .dataframe tbody tr th:only-of-type {\n",
       "        vertical-align: middle;\n",
       "    }\n",
       "\n",
       "    .dataframe tbody tr th {\n",
       "        vertical-align: top;\n",
       "    }\n",
       "\n",
       "    .dataframe thead th {\n",
       "        text-align: right;\n",
       "    }\n",
       "</style>\n",
       "<table border=\"1\" class=\"dataframe\">\n",
       "  <thead>\n",
       "    <tr style=\"text-align: right;\">\n",
       "      <th></th>\n",
       "      <th>Contrast</th>\n",
       "      <th>Test</th>\n",
       "      <th>A</th>\n",
       "      <th>B</th>\n",
       "      <th>Paired</th>\n",
       "      <th>Parametric</th>\n",
       "      <th>T</th>\n",
       "      <th>dof</th>\n",
       "      <th>alternative</th>\n",
       "      <th>p-unc</th>\n",
       "      <th>p-corr</th>\n",
       "      <th>p-adjust</th>\n",
       "      <th>BF10</th>\n",
       "      <th>hedges</th>\n",
       "    </tr>\n",
       "  </thead>\n",
       "  <tbody>\n",
       "    <tr>\n",
       "      <th>0</th>\n",
       "      <td>Test</td>\n",
       "      <td>-</td>\n",
       "      <td>Post</td>\n",
       "      <td>Pre</td>\n",
       "      <td>True</td>\n",
       "      <td>True</td>\n",
       "      <td>2.261</td>\n",
       "      <td>36.000</td>\n",
       "      <td>two-sided</td>\n",
       "      <td>0.030</td>\n",
       "      <td>NaN</td>\n",
       "      <td>NaN</td>\n",
       "      <td>1.675</td>\n",
       "      <td>0.338</td>\n",
       "    </tr>\n",
       "    <tr>\n",
       "      <th>1</th>\n",
       "      <td>Condition</td>\n",
       "      <td>-</td>\n",
       "      <td>Calm</td>\n",
       "      <td>Stress</td>\n",
       "      <td>False</td>\n",
       "      <td>True</td>\n",
       "      <td>-0.655</td>\n",
       "      <td>34.987</td>\n",
       "      <td>two-sided</td>\n",
       "      <td>0.517</td>\n",
       "      <td>NaN</td>\n",
       "      <td>NaN</td>\n",
       "      <td>0.377</td>\n",
       "      <td>-0.211</td>\n",
       "    </tr>\n",
       "    <tr>\n",
       "      <th>2</th>\n",
       "      <td>Test * Condition</td>\n",
       "      <td>Post</td>\n",
       "      <td>Calm</td>\n",
       "      <td>Stress</td>\n",
       "      <td>False</td>\n",
       "      <td>True</td>\n",
       "      <td>-1.464</td>\n",
       "      <td>34.563</td>\n",
       "      <td>two-sided</td>\n",
       "      <td>0.152</td>\n",
       "      <td>0.304</td>\n",
       "      <td>bonf</td>\n",
       "      <td>0.731</td>\n",
       "      <td>-0.469</td>\n",
       "    </tr>\n",
       "    <tr>\n",
       "      <th>3</th>\n",
       "      <td>Test * Condition</td>\n",
       "      <td>Pre</td>\n",
       "      <td>Calm</td>\n",
       "      <td>Stress</td>\n",
       "      <td>False</td>\n",
       "      <td>True</td>\n",
       "      <td>0.371</td>\n",
       "      <td>31.004</td>\n",
       "      <td>two-sided</td>\n",
       "      <td>0.714</td>\n",
       "      <td>1.000</td>\n",
       "      <td>bonf</td>\n",
       "      <td>0.336</td>\n",
       "      <td>0.120</td>\n",
       "    </tr>\n",
       "  </tbody>\n",
       "</table>\n",
       "</div>"
      ],
      "text/plain": [
       "           Contrast  Test     A       B Paired  Parametric      T     dof  \\\n",
       "0              Test     -  Post     Pre   True        True  2.261  36.000   \n",
       "1         Condition     -  Calm  Stress  False        True -0.655  34.987   \n",
       "2  Test * Condition  Post  Calm  Stress  False        True -1.464  34.563   \n",
       "3  Test * Condition   Pre  Calm  Stress  False        True  0.371  31.004   \n",
       "\n",
       "  alternative  p-unc  p-corr p-adjust   BF10  hedges  \n",
       "0   two-sided  0.030     NaN      NaN  1.675   0.338  \n",
       "1   two-sided  0.517     NaN      NaN  0.377  -0.211  \n",
       "2   two-sided  0.152   0.304     bonf  0.731  -0.469  \n",
       "3   two-sided  0.714   1.000     bonf  0.336   0.120  "
      ]
     },
     "execution_count": 82,
     "metadata": {},
     "output_type": "execute_result"
    }
   ],
   "source": [
    "posthocs = pg.pairwise_tests(dv='Score', within='Test', subject='Ptx',\n",
    "                              between='Condition', padjust='bonf', data=df)\n",
    "\n",
    "posthocs.round(3)"
   ]
  }
 ],
 "metadata": {
  "kernelspec": {
   "display_name": "Python 3",
   "language": "python",
   "name": "python3"
  },
  "language_info": {
   "codemirror_mode": {
    "name": "ipython",
    "version": 3
   },
   "file_extension": ".py",
   "mimetype": "text/x-python",
   "name": "python",
   "nbconvert_exporter": "python",
   "pygments_lexer": "ipython3",
   "version": "3.8.8"
  }
 },
 "nbformat": 4,
 "nbformat_minor": 5
}
