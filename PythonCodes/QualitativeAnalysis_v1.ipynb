{
 "cells": [
  {
   "cell_type": "code",
   "execution_count": 1,
   "id": "9c650692-6250-4cf5-8a7c-8e8836f4aab6",
   "metadata": {},
   "outputs": [],
   "source": [
    "import pandas as pd\n",
    "import matplotlib.pyplot as plt\n",
    "import seaborn as sns\n",
    "from scipy.signal import find_peaks\n",
    "import numpy as np\n",
    "from scipy.signal import savgol_filter\n",
    "import os\n",
    "import pingouin as pg\n",
    "\n",
    "from statannot import add_stat_annotation\n",
    "\n",
    "import statsmodels.api as sm\n",
    "import statsmodels.formula.api as smf"
   ]
  },
  {
   "cell_type": "code",
   "execution_count": 2,
   "id": "2ffec649-2bbb-485b-b3f0-582432ee90c8",
   "metadata": {},
   "outputs": [],
   "source": [
    "# path = \"C:/Users/VR-Lab/Documents/Projects/LH_Project/Data/\"\n",
    "path = 'C:/Users/Monter/Projects/LH_Project/Data/'"
   ]
  },
  {
   "cell_type": "code",
   "execution_count": 3,
   "id": "7ce7fe3e-0ea2-4ea0-a213-2d7fd74e583a",
   "metadata": {},
   "outputs": [],
   "source": [
    "file = 'CSV_STAI_data.csv'\n",
    "\n",
    "df = pd.read_csv(path+file)"
   ]
  },
  {
   "cell_type": "code",
   "execution_count": 4,
   "id": "33803c9f-38db-44a5-b3fc-21b234c1ebc7",
   "metadata": {},
   "outputs": [
    {
     "data": {
      "text/html": [
       "<div>\n",
       "<style scoped>\n",
       "    .dataframe tbody tr th:only-of-type {\n",
       "        vertical-align: middle;\n",
       "    }\n",
       "\n",
       "    .dataframe tbody tr th {\n",
       "        vertical-align: top;\n",
       "    }\n",
       "\n",
       "    .dataframe thead th {\n",
       "        text-align: right;\n",
       "    }\n",
       "</style>\n",
       "<table border=\"1\" class=\"dataframe\">\n",
       "  <thead>\n",
       "    <tr style=\"text-align: right;\">\n",
       "      <th></th>\n",
       "      <th>Ptx</th>\n",
       "      <th>Score</th>\n",
       "      <th>Condition</th>\n",
       "      <th>Test</th>\n",
       "    </tr>\n",
       "  </thead>\n",
       "  <tbody>\n",
       "    <tr>\n",
       "      <th>0</th>\n",
       "      <td>YU191200</td>\n",
       "      <td>32</td>\n",
       "      <td>Stress</td>\n",
       "      <td>Pre</td>\n",
       "    </tr>\n",
       "    <tr>\n",
       "      <th>1</th>\n",
       "      <td>HM191200</td>\n",
       "      <td>35</td>\n",
       "      <td>Stress</td>\n",
       "      <td>Pre</td>\n",
       "    </tr>\n",
       "    <tr>\n",
       "      <th>2</th>\n",
       "      <td>NC151300</td>\n",
       "      <td>45</td>\n",
       "      <td>Stress</td>\n",
       "      <td>Pre</td>\n",
       "    </tr>\n",
       "    <tr>\n",
       "      <th>3</th>\n",
       "      <td>RF141630</td>\n",
       "      <td>31</td>\n",
       "      <td>Stress</td>\n",
       "      <td>Pre</td>\n",
       "    </tr>\n",
       "    <tr>\n",
       "      <th>4</th>\n",
       "      <td>SK141430</td>\n",
       "      <td>31</td>\n",
       "      <td>Stress</td>\n",
       "      <td>Pre</td>\n",
       "    </tr>\n",
       "    <tr>\n",
       "      <th>...</th>\n",
       "      <td>...</td>\n",
       "      <td>...</td>\n",
       "      <td>...</td>\n",
       "      <td>...</td>\n",
       "    </tr>\n",
       "    <tr>\n",
       "      <th>69</th>\n",
       "      <td>FF051430</td>\n",
       "      <td>61</td>\n",
       "      <td>Calm</td>\n",
       "      <td>Post</td>\n",
       "    </tr>\n",
       "    <tr>\n",
       "      <th>70</th>\n",
       "      <td>MS071615</td>\n",
       "      <td>25</td>\n",
       "      <td>Calm</td>\n",
       "      <td>Post</td>\n",
       "    </tr>\n",
       "    <tr>\n",
       "      <th>71</th>\n",
       "      <td>LC071300</td>\n",
       "      <td>49</td>\n",
       "      <td>Calm</td>\n",
       "      <td>Post</td>\n",
       "    </tr>\n",
       "    <tr>\n",
       "      <th>72</th>\n",
       "      <td>OS121430</td>\n",
       "      <td>28</td>\n",
       "      <td>Calm</td>\n",
       "      <td>Post</td>\n",
       "    </tr>\n",
       "    <tr>\n",
       "      <th>73</th>\n",
       "      <td>GS191000</td>\n",
       "      <td>21</td>\n",
       "      <td>Calm</td>\n",
       "      <td>Post</td>\n",
       "    </tr>\n",
       "  </tbody>\n",
       "</table>\n",
       "<p>74 rows × 4 columns</p>\n",
       "</div>"
      ],
      "text/plain": [
       "         Ptx  Score Condition  Test\n",
       "0   YU191200     32    Stress   Pre\n",
       "1   HM191200     35    Stress   Pre\n",
       "2   NC151300     45    Stress   Pre\n",
       "3   RF141630     31    Stress   Pre\n",
       "4   SK141430     31    Stress   Pre\n",
       "..       ...    ...       ...   ...\n",
       "69  FF051430     61      Calm  Post\n",
       "70  MS071615     25      Calm  Post\n",
       "71  LC071300     49      Calm  Post\n",
       "72  OS121430     28      Calm  Post\n",
       "73  GS191000     21      Calm  Post\n",
       "\n",
       "[74 rows x 4 columns]"
      ]
     },
     "execution_count": 4,
     "metadata": {},
     "output_type": "execute_result"
    }
   ],
   "source": [
    "df"
   ]
  },
  {
   "cell_type": "markdown",
   "id": "7ef09ea7-f343-4ee2-9b15-bd10d741d69b",
   "metadata": {},
   "source": [
    "### First check for distribution"
   ]
  },
  {
   "cell_type": "code",
   "execution_count": 5,
   "id": "ac93e4c5-06f3-4bb7-9661-53ec9995077f",
   "metadata": {},
   "outputs": [
    {
     "name": "stdout",
     "output_type": "stream",
     "text": [
      "             W      pval  normal\n",
      "Score  0.92246  0.000226   False\n"
     ]
    },
    {
     "data": {
      "text/plain": [
       "<AxesSubplot:xlabel='Score', ylabel='Count'>"
      ]
     },
     "execution_count": 5,
     "metadata": {},
     "output_type": "execute_result"
    },
    {
     "data": {
      "image/png": "[encoded data removed]",
      "text/plain": [
       "<Figure size 432x288 with 1 Axes>"
      ]
     },
     "metadata": {
      "needs_background": "light"
     },
     "output_type": "display_data"
    }
   ],
   "source": [
    "print(pg.normality(df['Score']))\n",
    "\n",
    "sns.histplot(x='Score', data=df, kde=True)"
   ]
  },
  {
   "cell_type": "markdown",
   "id": "6f847d5c-6ed2-40c5-ac43-12c84fbbb178",
   "metadata": {},
   "source": [
    "### Outlier detection"
   ]
  },
  {
   "cell_type": "code",
   "execution_count": 6,
   "id": "85b31061-eaf7-4281-8cc0-162ce8f75ff6",
   "metadata": {},
   "outputs": [
    {
     "name": "stderr",
     "output_type": "stream",
     "text": [
      "C:\\ProgramData\\Anaconda3\\lib\\site-packages\\outdated\\utils.py:14: OutdatedPackageWarning: The package pingouin is out of date. Your version is 0.5.2, the latest is 0.5.4.\n",
      "Set the environment variable OUTDATED_IGNORE=1 to disable these warnings.\n",
      "  return warn(\n"
     ]
    },
    {
     "data": {
      "image/png": "[encoded data removed]",
      "text/plain": [
       "<Figure size 432x288 with 1 Axes>"
      ]
     },
     "metadata": {
      "needs_background": "light"
     },
     "output_type": "display_data"
    }
   ],
   "source": [
    "mask1=(df['Condition'] == 'Stress') & (df['Test'] == 'Pre')\n",
    "mask2=(df['Condition'] == 'Stress') & (df['Test'] == 'Post')\n",
    "mask3=(df['Condition'] == 'Calm') & (df['Test'] == 'Pre')\n",
    "mask4=(df['Condition'] == 'Calm') & (df['Test'] == 'Post')\n",
    "\n",
    "ax1 = sns.scatterplot(x='Ptx',y='Score',data=df[mask1],color='g')\n",
    "ax2 = sns.scatterplot(x='Ptx',y='Score',data=df[mask2],color='r')\n",
    "\n",
    "ax1.tick_params(axis='x', rotation=90)"
   ]
  },
  {
   "cell_type": "code",
   "execution_count": 7,
   "id": "9bed52b2-b9a3-4d70-9117-a4048387fb00",
   "metadata": {},
   "outputs": [
    {
     "data": {
      "image/png": "[encoded data removed]",
      "text/plain": [
       "<Figure size 432x288 with 1 Axes>"
      ]
     },
     "metadata": {
      "needs_background": "light"
     },
     "output_type": "display_data"
    }
   ],
   "source": [
    "mask1=(df['Condition'] == 'Stress') & (df['Test'] == 'Pre')\n",
    "mask2=(df['Condition'] == 'Stress') & (df['Test'] == 'Post')\n",
    "\n",
    "mask3=(df['Condition'] == 'Calm') & (df['Test'] == 'Pre')\n",
    "mask4=(df['Condition'] == 'Calm') & (df['Test'] == 'Post')\n",
    "\n",
    "ax1 = sns.scatterplot(x='Ptx',y='Score',data=df[mask3],color='g')\n",
    "ax2 = sns.scatterplot(x='Ptx',y='Score',data=df[mask4],color='r')\n",
    "\n",
    "ax1.tick_params(axis='x', rotation=90)"
   ]
  },
  {
   "cell_type": "markdown",
   "id": "c9df471a-6190-4b9e-b185-01a570082c25",
   "metadata": {},
   "source": [
    "### Measure the mean difference of each ptx"
   ]
  },
  {
   "cell_type": "code",
   "execution_count": 8,
   "id": "f3ec2a81-051a-4885-9f75-f21738a65d5d",
   "metadata": {
    "tags": []
   },
   "outputs": [
    {
     "data": {
      "text/html": [
       "<div>\n",
       "<style scoped>\n",
       "    .dataframe tbody tr th:only-of-type {\n",
       "        vertical-align: middle;\n",
       "    }\n",
       "\n",
       "    .dataframe tbody tr th {\n",
       "        vertical-align: top;\n",
       "    }\n",
       "\n",
       "    .dataframe thead th {\n",
       "        text-align: right;\n",
       "    }\n",
       "</style>\n",
       "<table border=\"1\" class=\"dataframe\">\n",
       "  <thead>\n",
       "    <tr style=\"text-align: right;\">\n",
       "      <th>Test</th>\n",
       "      <th>Ptx</th>\n",
       "      <th>Condition</th>\n",
       "      <th>Post</th>\n",
       "      <th>Pre</th>\n",
       "      <th>Difference</th>\n",
       "    </tr>\n",
       "  </thead>\n",
       "  <tbody>\n",
       "    <tr>\n",
       "      <th>0</th>\n",
       "      <td>AC071300</td>\n",
       "      <td>Stress</td>\n",
       "      <td>56</td>\n",
       "      <td>48</td>\n",
       "      <td>8</td>\n",
       "    </tr>\n",
       "    <tr>\n",
       "      <th>1</th>\n",
       "      <td>AM051035</td>\n",
       "      <td>Stress</td>\n",
       "      <td>23</td>\n",
       "      <td>25</td>\n",
       "      <td>-2</td>\n",
       "    </tr>\n",
       "    <tr>\n",
       "      <th>2</th>\n",
       "      <td>AS121400</td>\n",
       "      <td>Stress</td>\n",
       "      <td>37</td>\n",
       "      <td>34</td>\n",
       "      <td>3</td>\n",
       "    </tr>\n",
       "    <tr>\n",
       "      <th>3</th>\n",
       "      <td>BG141500</td>\n",
       "      <td>Calm</td>\n",
       "      <td>38</td>\n",
       "      <td>33</td>\n",
       "      <td>5</td>\n",
       "    </tr>\n",
       "    <tr>\n",
       "      <th>4</th>\n",
       "      <td>CM141600</td>\n",
       "      <td>Calm</td>\n",
       "      <td>36</td>\n",
       "      <td>36</td>\n",
       "      <td>0</td>\n",
       "    </tr>\n",
       "  </tbody>\n",
       "</table>\n",
       "</div>"
      ],
      "text/plain": [
       "Test       Ptx Condition  Post  Pre  Difference\n",
       "0     AC071300    Stress    56   48           8\n",
       "1     AM051035    Stress    23   25          -2\n",
       "2     AS121400    Stress    37   34           3\n",
       "3     BG141500      Calm    38   33           5\n",
       "4     CM141600      Calm    36   36           0"
      ]
     },
     "execution_count": 8,
     "metadata": {},
     "output_type": "execute_result"
    }
   ],
   "source": [
    "# Pivot the DataFrame to get Pre and Post scores on separate columns for each Ptx and Condition\n",
    "pivoted_df = df.pivot(index=['Ptx', 'Condition'], columns='Test', values='Score')\n",
    "\n",
    "# Calculate the difference (Post - Pre) and reset the index to make Ptx and Condition columns again\n",
    "pivoted_df['Difference'] = pivoted_df['Post'] - pivoted_df['Pre']\n",
    "result_df = pivoted_df.reset_index()\n",
    "\n",
    "result_df.head(5)\n"
   ]
  },
  {
   "cell_type": "markdown",
   "id": "432e3e5e-fe2a-4839-ad98-419041e7200a",
   "metadata": {},
   "source": [
    "### Normality distribution test for difference"
   ]
  },
  {
   "cell_type": "code",
   "execution_count": 9,
   "id": "15f18650-920d-44f5-bebf-986d9daf7a9e",
   "metadata": {},
   "outputs": [
    {
     "name": "stdout",
     "output_type": "stream",
     "text": [
      "                   W      pval  normal\n",
      "Difference  0.969868  0.404767    True\n"
     ]
    },
    {
     "data": {
      "text/plain": [
       "<AxesSubplot:xlabel='Difference', ylabel='Count'>"
      ]
     },
     "execution_count": 9,
     "metadata": {},
     "output_type": "execute_result"
    },
    {
     "data": {
      "image/png": "[encoded data removed]",
      "text/plain": [
       "<Figure size 432x288 with 1 Axes>"
      ]
     },
     "metadata": {
      "needs_background": "light"
     },
     "output_type": "display_data"
    }
   ],
   "source": [
    "print(pg.normality(result_df['Difference']))\n",
    "\n",
    "sns.histplot(x='Difference', data=result_df, kde=True)"
   ]
  },
  {
   "cell_type": "code",
   "execution_count": 10,
   "id": "b62c1a0c-a9e6-4de4-9cb3-115abff16616",
   "metadata": {},
   "outputs": [
    {
     "name": "stdout",
     "output_type": "stream",
     "text": [
      "p-value annotation legend:\n",
      "ns: 5.00e-02 < p <= 1.00e+00\n",
      "*: 1.00e-02 < p <= 5.00e-02\n",
      "**: 1.00e-03 < p <= 1.00e-02\n",
      "***: 1.00e-04 < p <= 1.00e-03\n",
      "****: p <= 1.00e-04\n",
      "\n",
      "Calm v.s. Stress: Welch's t-test independent samples with Bonferroni correction, P_val=4.233e-02 stat=-2.123e+00\n"
     ]
    },
    {
     "name": "stderr",
     "output_type": "stream",
     "text": [
      "<ipython-input-10-cfba9b18dac7>:13: MatplotlibDeprecationWarning: savefig() got unexpected keyword argument \"bbox_inch\" which is no longer supported as of 3.3 and will become an error two minor releases later\n",
      "  plt.savefig(\"PrePost_Difference.png\", dpi=450, bbox_inch=True)\n"
     ]
    },
    {
     "data": {
      "image/png": "[encoded data removed]",
      "text/plain": [
       "<Figure size 432x288 with 1 Axes>"
      ]
     },
     "metadata": {
      "needs_background": "light"
     },
     "output_type": "display_data"
    }
   ],
   "source": [
    "order = ['Calm', 'Stress']\n",
    "x='Condition'\n",
    "y='Difference'\n",
    "\n",
    "box_pairs = [['Stress', 'Calm']]\n",
    "ax1 = sns.boxplot(x=x, y=y, order=order, data=result_df)\n",
    "\n",
    "test_results = add_stat_annotation(ax1, data=result_df, x=x, y=y, order=order,\n",
    "                                   box_pairs=box_pairs,\n",
    "                                   test='t-test_welch', text_format='star',\n",
    "                                   loc='outside', verbose=2)\n",
    "\n",
    "plt.savefig(\"PrePost_Difference.png\", dpi=450, bbox_inch=True)"
   ]
  },
  {
   "cell_type": "code",
   "execution_count": 30,
   "id": "1524eef8-e0be-4d5c-ada2-172eb5bd018a",
   "metadata": {},
   "outputs": [
    {
     "name": "stdout",
     "output_type": "stream",
     "text": [
      "Mean calm: 0.278 SD: 11.661\n",
      "Mean stress: 7.421 SD: 7.735\n"
     ]
    }
   ],
   "source": [
    "mask = (result_df['Condition'] == 'Calm')\n",
    "print('Mean calm: ' + str(np.round(np.mean(result_df[mask]['Difference']),3)) + \" SD: \" + str(np.round(np.std(result_df[mask]['Difference']),3)))\n",
    "\n",
    "mask = (result_df['Condition'] == 'Stress')\n",
    "print('Mean stress: ' + str(np.round(np.mean(result_df[mask]['Difference']),3)) + \" SD: \" + str(np.round(np.std(result_df[mask]['Difference']),3)))"
   ]
  },
  {
   "cell_type": "markdown",
   "id": "2d89d5a7-e54e-4f34-ac3b-cb90b6629ffb",
   "metadata": {},
   "source": [
    "### Then that tells you to apply a non-parametric test, e.g. Friedman test (pinch of salt)"
   ]
  },
  {
   "cell_type": "code",
   "execution_count": 11,
   "id": "f895c231-dc27-4404-acd8-bde36ea804d7",
   "metadata": {},
   "outputs": [
    {
     "name": "stderr",
     "output_type": "stream",
     "text": [
      "C:\\ProgramData\\Anaconda3\\lib\\site-packages\\pingouin\\parametric.py:992: FutureWarning: Not prepending group keys to the result index of transform-like apply. In the future, the group keys will be included in the index, regardless of whether the applied function returns a like-indexed object.\n",
      "To preserve the previous behavior, use\n",
      "\n",
      "\t>>> .groupby(..., group_keys=False)\n",
      "\n",
      "To adopt the future behavior and silence this warning, use \n",
      "\n",
      "\t>>> .groupby(..., group_keys=True)\n",
      "  sserror = grp.apply(lambda x: (x - x.mean()) ** 2).sum()\n"
     ]
    },
    {
     "data": {
      "text/html": [
       "<div>\n",
       "<style scoped>\n",
       "    .dataframe tbody tr th:only-of-type {\n",
       "        vertical-align: middle;\n",
       "    }\n",
       "\n",
       "    .dataframe tbody tr th {\n",
       "        vertical-align: top;\n",
       "    }\n",
       "\n",
       "    .dataframe thead th {\n",
       "        text-align: right;\n",
       "    }\n",
       "</style>\n",
       "<table border=\"1\" class=\"dataframe\">\n",
       "  <thead>\n",
       "    <tr style=\"text-align: right;\">\n",
       "      <th></th>\n",
       "      <th>Source</th>\n",
       "      <th>ddof1</th>\n",
       "      <th>ddof2</th>\n",
       "      <th>F</th>\n",
       "      <th>p-unc</th>\n",
       "      <th>np2</th>\n",
       "    </tr>\n",
       "  </thead>\n",
       "  <tbody>\n",
       "    <tr>\n",
       "      <th>0</th>\n",
       "      <td>Condition</td>\n",
       "      <td>1</td>\n",
       "      <td>35</td>\n",
       "      <td>4.606</td>\n",
       "      <td>0.039</td>\n",
       "      <td>0.116</td>\n",
       "    </tr>\n",
       "  </tbody>\n",
       "</table>\n",
       "</div>"
      ],
      "text/plain": [
       "      Source  ddof1  ddof2      F  p-unc    np2\n",
       "0  Condition      1     35  4.606  0.039  0.116"
      ]
     },
     "execution_count": 11,
     "metadata": {},
     "output_type": "execute_result"
    }
   ],
   "source": [
    "pg.anova(dv='Difference', between='Condition', effsize=\"np2\", data=result_df).round(3)"
   ]
  },
  {
   "cell_type": "code",
   "execution_count": 12,
   "id": "f51b3c82-1376-46b5-bd32-12f07bc18e96",
   "metadata": {},
   "outputs": [
    {
     "name": "stderr",
     "output_type": "stream",
     "text": [
      "C:\\ProgramData\\Anaconda3\\lib\\site-packages\\pingouin\\parametric.py:551: FutureWarning: Not prepending group keys to the result index of transform-like apply. In the future, the group keys will be included in the index, regardless of whether the applied function returns a like-indexed object.\n",
      "To preserve the previous behavior, use\n",
      "\n",
      "\t>>> .groupby(..., group_keys=False)\n",
      "\n",
      "To adopt the future behavior and silence this warning, use \n",
      "\n",
      "\t>>> .groupby(..., group_keys=True)\n",
      "  ss_resall = grp_with.apply(lambda x: (x - x.mean()) ** 2).sum()\n",
      "C:\\ProgramData\\Anaconda3\\lib\\site-packages\\pingouin\\parametric.py:992: FutureWarning: Not prepending group keys to the result index of transform-like apply. In the future, the group keys will be included in the index, regardless of whether the applied function returns a like-indexed object.\n",
      "To preserve the previous behavior, use\n",
      "\n",
      "\t>>> .groupby(..., group_keys=False)\n",
      "\n",
      "To adopt the future behavior and silence this warning, use \n",
      "\n",
      "\t>>> .groupby(..., group_keys=True)\n",
      "  sserror = grp.apply(lambda x: (x - x.mean()) ** 2).sum()\n",
      "C:\\ProgramData\\Anaconda3\\lib\\site-packages\\pingouin\\parametric.py:1512: FutureWarning: Not prepending group keys to the result index of transform-like apply. In the future, the group keys will be included in the index, regardless of whether the applied function returns a like-indexed object.\n",
      "To preserve the previous behavior, use\n",
      "\n",
      "\t>>> .groupby(..., group_keys=False)\n",
      "\n",
      "To adopt the future behavior and silence this warning, use \n",
      "\n",
      "\t>>> .groupby(..., group_keys=True)\n",
      "  ss_resall = grp.apply(lambda x: (x - x.mean()) ** 2).sum()\n"
     ]
    },
    {
     "data": {
      "text/html": [
       "<div>\n",
       "<style scoped>\n",
       "    .dataframe tbody tr th:only-of-type {\n",
       "        vertical-align: middle;\n",
       "    }\n",
       "\n",
       "    .dataframe tbody tr th {\n",
       "        vertical-align: top;\n",
       "    }\n",
       "\n",
       "    .dataframe thead th {\n",
       "        text-align: right;\n",
       "    }\n",
       "</style>\n",
       "<table border=\"1\" class=\"dataframe\">\n",
       "  <thead>\n",
       "    <tr style=\"text-align: right;\">\n",
       "      <th></th>\n",
       "      <th>Source</th>\n",
       "      <th>SS</th>\n",
       "      <th>DF1</th>\n",
       "      <th>DF2</th>\n",
       "      <th>MS</th>\n",
       "      <th>F</th>\n",
       "      <th>p-unc</th>\n",
       "      <th>ng2</th>\n",
       "      <th>eps</th>\n",
       "    </tr>\n",
       "  </thead>\n",
       "  <tbody>\n",
       "    <tr>\n",
       "      <th>0</th>\n",
       "      <td>Condition</td>\n",
       "      <td>91.893</td>\n",
       "      <td>1</td>\n",
       "      <td>35</td>\n",
       "      <td>91.893</td>\n",
       "      <td>0.428</td>\n",
       "      <td>0.517</td>\n",
       "      <td>0.010</td>\n",
       "      <td>NaN</td>\n",
       "    </tr>\n",
       "    <tr>\n",
       "      <th>1</th>\n",
       "      <td>Test</td>\n",
       "      <td>288.054</td>\n",
       "      <td>1</td>\n",
       "      <td>35</td>\n",
       "      <td>288.054</td>\n",
       "      <td>5.626</td>\n",
       "      <td>0.023</td>\n",
       "      <td>0.030</td>\n",
       "      <td>1.0</td>\n",
       "    </tr>\n",
       "    <tr>\n",
       "      <th>2</th>\n",
       "      <td>Interaction</td>\n",
       "      <td>235.825</td>\n",
       "      <td>1</td>\n",
       "      <td>35</td>\n",
       "      <td>235.825</td>\n",
       "      <td>4.606</td>\n",
       "      <td>0.039</td>\n",
       "      <td>0.025</td>\n",
       "      <td>NaN</td>\n",
       "    </tr>\n",
       "  </tbody>\n",
       "</table>\n",
       "</div>"
      ],
      "text/plain": [
       "        Source       SS  DF1  DF2       MS      F  p-unc    ng2  eps\n",
       "0    Condition   91.893    1   35   91.893  0.428  0.517  0.010  NaN\n",
       "1         Test  288.054    1   35  288.054  5.626  0.023  0.030  1.0\n",
       "2  Interaction  235.825    1   35  235.825  4.606  0.039  0.025  NaN"
      ]
     },
     "execution_count": 12,
     "metadata": {},
     "output_type": "execute_result"
    }
   ],
   "source": [
    "pg.mixed_anova(dv='Score', between='Condition', within='Test',\n",
    "               subject='Ptx', effsize=\"ng2\", data=df).round(3)"
   ]
  },
  {
   "cell_type": "markdown",
   "id": "800ba167-3213-4c17-ba0d-3f4c7f16ecad",
   "metadata": {},
   "source": [
    "### Before the post-hoc test, let's look at the distribution for the individual conditions we are about to compare"
   ]
  },
  {
   "cell_type": "code",
   "execution_count": 13,
   "id": "d3313d51-08d6-4452-95fa-aef3a901e2d4",
   "metadata": {},
   "outputs": [
    {
     "data": {
      "text/html": [
       "<div>\n",
       "<style scoped>\n",
       "    .dataframe tbody tr th:only-of-type {\n",
       "        vertical-align: middle;\n",
       "    }\n",
       "\n",
       "    .dataframe tbody tr th {\n",
       "        vertical-align: top;\n",
       "    }\n",
       "\n",
       "    .dataframe thead th {\n",
       "        text-align: right;\n",
       "    }\n",
       "</style>\n",
       "<table border=\"1\" class=\"dataframe\">\n",
       "  <thead>\n",
       "    <tr style=\"text-align: right;\">\n",
       "      <th></th>\n",
       "      <th>T</th>\n",
       "      <th>dof</th>\n",
       "      <th>alternative</th>\n",
       "      <th>p-val</th>\n",
       "      <th>CI95%</th>\n",
       "      <th>cohen-d</th>\n",
       "      <th>BF10</th>\n",
       "      <th>power</th>\n",
       "    </tr>\n",
       "  </thead>\n",
       "  <tbody>\n",
       "    <tr>\n",
       "      <th>T-test</th>\n",
       "      <td>-1.464211</td>\n",
       "      <td>34.56298</td>\n",
       "      <td>two-sided</td>\n",
       "      <td>0.152173</td>\n",
       "      <td>[-13.85, 2.25]</td>\n",
       "      <td>0.47937</td>\n",
       "      <td>0.731</td>\n",
       "      <td>0.294127</td>\n",
       "    </tr>\n",
       "  </tbody>\n",
       "</table>\n",
       "</div>"
      ],
      "text/plain": [
       "               T       dof alternative     p-val           CI95%  cohen-d  \\\n",
       "T-test -1.464211  34.56298   two-sided  0.152173  [-13.85, 2.25]  0.47937   \n",
       "\n",
       "         BF10     power  \n",
       "T-test  0.731  0.294127  "
      ]
     },
     "execution_count": 13,
     "metadata": {},
     "output_type": "execute_result"
    }
   ],
   "source": [
    "mask1=(df['Condition'] == 'Stress') & (df['Test'] == 'Pre')\n",
    "mask2=(df['Condition'] == 'Stress') & (df['Test'] == 'Post')\n",
    "mask3=(df['Condition'] == 'Calm') & (df['Test'] == 'Pre')\n",
    "mask4=(df['Condition'] == 'Calm') & (df['Test'] == 'Post')\n",
    "\n",
    "# print(pg.normality(df[mask1]['Score']))\n",
    "# print(pg.normality(df[mask2]['Score']))\n",
    "# print(pg.normality(df[mask3]['Score']))\n",
    "# print(pg.normality(df[mask4]['Score']))\n",
    "\n",
    "pg.ttest(df[mask4]['Score'],df[mask2]['Score'], paired=False)"
   ]
  },
  {
   "cell_type": "markdown",
   "id": "6639fb48-765b-405c-95c3-fef965cdc05e",
   "metadata": {},
   "source": [
    "### Post-Hoc test i.e. pairwise comparisons between all the condition in order to ...\n",
    "disentangle where the significance in the Test (Pre-Post) and where the significance in the interaction happens "
   ]
  },
  {
   "cell_type": "code",
   "execution_count": 14,
   "id": "fc60de51-c039-4c5a-9da6-8064750085a4",
   "metadata": {},
   "outputs": [
    {
     "name": "stdout",
     "output_type": "stream",
     "text": [
      "p-value annotation legend:\n",
      "ns: 5.00e-02 < p <= 1.00e+00\n",
      "*: 1.00e-02 < p <= 5.00e-02\n",
      "**: 1.00e-03 < p <= 1.00e-02\n",
      "***: 1.00e-04 < p <= 1.00e-03\n",
      "****: p <= 1.00e-04\n",
      "\n",
      "Stress_Pre v.s. Stress_Post: Mann-Whitney-Wilcoxon test greater with Bonferroni correction, P_val=9.603e-01 U_stat=1.210e+02\n",
      "(<AxesSubplot:xlabel='Condition', ylabel='Score'>, [<statannot.StatResult.StatResult object at 0x000002041D98D8E0>])\n"
     ]
    },
    {
     "data": {
      "image/png": "[encoded data removed]",
      "text/plain": [
       "<Figure size 432x288 with 1 Axes>"
      ]
     },
     "metadata": {
      "needs_background": "light"
     },
     "output_type": "display_data"
    }
   ],
   "source": [
    "order = ['Calm', 'Stress']\n",
    "x='Condition'\n",
    "y='Score'\n",
    "hue='Test'\n",
    "# box_pairs = [(('Calm','Pre'), ('Calm','Post')),\n",
    "#              (('Stress','Pre'), ('Stress','Post')),\n",
    "#              (('Calm','Pre'), ('Stress','Pre')),\n",
    "#              (('Calm','Post'), ('Stress','Post'))]\n",
    "\n",
    "box_pairs = [(('Stress','Pre'), ('Stress','Post'))]\n",
    "\n",
    "# This is the main plot without the pairwise comparisons \n",
    "ax1 = sns.barplot(x=x, y=y, hue=hue, order=order, data=df)\n",
    "\n",
    "test_results = add_stat_annotation(ax1, data=df, x=x, y=y, order=order,hue=hue,\n",
    "                                   box_pairs=box_pairs,\n",
    "                                   test='Mann-Whitney-gt', text_format='star',\n",
    "                                   loc='outside', verbose=2)\n",
    "\n",
    "print(test_results)"
   ]
  },
  {
   "cell_type": "code",
   "execution_count": 15,
   "id": "08c16a7f-ddfd-48cf-8d16-dcdd58032f0f",
   "metadata": {},
   "outputs": [
    {
     "name": "stderr",
     "output_type": "stream",
     "text": [
      "C:\\ProgramData\\Anaconda3\\lib\\site-packages\\pingouin\\pairwise.py:477: FutureWarning: The default value of numeric_only in DataFrameGroupBy.mean is deprecated. In a future version, numeric_only will default to False. Either specify numeric_only or select only columns which should be valid for the function.\n",
      "  tmp = data.groupby([subject, f], as_index=False, observed=True, sort=True).mean()\n",
      "C:\\ProgramData\\Anaconda3\\lib\\site-packages\\pingouin\\pairwise.py:582: FutureWarning: In a future version, `df.iloc[:, i] = newvals` will attempt to set the values inplace instead of always setting a new array. To retain the old behavior, use either `df[df.columns[i]] = newvals` or, if columns are non-unique, `df.isetitem(i, newvals)`\n",
      "  stats.loc[:, \"Parametric\"] = parametric\n"
     ]
    },
    {
     "data": {
      "text/html": [
       "<div>\n",
       "<style scoped>\n",
       "    .dataframe tbody tr th:only-of-type {\n",
       "        vertical-align: middle;\n",
       "    }\n",
       "\n",
       "    .dataframe tbody tr th {\n",
       "        vertical-align: top;\n",
       "    }\n",
       "\n",
       "    .dataframe thead th {\n",
       "        text-align: right;\n",
       "    }\n",
       "</style>\n",
       "<table border=\"1\" class=\"dataframe\">\n",
       "  <thead>\n",
       "    <tr style=\"text-align: right;\">\n",
       "      <th></th>\n",
       "      <th>Contrast</th>\n",
       "      <th>Test</th>\n",
       "      <th>A</th>\n",
       "      <th>B</th>\n",
       "      <th>Paired</th>\n",
       "      <th>Parametric</th>\n",
       "      <th>T</th>\n",
       "      <th>dof</th>\n",
       "      <th>alternative</th>\n",
       "      <th>p-unc</th>\n",
       "      <th>p-corr</th>\n",
       "      <th>p-adjust</th>\n",
       "      <th>BF10</th>\n",
       "      <th>hedges</th>\n",
       "    </tr>\n",
       "  </thead>\n",
       "  <tbody>\n",
       "    <tr>\n",
       "      <th>0</th>\n",
       "      <td>Test</td>\n",
       "      <td>-</td>\n",
       "      <td>Post</td>\n",
       "      <td>Pre</td>\n",
       "      <td>True</td>\n",
       "      <td>True</td>\n",
       "      <td>2.261</td>\n",
       "      <td>36.000</td>\n",
       "      <td>two-sided</td>\n",
       "      <td>0.030</td>\n",
       "      <td>NaN</td>\n",
       "      <td>NaN</td>\n",
       "      <td>1.675</td>\n",
       "      <td>0.338</td>\n",
       "    </tr>\n",
       "    <tr>\n",
       "      <th>1</th>\n",
       "      <td>Condition</td>\n",
       "      <td>-</td>\n",
       "      <td>Calm</td>\n",
       "      <td>Stress</td>\n",
       "      <td>False</td>\n",
       "      <td>True</td>\n",
       "      <td>-0.655</td>\n",
       "      <td>34.987</td>\n",
       "      <td>two-sided</td>\n",
       "      <td>0.517</td>\n",
       "      <td>NaN</td>\n",
       "      <td>NaN</td>\n",
       "      <td>0.377</td>\n",
       "      <td>-0.211</td>\n",
       "    </tr>\n",
       "    <tr>\n",
       "      <th>2</th>\n",
       "      <td>Test * Condition</td>\n",
       "      <td>Post</td>\n",
       "      <td>Calm</td>\n",
       "      <td>Stress</td>\n",
       "      <td>False</td>\n",
       "      <td>True</td>\n",
       "      <td>-1.464</td>\n",
       "      <td>34.563</td>\n",
       "      <td>two-sided</td>\n",
       "      <td>0.152</td>\n",
       "      <td>0.304</td>\n",
       "      <td>bonf</td>\n",
       "      <td>0.731</td>\n",
       "      <td>-0.469</td>\n",
       "    </tr>\n",
       "    <tr>\n",
       "      <th>3</th>\n",
       "      <td>Test * Condition</td>\n",
       "      <td>Pre</td>\n",
       "      <td>Calm</td>\n",
       "      <td>Stress</td>\n",
       "      <td>False</td>\n",
       "      <td>True</td>\n",
       "      <td>0.371</td>\n",
       "      <td>31.004</td>\n",
       "      <td>two-sided</td>\n",
       "      <td>0.714</td>\n",
       "      <td>1.000</td>\n",
       "      <td>bonf</td>\n",
       "      <td>0.336</td>\n",
       "      <td>0.120</td>\n",
       "    </tr>\n",
       "  </tbody>\n",
       "</table>\n",
       "</div>"
      ],
      "text/plain": [
       "           Contrast  Test     A       B Paired  Parametric      T     dof  \\\n",
       "0              Test     -  Post     Pre   True        True  2.261  36.000   \n",
       "1         Condition     -  Calm  Stress  False        True -0.655  34.987   \n",
       "2  Test * Condition  Post  Calm  Stress  False        True -1.464  34.563   \n",
       "3  Test * Condition   Pre  Calm  Stress  False        True  0.371  31.004   \n",
       "\n",
       "  alternative  p-unc  p-corr p-adjust   BF10  hedges  \n",
       "0   two-sided  0.030     NaN      NaN  1.675   0.338  \n",
       "1   two-sided  0.517     NaN      NaN  0.377  -0.211  \n",
       "2   two-sided  0.152   0.304     bonf  0.731  -0.469  \n",
       "3   two-sided  0.714   1.000     bonf  0.336   0.120  "
      ]
     },
     "execution_count": 15,
     "metadata": {},
     "output_type": "execute_result"
    }
   ],
   "source": [
    "posthocs = pg.pairwise_tests(dv='Score', within='Test', subject='Ptx',\n",
    "                              between='Condition', padjust='bonf', data=df)\n",
    "\n",
    "posthocs.round(3)"
   ]
  },
  {
   "cell_type": "code",
   "execution_count": null,
   "id": "2610006d-f021-4de4-956a-f2f66d3738ae",
   "metadata": {},
   "outputs": [],
   "source": []
  },
  {
   "cell_type": "code",
   "execution_count": null,
   "id": "4f9be37b-03ff-4f05-a68a-54cef0e87fc6",
   "metadata": {},
   "outputs": [],
   "source": []
  },
  {
   "cell_type": "code",
   "execution_count": null,
   "id": "439fc0fc-c5ad-4f2d-a011-071df825707a",
   "metadata": {},
   "outputs": [],
   "source": []
  },
  {
   "cell_type": "code",
   "execution_count": null,
   "id": "a217a935-5ec1-4bc7-a283-5a4da13e27f0",
   "metadata": {},
   "outputs": [],
   "source": []
  }
 ],
 "metadata": {
  "kernelspec": {
   "display_name": "Python 3",
   "language": "python",
   "name": "python3"
  },
  "language_info": {
   "codemirror_mode": {
    "name": "ipython",
    "version": 3
   },
   "file_extension": ".py",
   "mimetype": "text/x-python",
   "name": "python",
   "nbconvert_exporter": "python",
   "pygments_lexer": "ipython3",
   "version": "3.8.8"
  }
 },
 "nbformat": 4,
 "nbformat_minor": 5
}
