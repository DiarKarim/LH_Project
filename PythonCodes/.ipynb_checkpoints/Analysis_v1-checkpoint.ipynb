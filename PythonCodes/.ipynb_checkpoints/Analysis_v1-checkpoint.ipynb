{
 "cells": [
  {
   "cell_type": "markdown",
   "id": "48a50b26-82a6-41ed-91dd-7313d11d9f92",
   "metadata": {
    "tags": []
   },
   "source": [
    "# Lily's physiological data analysis\n",
    "\n",
    "This script:\n",
    "\n",
    "1. loads in all the participant data\n",
    "2. Cleans up the data accordingly i.e. renames columns etc. \n",
    "3. Plots the raw data"
   ]
  },
  {
   "cell_type": "code",
   "execution_count": 4,
   "id": "36da8ce2-df6c-472e-bb14-6de5c1e30459",
   "metadata": {
    "tags": []
   },
   "outputs": [],
   "source": [
    "import pandas as pd\n",
    "import matplotlib.pyplot as plt\n",
    "import seaborn as sns\n",
    "from scipy.signal import find_peaks\n",
    "import numpy as np\n",
    "from scipy.signal import savgol_filter\n",
    "import os"
   ]
  },
  {
   "cell_type": "code",
   "execution_count": 5,
   "id": "ed4db752-30ed-4b93-ab51-ac7e3ff6046f",
   "metadata": {
    "tags": []
   },
   "outputs": [],
   "source": [
    "path = \"C:/Users/VR-Lab/Documents/Projects/LH_Project/Data/\""
   ]
  },
  {
   "cell_type": "markdown",
   "id": "e843788f-bcca-4194-a7eb-e33d82973606",
   "metadata": {
    "tags": []
   },
   "source": [
    "## 1. Load all participant data collected so far"
   ]
  },
  {
   "cell_type": "code",
   "execution_count": 124,
   "id": "9cd6537e-634b-4365-9ce4-efac6a0c5bec",
   "metadata": {
    "tags": []
   },
   "outputs": [
    {
     "data": {
      "text/html": [
       "<div>\n",
       "<style scoped>\n",
       "    .dataframe tbody tr th:only-of-type {\n",
       "        vertical-align: middle;\n",
       "    }\n",
       "\n",
       "    .dataframe tbody tr th {\n",
       "        vertical-align: top;\n",
       "    }\n",
       "\n",
       "    .dataframe thead th {\n",
       "        text-align: right;\n",
       "    }\n",
       "</style>\n",
       "<table border=\"1\" class=\"dataframe\">\n",
       "  <thead>\n",
       "    <tr style=\"text-align: right;\">\n",
       "      <th></th>\n",
       "      <th>heart_rate</th>\n",
       "      <th>gsr_response</th>\n",
       "      <th>time</th>\n",
       "      <th>phase</th>\n",
       "      <th>Participant_ID</th>\n",
       "      <th>Condition</th>\n",
       "      <th>Trial</th>\n",
       "    </tr>\n",
       "  </thead>\n",
       "  <tbody>\n",
       "    <tr>\n",
       "      <th>0</th>\n",
       "      <td>201</td>\n",
       "      <td>58</td>\n",
       "      <td>0.252113</td>\n",
       "      <td>startNow</td>\n",
       "      <td>AM051035</td>\n",
       "      <td>1</td>\n",
       "      <td>1</td>\n",
       "    </tr>\n",
       "    <tr>\n",
       "      <th>1</th>\n",
       "      <td>159</td>\n",
       "      <td>112</td>\n",
       "      <td>0.259096</td>\n",
       "      <td>startNow</td>\n",
       "      <td>AM051035</td>\n",
       "      <td>1</td>\n",
       "      <td>1</td>\n",
       "    </tr>\n",
       "    <tr>\n",
       "      <th>2</th>\n",
       "      <td>143</td>\n",
       "      <td>167</td>\n",
       "      <td>0.271064</td>\n",
       "      <td>startNow</td>\n",
       "      <td>AM051035</td>\n",
       "      <td>1</td>\n",
       "      <td>1</td>\n",
       "    </tr>\n",
       "  </tbody>\n",
       "</table>\n",
       "</div>"
      ],
      "text/plain": [
       "   heart_rate  gsr_response      time     phase Participant_ID  Condition  \\\n",
       "0         201            58  0.252113  startNow       AM051035          1   \n",
       "1         159           112  0.259096  startNow       AM051035          1   \n",
       "2         143           167  0.271064  startNow       AM051035          1   \n",
       "\n",
       "   Trial  \n",
       "0      1  \n",
       "1      1  \n",
       "2      1  "
      ]
     },
     "execution_count": 124,
     "metadata": {},
     "output_type": "execute_result"
    }
   ],
   "source": [
    "files = os.listdir(path)\n",
    "\n",
    "tmpDF = None\n",
    "df = None\n",
    "\n",
    "for file in files:\n",
    "    if 'json' in file:\n",
    "        tmpDF = pd.read_json(path+file)\n",
    "        \n",
    "        if df is None:\n",
    "            df = tmpDF\n",
    "        else:\n",
    "            df = pd.concat((df, tmpDF))        \n",
    "df.head(3)"
   ]
  },
  {
   "cell_type": "markdown",
   "id": "61fd9984-a969-49d9-84fb-7c8a07ae77a1",
   "metadata": {
    "tags": []
   },
   "source": [
    "## 2. Clean up the data "
   ]
  },
  {
   "cell_type": "markdown",
   "id": "594ed92c-5e57-4f00-9374-83e58cfc31b2",
   "metadata": {
    "tags": []
   },
   "source": [
    "### List phases present in the experiment"
   ]
  },
  {
   "cell_type": "code",
   "execution_count": 125,
   "id": "5b65ae97-97b5-41d4-895d-04050324b4d6",
   "metadata": {
    "tags": []
   },
   "outputs": [
    {
     "data": {
      "text/html": [
       "<div>\n",
       "<style scoped>\n",
       "    .dataframe tbody tr th:only-of-type {\n",
       "        vertical-align: middle;\n",
       "    }\n",
       "\n",
       "    .dataframe tbody tr th {\n",
       "        vertical-align: top;\n",
       "    }\n",
       "\n",
       "    .dataframe thead th {\n",
       "        text-align: right;\n",
       "    }\n",
       "</style>\n",
       "<table border=\"1\" class=\"dataframe\">\n",
       "  <thead>\n",
       "    <tr style=\"text-align: right;\">\n",
       "      <th></th>\n",
       "      <th>heart_rate</th>\n",
       "      <th>gsr_response</th>\n",
       "      <th>time</th>\n",
       "      <th>phase</th>\n",
       "      <th>Participant_ID</th>\n",
       "      <th>Condition</th>\n",
       "      <th>Trial</th>\n",
       "    </tr>\n",
       "  </thead>\n",
       "  <tbody>\n",
       "    <tr>\n",
       "      <th>0</th>\n",
       "      <td>201</td>\n",
       "      <td>58</td>\n",
       "      <td>0.252113</td>\n",
       "      <td>startNow</td>\n",
       "      <td>AM051035</td>\n",
       "      <td>0</td>\n",
       "      <td>1</td>\n",
       "    </tr>\n",
       "    <tr>\n",
       "      <th>1</th>\n",
       "      <td>159</td>\n",
       "      <td>112</td>\n",
       "      <td>0.259096</td>\n",
       "      <td>startNow</td>\n",
       "      <td>AM051035</td>\n",
       "      <td>0</td>\n",
       "      <td>1</td>\n",
       "    </tr>\n",
       "    <tr>\n",
       "      <th>2</th>\n",
       "      <td>143</td>\n",
       "      <td>167</td>\n",
       "      <td>0.271064</td>\n",
       "      <td>startNow</td>\n",
       "      <td>AM051035</td>\n",
       "      <td>0</td>\n",
       "      <td>1</td>\n",
       "    </tr>\n",
       "  </tbody>\n",
       "</table>\n",
       "</div>"
      ],
      "text/plain": [
       "   heart_rate  gsr_response      time     phase Participant_ID  Condition  \\\n",
       "0         201            58  0.252113  startNow       AM051035          0   \n",
       "1         159           112  0.259096  startNow       AM051035          0   \n",
       "2         143           167  0.271064  startNow       AM051035          0   \n",
       "\n",
       "   Trial  \n",
       "0      1  \n",
       "1      1  \n",
       "2      1  "
      ]
     },
     "execution_count": 125,
     "metadata": {},
     "output_type": "execute_result"
    }
   ],
   "source": [
    "participants_to_update = df.loc[df['phase'] == 'calm_1o3', 'Participant_ID'].unique()\n",
    "\n",
    "# Update \"Condition\" column to 0 for rows belonging to identified participants\n",
    "for participant in participants_to_update:\n",
    "    df.loc[df['Participant_ID'] == participant, 'Condition'] = 0\n",
    "    \n",
    "df.head(3)"
   ]
  },
  {
   "cell_type": "markdown",
   "id": "2148ef3e-0505-401d-8421-f7c0a4abf623",
   "metadata": {
    "tags": []
   },
   "source": [
    "### For ease of analysis, rename the stress and calm conditions to numbers\n",
    "\n",
    "e.g.\n",
    "stress_1o1 and calm_1o1 will become p1 and \n",
    "stress_1o2 and calm_1o2 will become p2 etc. \n",
    "\n",
    "We can afford to do this now because we separated out the conditions to 0 for calm and 1 for stress so we do not need the phases in order to tell which condition the participant experienced in the experiment\n",
    "\n",
    "This will make plotting the figures simpler, i.e. instead of seeing 6 phases (3 for the calm plut 3 for the stress conditions) we now only see 3 phases in total and we use the condition parameter to separate out which is stress and which is calm"
   ]
  },
  {
   "cell_type": "code",
   "execution_count": 126,
   "id": "7d4cbb84-df6e-413b-9e23-a18aba4bfca4",
   "metadata": {
    "tags": []
   },
   "outputs": [],
   "source": [
    "# Rename the conditions from numbers to words i.e. condition 0 = calm and condition 1 = stress \n",
    "df['Condition'] = df['Condition'].replace({0: 'Calm', 1: 'Stress'})\n",
    "df['Condition'] = df['Condition'].replace({3: 'Stress'})\n",
    "\n",
    "# Rename the 3 phases in the calm and stress conditions to phases 1 to 3\n",
    "df['phase'] = df['phase'].replace({'calm_1o3': 'Phase_1', 'stress_1o3': 'Phase_1'})\n",
    "df['phase'] = df['phase'].replace({'calm_2o3': 'Phase_2', 'stress_2o3': 'Phase_2'})\n",
    "df['phase'] = df['phase'].replace({'calm_3o3': 'Phase_3', 'stress_3o3': 'Phase_3'})\n",
    "\n",
    "# Rename calm or stress end phases to phase end \n",
    "df['phase'] = df['phase'].replace({'calm_end': 'Washout', 'stress_end': 'Washout'})\n",
    "\n",
    "# Rename to baseline for the initial baseline part of the experiment\n",
    "df['phase'] = df['phase'].replace({'end_instructions': 'Baseline'})\n"
   ]
  },
  {
   "cell_type": "code",
   "execution_count": 127,
   "id": "01304adc-1043-445d-bcc3-605b511e8681",
   "metadata": {
    "tags": []
   },
   "outputs": [
    {
     "data": {
      "text/plain": [
       "array(['Calm', 'Stress'], dtype=object)"
      ]
     },
     "execution_count": 127,
     "metadata": {},
     "output_type": "execute_result"
    }
   ],
   "source": [
    "pd.unique(df['Condition'])"
   ]
  },
  {
   "cell_type": "code",
   "execution_count": 128,
   "id": "d81b0749-ed3d-4d13-9c63-22bc01a880bf",
   "metadata": {
    "tags": []
   },
   "outputs": [
    {
     "data": {
      "text/plain": [
       "array(['startNow', 'start_experiment', 'buggy_journey',\n",
       "       'fix_buggy_instructions', 'storm_instructions', 'Baseline',\n",
       "       'Phase_1', 'Phase_2', 'Phase_3', 'Washout', 'experiment_end'],\n",
       "      dtype=object)"
      ]
     },
     "execution_count": 128,
     "metadata": {},
     "output_type": "execute_result"
    }
   ],
   "source": [
    "pd.unique(df['phase'])"
   ]
  },
  {
   "cell_type": "markdown",
   "id": "c84cf150-dde7-4a44-a411-4d8ea730007b",
   "metadata": {
    "tags": []
   },
   "source": [
    "### For the analysis, only use those phases that are relevant for your particular intervention and exclude the rest, which is what we are doing here"
   ]
  },
  {
   "cell_type": "code",
   "execution_count": 129,
   "id": "b2694e16-6d66-41dc-abeb-69b3531d649d",
   "metadata": {
    "tags": []
   },
   "outputs": [],
   "source": [
    "excludePhases = (df['phase']!='startNow') & (df['phase']!='start_experiment') & (df['phase']!='buggy_journey') & (df['phase']!='fix_buggy_instructions') & (df['phase']!='storm_instructions') & (df['phase']!='experiment_end')"
   ]
  },
  {
   "cell_type": "markdown",
   "id": "c8370eb2-f139-42e3-8179-b8e36980f086",
   "metadata": {
    "tags": []
   },
   "source": [
    "## 3. Raw data plots"
   ]
  },
  {
   "cell_type": "markdown",
   "id": "d5b7c898-4be6-4c16-aa3e-d7db396247a8",
   "metadata": {
    "tags": []
   },
   "source": [
    "### Here use the above selected phases on your plots and for the analysis to filter the data "
   ]
  },
  {
   "cell_type": "markdown",
   "id": "5913a8cb-289c-4c97-9085-7494c0242066",
   "metadata": {
    "tags": []
   },
   "source": [
    "#### For GSR we may need to normalise according to each participant's baseline values"
   ]
  },
  {
   "cell_type": "code",
   "execution_count": 137,
   "id": "c454a045-c306-4bda-ada6-d2db2fca4dfd",
   "metadata": {
    "tags": []
   },
   "outputs": [],
   "source": [
    "# We took the inverse of the resistance to convert the values to conductance \n",
    "df['gsr_response'] = 1/df['gsr_response']"
   ]
  },
  {
   "cell_type": "code",
   "execution_count": 136,
   "id": "09feacbc-8639-47eb-bca3-d50095b95ae4",
   "metadata": {
    "tags": []
   },
   "outputs": [
    {
     "data": {
      "image/png": "[encoded data removed]",
      "text/plain": [
       "<Figure size 640x480 with 1 Axes>"
      ]
     },
     "metadata": {},
     "output_type": "display_data"
    }
   ],
   "source": [
    "ax1 = sns.pointplot(x='phase',y='gsr_response', data=df[excludePhases], hue='Condition')\n",
    "ax1.tick_params(axis='x', rotation=90)"
   ]
  },
  {
   "cell_type": "code",
   "execution_count": 131,
   "id": "34351218-ec86-4a73-89d6-4d0e87bb42a0",
   "metadata": {
    "tags": []
   },
   "outputs": [],
   "source": [
    "### Heart rate "
   ]
  },
  {
   "cell_type": "code",
   "execution_count": 132,
   "id": "2da60112-aed2-425f-a1fc-67fd7ca6af9f",
   "metadata": {
    "tags": []
   },
   "outputs": [
    {
     "data": {
      "image/png": "[encoded data removed]",
      "text/plain": [
       "<Figure size 640x480 with 1 Axes>"
      ]
     },
     "metadata": {},
     "output_type": "display_data"
    }
   ],
   "source": [
    "ax2 = sns.pointplot(x='phase', y='heart_rate', data=df[excludePhases], hue='Condition')\n",
    "ax2.tick_params(axis='x', rotation=90)"
   ]
  },
  {
   "cell_type": "code",
   "execution_count": null,
   "id": "19f9b394-2eca-4de9-8bc9-585b3ad6e209",
   "metadata": {},
   "outputs": [],
   "source": []
  },
  {
   "cell_type": "code",
   "execution_count": null,
   "id": "4525a336-3827-4c36-959d-d62f494b00a9",
   "metadata": {},
   "outputs": [],
   "source": []
  },
  {
   "cell_type": "code",
   "execution_count": null,
   "id": "1612f703-91ab-41d3-ae35-94ec35c33247",
   "metadata": {},
   "outputs": [],
   "source": []
  },
  {
   "cell_type": "code",
   "execution_count": null,
   "id": "a371e440-412d-4eae-b8d4-160e996a392d",
   "metadata": {},
   "outputs": [],
   "source": []
  },
  {
   "cell_type": "code",
   "execution_count": null,
   "id": "0f1b2418-0b6a-47e3-becf-a381c24d2c78",
   "metadata": {},
   "outputs": [],
   "source": []
  },
  {
   "cell_type": "code",
   "execution_count": null,
   "id": "2f27d837-cbd5-4989-93dd-2ae8d7601c58",
   "metadata": {},
   "outputs": [],
   "source": []
  },
  {
   "cell_type": "code",
   "execution_count": null,
   "id": "77443d4a-a497-494b-af7a-4da0c11fe15d",
   "metadata": {},
   "outputs": [],
   "source": []
  },
  {
   "cell_type": "code",
   "execution_count": null,
   "id": "9bbd6d11-4c5a-43fd-b0b9-ae32c6ad7c4c",
   "metadata": {},
   "outputs": [],
   "source": []
  },
  {
   "cell_type": "code",
   "execution_count": null,
   "id": "fcca7a1b-22a1-4823-8b5e-99827d449ba4",
   "metadata": {},
   "outputs": [],
   "source": []
  },
  {
   "cell_type": "markdown",
   "id": "658e2b98-bdd4-4e67-80f4-8473b6fc88e6",
   "metadata": {
    "tags": []
   },
   "source": [
    "### Compute the Heart Rate Varibility (HRV) \n",
    "Use a window of a certain size (experiment with different window sizes) to compute this value"
   ]
  },
  {
   "cell_type": "markdown",
   "id": "e7a5fd70-3c27-4a2e-90a6-ddb89ec18b24",
   "metadata": {
    "tags": []
   },
   "source": [
    "##### How to compute HRV is by taking the standard deviation of the HRV for comparisons"
   ]
  },
  {
   "cell_type": "code",
   "execution_count": 10,
   "id": "d2b84caf-684f-40cf-972a-ffb1aff96c5a",
   "metadata": {
    "tags": []
   },
   "outputs": [
    {
     "name": "stdout",
     "output_type": "stream",
     "text": [
      "Duration: 388.923017\n",
      "Samples: 35985\n",
      "Sampling rate: 93.0\n"
     ]
    }
   ],
   "source": [
    "time = df['time'].values[-1] \n",
    "numb_per_samples = len(df['time'])\n",
    "\n",
    "print(\"Duration: \" + str(time))\n",
    "print(\"Samples: \" + str(numb_per_samples))\n",
    "\n",
    "sampling_rate = numb_per_samples / time\n",
    "\n",
    "print('Sampling rate: ' + str(np.round(sampling_rate)))"
   ]
  },
  {
   "cell_type": "markdown",
   "id": "022121e8-5828-4c5f-80f5-57eef501c596",
   "metadata": {
    "tags": []
   },
   "source": [
    "### Overall heart rate variability (HRV)"
   ]
  },
  {
   "cell_type": "markdown",
   "id": "f876ab30-7cda-4492-99eb-ccef581a6ac4",
   "metadata": {
    "tags": []
   },
   "source": [
    "#### Dumb way of computing the HRV for the different conditions"
   ]
  },
  {
   "cell_type": "code",
   "execution_count": 11,
   "id": "c0a99956-56a7-48e4-b8e8-ca064d2bb5da",
   "metadata": {
    "tags": []
   },
   "outputs": [
    {
     "ename": "NameError",
     "evalue": "name 'peaks' is not defined",
     "output_type": "error",
     "traceback": [
      "\u001b[1;31m---------------------------------------------------------------------------\u001b[0m",
      "\u001b[1;31mNameError\u001b[0m                                 Traceback (most recent call last)",
      "Cell \u001b[1;32mIn[11], line 1\u001b[0m\n\u001b[1;32m----> 1\u001b[0m \u001b[38;5;28mprint\u001b[39m(\u001b[38;5;28mlen\u001b[39m(peaks)\u001b[38;5;241m/\u001b[39m\u001b[38;5;241m5\u001b[39m)\n\u001b[0;32m      3\u001b[0m baseline_start \u001b[38;5;241m=\u001b[39m peaks[\u001b[38;5;241m50\u001b[39m:\u001b[38;5;241m177\u001b[39m]\n\u001b[0;32m      4\u001b[0m condition_1 \u001b[38;5;241m=\u001b[39m peaks[\u001b[38;5;241m178\u001b[39m:\u001b[38;5;241m177\u001b[39m\u001b[38;5;241m*\u001b[39m\u001b[38;5;241m2\u001b[39m]\n",
      "\u001b[1;31mNameError\u001b[0m: name 'peaks' is not defined"
     ]
    }
   ],
   "source": [
    "print(len(peaks)/5)\n",
    "\n",
    "baseline_start = peaks[50:177]\n",
    "condition_1 = peaks[178:177*2]\n",
    "condition_2 = peaks[2*177:177*3]\n",
    "condition_3 = peaks[3*177:177*4]\n",
    "baseline_end = peaks[4*177:177*5]\n"
   ]
  },
  {
   "cell_type": "code",
   "execution_count": null,
   "id": "c043a264-90dc-48e0-b3be-a1b06c9f201b",
   "metadata": {
    "tags": []
   },
   "outputs": [],
   "source": [
    "plt.plot([0,1,2,3,4], [np.nanmean(np.diff(baseline_start)), \n",
    "                      np.nanmean(np.diff(condition_1)),\n",
    "                      np.nanmean(np.diff(condition_2)),\n",
    "                      np.nanmean(np.diff(condition_3)),\n",
    "                      np.nanmean(np.diff(baseline_end)),], 'r-o')"
   ]
  },
  {
   "cell_type": "code",
   "execution_count": null,
   "id": "08240748-f49a-4e37-b3cc-93096ac892cb",
   "metadata": {
    "tags": []
   },
   "outputs": [],
   "source": [
    "baseline_start_hr = len(peaks[50:177]) / (peaks[50:177] * (1/sampling_rate) * 60)\n",
    "condition_1_hr = len(peaks[178:177*2]) / (peaks[178:177*2] * (1/sampling_rate) * 60)\n",
    "condition_2_hr = len(peaks[2*177:177*3]) / (peaks[2*177:177*3] * (1/sampling_rate) * 60)\n",
    "condition_3_hr = len(peaks[3*177:177*4] ) / (peaks[3*177:177*4] * (1/sampling_rate) * 60)\n",
    "baseline_end_hr = len(peaks[4*177:177*5]) / (peaks[4*177:177*5] * (1/sampling_rate) * 60)"
   ]
  },
  {
   "cell_type": "code",
   "execution_count": null,
   "id": "8923ab36-74f6-4330-ad07-ec189ba0c28e",
   "metadata": {
    "tags": []
   },
   "outputs": [],
   "source": [
    "plt.plot([0,1,2,3,4], [np.nanmean(np.diff(baseline_start_hr)), \n",
    "                      np.nanmean(np.diff(condition_1_hr)),\n",
    "                      np.nanmean(np.diff(condition_2_hr)),\n",
    "                      np.nanmean(np.diff(condition_3_hr)),\n",
    "                      np.nanmean(np.diff(baseline_end_hr)),], 'r-o')"
   ]
  },
  {
   "cell_type": "code",
   "execution_count": null,
   "id": "d37abae8-177d-460a-aca3-685aecd67f5a",
   "metadata": {
    "tags": []
   },
   "outputs": [],
   "source": [
    "hr_time_diff = np.diff(peaks)\n",
    "hr_variability = np.std(hr_time_diff)\n",
    "\n",
    "print('Average HRV: ' + str(np.round(np.mean(hr_time_diff * (1/sampling_rate)),3)) + ' SD: ' + str(np.round(hr_variability * (1/sampling_rate),3)))"
   ]
  },
  {
   "cell_type": "code",
   "execution_count": null,
   "id": "145f8868-c6e5-472c-af20-496cd24b42d9",
   "metadata": {},
   "outputs": [],
   "source": [
    "df['HRV'] = hr_time_diff\n"
   ]
  },
  {
   "cell_type": "markdown",
   "id": "fda32472-1984-46ae-bec1-94aee9a32423",
   "metadata": {
    "tags": []
   },
   "source": [
    "### HRV Per condition "
   ]
  },
  {
   "cell_type": "code",
   "execution_count": null,
   "id": "03345aa9-e374-4ff0-a999-84d88077fc93",
   "metadata": {
    "tags": []
   },
   "outputs": [],
   "source": []
  },
  {
   "cell_type": "code",
   "execution_count": null,
   "id": "c5054ab9-556b-4f38-90d8-53ec40ec0645",
   "metadata": {},
   "outputs": [],
   "source": [
    "\n",
    "\n",
    "hr_time_diff = np.diff(peaks)\n",
    "hr_variability = np.std(hr_time_diff)\n",
    "\n",
    "print('Average HRV: ' + str(np.round(np.mean(hr_time_diff * (1/sampling_rate)),3)) + ' SD: ' + str(np.round(hr_variability * (1/sampling_rate),3)))"
   ]
  }
 ],
 "metadata": {
  "kernelspec": {
   "display_name": "Python 3 (ipykernel)",
   "language": "python",
   "name": "python3"
  },
  "language_info": {
   "codemirror_mode": {
    "name": "ipython",
    "version": 3
   },
   "file_extension": ".py",
   "mimetype": "text/x-python",
   "name": "python",
   "nbconvert_exporter": "python",
   "pygments_lexer": "ipython3",
   "version": "3.11.5"
  }
 },
 "nbformat": 4,
 "nbformat_minor": 5
}
