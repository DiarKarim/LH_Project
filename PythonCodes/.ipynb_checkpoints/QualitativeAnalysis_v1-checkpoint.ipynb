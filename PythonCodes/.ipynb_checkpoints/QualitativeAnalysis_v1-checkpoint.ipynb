{
 "cells": [
  {
   "cell_type": "code",
   "execution_count": 62,
   "id": "9c650692-6250-4cf5-8a7c-8e8836f4aab6",
   "metadata": {},
   "outputs": [],
   "source": [
    "import pandas as pd\n",
    "import matplotlib.pyplot as plt\n",
    "import seaborn as sns\n",
    "from scipy.signal import find_peaks\n",
    "import numpy as np\n",
    "from scipy.signal import savgol_filter\n",
    "import os\n",
    "import pingouin as pg\n",
    "\n",
    "from statannot import add_stat_annotation\n",
    "\n",
    "import statsmodels.api as sm\n",
    "import statsmodels.formula.api as smf"
   ]
  },
  {
   "cell_type": "code",
   "execution_count": 16,
   "id": "2ffec649-2bbb-485b-b3f0-582432ee90c8",
   "metadata": {},
   "outputs": [],
   "source": [
    "# path = \"C:/Users/VR-Lab/Documents/Projects/LH_Project/Data/\"\n",
    "path = 'C:/Users/Monter/Projects/LH_Project/Data/'"
   ]
  },
  {
   "cell_type": "code",
   "execution_count": 17,
   "id": "7ce7fe3e-0ea2-4ea0-a213-2d7fd74e583a",
   "metadata": {},
   "outputs": [],
   "source": [
    "file = 'CSV_STAI_data.csv'\n",
    "\n",
    "df = pd.read_csv(path+file)"
   ]
  },
  {
   "cell_type": "code",
   "execution_count": 18,
   "id": "33803c9f-38db-44a5-b3fc-21b234c1ebc7",
   "metadata": {},
   "outputs": [
    {
     "data": {
      "text/html": [
       "<div>\n",
       "<style scoped>\n",
       "    .dataframe tbody tr th:only-of-type {\n",
       "        vertical-align: middle;\n",
       "    }\n",
       "\n",
       "    .dataframe tbody tr th {\n",
       "        vertical-align: top;\n",
       "    }\n",
       "\n",
       "    .dataframe thead th {\n",
       "        text-align: right;\n",
       "    }\n",
       "</style>\n",
       "<table border=\"1\" class=\"dataframe\">\n",
       "  <thead>\n",
       "    <tr style=\"text-align: right;\">\n",
       "      <th></th>\n",
       "      <th>Ptx</th>\n",
       "      <th>Score</th>\n",
       "      <th>Condition</th>\n",
       "      <th>Test</th>\n",
       "    </tr>\n",
       "  </thead>\n",
       "  <tbody>\n",
       "    <tr>\n",
       "      <th>0</th>\n",
       "      <td>YU191200</td>\n",
       "      <td>32</td>\n",
       "      <td>Stress</td>\n",
       "      <td>Pre</td>\n",
       "    </tr>\n",
       "    <tr>\n",
       "      <th>1</th>\n",
       "      <td>HM191200</td>\n",
       "      <td>35</td>\n",
       "      <td>Stress</td>\n",
       "      <td>Pre</td>\n",
       "    </tr>\n",
       "    <tr>\n",
       "      <th>2</th>\n",
       "      <td>NC151300</td>\n",
       "      <td>45</td>\n",
       "      <td>Stress</td>\n",
       "      <td>Pre</td>\n",
       "    </tr>\n",
       "    <tr>\n",
       "      <th>3</th>\n",
       "      <td>RF141630</td>\n",
       "      <td>31</td>\n",
       "      <td>Stress</td>\n",
       "      <td>Pre</td>\n",
       "    </tr>\n",
       "    <tr>\n",
       "      <th>4</th>\n",
       "      <td>SK141430</td>\n",
       "      <td>31</td>\n",
       "      <td>Stress</td>\n",
       "      <td>Pre</td>\n",
       "    </tr>\n",
       "    <tr>\n",
       "      <th>...</th>\n",
       "      <td>...</td>\n",
       "      <td>...</td>\n",
       "      <td>...</td>\n",
       "      <td>...</td>\n",
       "    </tr>\n",
       "    <tr>\n",
       "      <th>69</th>\n",
       "      <td>FF051430</td>\n",
       "      <td>61</td>\n",
       "      <td>Calm</td>\n",
       "      <td>Post</td>\n",
       "    </tr>\n",
       "    <tr>\n",
       "      <th>70</th>\n",
       "      <td>MS071615</td>\n",
       "      <td>25</td>\n",
       "      <td>Calm</td>\n",
       "      <td>Post</td>\n",
       "    </tr>\n",
       "    <tr>\n",
       "      <th>71</th>\n",
       "      <td>LC071300</td>\n",
       "      <td>49</td>\n",
       "      <td>Calm</td>\n",
       "      <td>Post</td>\n",
       "    </tr>\n",
       "    <tr>\n",
       "      <th>72</th>\n",
       "      <td>OS121430</td>\n",
       "      <td>28</td>\n",
       "      <td>Calm</td>\n",
       "      <td>Post</td>\n",
       "    </tr>\n",
       "    <tr>\n",
       "      <th>73</th>\n",
       "      <td>GS191000</td>\n",
       "      <td>21</td>\n",
       "      <td>Calm</td>\n",
       "      <td>Post</td>\n",
       "    </tr>\n",
       "  </tbody>\n",
       "</table>\n",
       "<p>74 rows × 4 columns</p>\n",
       "</div>"
      ],
      "text/plain": [
       "         Ptx  Score Condition  Test\n",
       "0   YU191200     32    Stress   Pre\n",
       "1   HM191200     35    Stress   Pre\n",
       "2   NC151300     45    Stress   Pre\n",
       "3   RF141630     31    Stress   Pre\n",
       "4   SK141430     31    Stress   Pre\n",
       "..       ...    ...       ...   ...\n",
       "69  FF051430     61      Calm  Post\n",
       "70  MS071615     25      Calm  Post\n",
       "71  LC071300     49      Calm  Post\n",
       "72  OS121430     28      Calm  Post\n",
       "73  GS191000     21      Calm  Post\n",
       "\n",
       "[74 rows x 4 columns]"
      ]
     },
     "execution_count": 18,
     "metadata": {},
     "output_type": "execute_result"
    }
   ],
   "source": [
    "df"
   ]
  },
  {
   "cell_type": "markdown",
   "id": "7ef09ea7-f343-4ee2-9b15-bd10d741d69b",
   "metadata": {},
   "source": [
    "### First check for distribution"
   ]
  },
  {
   "cell_type": "code",
   "execution_count": 24,
   "id": "ac93e4c5-06f3-4bb7-9661-53ec9995077f",
   "metadata": {},
   "outputs": [
    {
     "data": {
      "text/html": [
       "<div>\n",
       "<style scoped>\n",
       "    .dataframe tbody tr th:only-of-type {\n",
       "        vertical-align: middle;\n",
       "    }\n",
       "\n",
       "    .dataframe tbody tr th {\n",
       "        vertical-align: top;\n",
       "    }\n",
       "\n",
       "    .dataframe thead th {\n",
       "        text-align: right;\n",
       "    }\n",
       "</style>\n",
       "<table border=\"1\" class=\"dataframe\">\n",
       "  <thead>\n",
       "    <tr style=\"text-align: right;\">\n",
       "      <th></th>\n",
       "      <th>W</th>\n",
       "      <th>pval</th>\n",
       "      <th>normal</th>\n",
       "    </tr>\n",
       "  </thead>\n",
       "  <tbody>\n",
       "    <tr>\n",
       "      <th>Score</th>\n",
       "      <td>0.92246</td>\n",
       "      <td>0.000226</td>\n",
       "      <td>False</td>\n",
       "    </tr>\n",
       "  </tbody>\n",
       "</table>\n",
       "</div>"
      ],
      "text/plain": [
       "             W      pval  normal\n",
       "Score  0.92246  0.000226   False"
      ]
     },
     "execution_count": 24,
     "metadata": {},
     "output_type": "execute_result"
    }
   ],
   "source": [
    "pg.normality(df['Score'])"
   ]
  },
  {
   "cell_type": "code",
   "execution_count": 64,
   "id": "1fe1b79b-57cb-4b56-af53-6980d8f4666e",
   "metadata": {},
   "outputs": [
    {
     "data": {
      "text/plain": [
       "<AxesSubplot:xlabel='Score', ylabel='Count'>"
      ]
     },
     "execution_count": 64,
     "metadata": {},
     "output_type": "execute_result"
    },
    {
     "data": {
      "image/png": "[encoded data removed]",
      "text/plain": [
       "<Figure size 432x288 with 1 Axes>"
      ]
     },
     "metadata": {
      "needs_background": "light"
     },
     "output_type": "display_data"
    }
   ],
   "source": [
    "sns.histplot(x='Score', data=df, kde=True)"
   ]
  },
  {
   "cell_type": "markdown",
   "id": "2d89d5a7-e54e-4f34-ac3b-cb90b6629ffb",
   "metadata": {},
   "source": [
    "### Then that tells you to apply a non-parametric test, e.g. Friedman test (pinch of salt)"
   ]
  },
  {
   "cell_type": "code",
   "execution_count": null,
   "id": "a57a5e65-3404-46e7-bb13-4e6989eabf39",
   "metadata": {},
   "outputs": [],
   "source": [
    "md = smf.mixedlm(\"Score ~ Test+Condition\", data, groups=data[\"ptx\"])\n",
    "mdf = md.fit()\n",
    "\n",
    "print(mdf.round(3))"
   ]
  },
  {
   "cell_type": "code",
   "execution_count": 32,
   "id": "f51b3c82-1376-46b5-bd32-12f07bc18e96",
   "metadata": {},
   "outputs": [
    {
     "name": "stderr",
     "output_type": "stream",
     "text": [
      "C:\\ProgramData\\Anaconda3\\lib\\site-packages\\pingouin\\parametric.py:551: FutureWarning: Not prepending group keys to the result index of transform-like apply. In the future, the group keys will be included in the index, regardless of whether the applied function returns a like-indexed object.\n",
      "To preserve the previous behavior, use\n",
      "\n",
      "\t>>> .groupby(..., group_keys=False)\n",
      "\n",
      "To adopt the future behavior and silence this warning, use \n",
      "\n",
      "\t>>> .groupby(..., group_keys=True)\n",
      "  ss_resall = grp_with.apply(lambda x: (x - x.mean()) ** 2).sum()\n",
      "C:\\ProgramData\\Anaconda3\\lib\\site-packages\\pingouin\\parametric.py:992: FutureWarning: Not prepending group keys to the result index of transform-like apply. In the future, the group keys will be included in the index, regardless of whether the applied function returns a like-indexed object.\n",
      "To preserve the previous behavior, use\n",
      "\n",
      "\t>>> .groupby(..., group_keys=False)\n",
      "\n",
      "To adopt the future behavior and silence this warning, use \n",
      "\n",
      "\t>>> .groupby(..., group_keys=True)\n",
      "  sserror = grp.apply(lambda x: (x - x.mean()) ** 2).sum()\n",
      "C:\\ProgramData\\Anaconda3\\lib\\site-packages\\pingouin\\parametric.py:1512: FutureWarning: Not prepending group keys to the result index of transform-like apply. In the future, the group keys will be included in the index, regardless of whether the applied function returns a like-indexed object.\n",
      "To preserve the previous behavior, use\n",
      "\n",
      "\t>>> .groupby(..., group_keys=False)\n",
      "\n",
      "To adopt the future behavior and silence this warning, use \n",
      "\n",
      "\t>>> .groupby(..., group_keys=True)\n",
      "  ss_resall = grp.apply(lambda x: (x - x.mean()) ** 2).sum()\n"
     ]
    },
    {
     "data": {
      "text/html": [
       "<div>\n",
       "<style scoped>\n",
       "    .dataframe tbody tr th:only-of-type {\n",
       "        vertical-align: middle;\n",
       "    }\n",
       "\n",
       "    .dataframe tbody tr th {\n",
       "        vertical-align: top;\n",
       "    }\n",
       "\n",
       "    .dataframe thead th {\n",
       "        text-align: right;\n",
       "    }\n",
       "</style>\n",
       "<table border=\"1\" class=\"dataframe\">\n",
       "  <thead>\n",
       "    <tr style=\"text-align: right;\">\n",
       "      <th></th>\n",
       "      <th>Source</th>\n",
       "      <th>SS</th>\n",
       "      <th>DF1</th>\n",
       "      <th>DF2</th>\n",
       "      <th>MS</th>\n",
       "      <th>F</th>\n",
       "      <th>p-unc</th>\n",
       "      <th>ng2</th>\n",
       "      <th>eps</th>\n",
       "    </tr>\n",
       "  </thead>\n",
       "  <tbody>\n",
       "    <tr>\n",
       "      <th>0</th>\n",
       "      <td>Condition</td>\n",
       "      <td>91.893</td>\n",
       "      <td>1</td>\n",
       "      <td>35</td>\n",
       "      <td>91.893</td>\n",
       "      <td>0.428</td>\n",
       "      <td>0.517</td>\n",
       "      <td>0.010</td>\n",
       "      <td>NaN</td>\n",
       "    </tr>\n",
       "    <tr>\n",
       "      <th>1</th>\n",
       "      <td>Test</td>\n",
       "      <td>288.054</td>\n",
       "      <td>1</td>\n",
       "      <td>35</td>\n",
       "      <td>288.054</td>\n",
       "      <td>5.626</td>\n",
       "      <td>0.023</td>\n",
       "      <td>0.030</td>\n",
       "      <td>1.0</td>\n",
       "    </tr>\n",
       "    <tr>\n",
       "      <th>2</th>\n",
       "      <td>Interaction</td>\n",
       "      <td>235.825</td>\n",
       "      <td>1</td>\n",
       "      <td>35</td>\n",
       "      <td>235.825</td>\n",
       "      <td>4.606</td>\n",
       "      <td>0.039</td>\n",
       "      <td>0.025</td>\n",
       "      <td>NaN</td>\n",
       "    </tr>\n",
       "  </tbody>\n",
       "</table>\n",
       "</div>"
      ],
      "text/plain": [
       "        Source       SS  DF1  DF2       MS      F  p-unc    ng2  eps\n",
       "0    Condition   91.893    1   35   91.893  0.428  0.517  0.010  NaN\n",
       "1         Test  288.054    1   35  288.054  5.626  0.023  0.030  1.0\n",
       "2  Interaction  235.825    1   35  235.825  4.606  0.039  0.025  NaN"
      ]
     },
     "execution_count": 32,
     "metadata": {},
     "output_type": "execute_result"
    }
   ],
   "source": [
    "pg.mixed_anova(dv='Score', between='Condition', within='Test',\n",
    "               subject='Ptx', effsize=\"ng2\", data=df).round(3)"
   ]
  },
  {
   "cell_type": "markdown",
   "id": "800ba167-3213-4c17-ba0d-3f4c7f16ecad",
   "metadata": {},
   "source": [
    "### Before the post-hoc test, let's look at the distribution for the individual conditions we are about to compare"
   ]
  },
  {
   "cell_type": "code",
   "execution_count": 61,
   "id": "d3313d51-08d6-4452-95fa-aef3a901e2d4",
   "metadata": {},
   "outputs": [
    {
     "name": "stdout",
     "output_type": "stream",
     "text": [
      "             W      pval  normal\n",
      "Score  0.92355  0.131638    True\n",
      "              W      pval  normal\n",
      "Score  0.941228  0.277446    True\n",
      "              W      pval  normal\n",
      "Score  0.856686  0.010815   False\n",
      "              W     pval  normal\n",
      "Score  0.950891  0.43916    True\n"
     ]
    }
   ],
   "source": [
    "mask1=(df['Condition'] == 'Stress') & (df['Test'] == 'Pre')\n",
    "mask2=(df['Condition'] == 'Stress') & (df['Test'] == 'Post')\n",
    "mask3=(df['Condition'] == 'Calm') & (df['Test'] == 'Pre')\n",
    "mask4=(df['Condition'] == 'Calm') & (df['Test'] == 'Post')\n",
    "\n",
    "print(pg.normality(df[mask1]['Score']))\n",
    "print(pg.normality(df[mask2]['Score']))\n",
    "print(pg.normality(df[mask3]['Score']))\n",
    "print(pg.normality(df[mask4]['Score']))\n"
   ]
  },
  {
   "cell_type": "markdown",
   "id": "6639fb48-765b-405c-95c3-fef965cdc05e",
   "metadata": {},
   "source": [
    "### Post-Hoc test i.e. pairwise comparisons between all the condition in order to ...\n",
    "disentangle where the significance in the Test (Pre-Post) and where the significance in the interaction happens "
   ]
  },
  {
   "cell_type": "code",
   "execution_count": 58,
   "id": "fc60de51-c039-4c5a-9da6-8064750085a4",
   "metadata": {},
   "outputs": [
    {
     "name": "stdout",
     "output_type": "stream",
     "text": [
      "p-value annotation legend:\n",
      "ns: 5.00e-02 < p <= 1.00e+00\n",
      "*: 1.00e-02 < p <= 5.00e-02\n",
      "**: 1.00e-03 < p <= 1.00e-02\n",
      "***: 1.00e-04 < p <= 1.00e-03\n",
      "****: p <= 1.00e-04\n",
      "\n",
      "Stress_Pre v.s. Stress_Post: Welch's t-test independent samples with Bonferroni correction, P_val=2.022e-01 stat=-2.031e+00\n",
      "Calm_Pre v.s. Calm_Post: Welch's t-test independent samples with Bonferroni correction, P_val=1.000e+00 stat=-7.063e-02\n",
      "Calm_Pre v.s. Stress_Pre: Welch's t-test independent samples with Bonferroni correction, P_val=1.000e+00 stat=3.705e-01\n",
      "Calm_Post v.s. Stress_Post: Welch's t-test independent samples with Bonferroni correction, P_val=6.087e-01 stat=-1.464e+00\n",
      "(<AxesSubplot:xlabel='Condition', ylabel='Score'>, [<statannot.StatResult.StatResult object at 0x0000020FDBA064C0>, <statannot.StatResult.StatResult object at 0x0000020FDB9B0640>, <statannot.StatResult.StatResult object at 0x0000020FDBA065E0>, <statannot.StatResult.StatResult object at 0x0000020FDBB98550>])\n"
     ]
    },
    {
     "data": {
      "image/png": "[encoded data removed]",
      "text/plain": [
       "<Figure size 432x288 with 1 Axes>"
      ]
     },
     "metadata": {
      "needs_background": "light"
     },
     "output_type": "display_data"
    }
   ],
   "source": [
    "order = ['Calm', 'Stress']\n",
    "x='Condition'\n",
    "y='Score'\n",
    "hue='Test'\n",
    "box_pairs = [(('Calm','Pre'), ('Calm','Post')),\n",
    "             (('Stress','Pre'), ('Stress','Post')),\n",
    "             (('Calm','Pre'), ('Stress','Pre')),\n",
    "             (('Calm','Post'), ('Stress','Post'))]\n",
    "\n",
    "# This is the main plot without the pairwise comparisons \n",
    "ax1 = sns.barplot(x=x, y=y, hue=hue, order=order, data=df)\n",
    "\n",
    "test_results = add_stat_annotation(ax1, data=df, x=x, y=y, order=order,hue=hue,\n",
    "                                   box_pairs=box_pairs,\n",
    "                                   test='t-test_welch', text_format='star',\n",
    "                                   loc='outside', verbose=2)\n",
    "\n",
    "print(test_results)"
   ]
  }
 ],
 "metadata": {
  "kernelspec": {
   "display_name": "Python 3",
   "language": "python",
   "name": "python3"
  },
  "language_info": {
   "codemirror_mode": {
    "name": "ipython",
    "version": 3
   },
   "file_extension": ".py",
   "mimetype": "text/x-python",
   "name": "python",
   "nbconvert_exporter": "python",
   "pygments_lexer": "ipython3",
   "version": "3.8.8"
  }
 },
 "nbformat": 4,
 "nbformat_minor": 5
}
